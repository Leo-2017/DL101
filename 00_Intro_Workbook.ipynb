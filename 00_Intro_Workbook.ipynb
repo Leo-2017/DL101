{
  "nbformat": 4,
  "nbformat_minor": 0,
  "metadata": {
    "accelerator": "GPU",
    "colab": {
      "name": "00_Intro_Workbook.ipynb",
      "provenance": [],
      "collapsed_sections": [],
      "include_colab_link": true
    },
    "kernelspec": {
      "display_name": "Python 3",
      "name": "python3"
    },
    "language_info": {
      "name": "python"
    }
  },
  "cells": [
    {
      "cell_type": "markdown",
      "metadata": {
        "id": "view-in-github",
        "colab_type": "text"
      },
      "source": [
        "<a href=\"https://colab.research.google.com/github/unpackAI/DL101/blob/main/00_Intro_Workbook.ipynb\" target=\"_parent\"><img src=\"https://colab.research.google.com/assets/colab-badge.svg\" alt=\"Open In Colab\"/></a>"
      ]
    },
    {
      "cell_type": "markdown",
      "metadata": {
        "id": "7j04QL-TPJy1"
      },
      "source": [
        "# 💻Week 0 Workbook of unpackAI \"DL101 Bootcamp\"\n",
        "\n",
        "## Week 0 Deliverables\n",
        "\n",
        "We put special attention on finishing all of your assignments listed below. You will be asked to demonstrate the completion of them as well as understanding during the next Session.\n",
        "\n",
        "## 📕 Learning Objectives\n",
        "\n",
        "* Review and conceptualise the content learned in Week 0.\n",
        "* Strenghten your theoretical foundation in AI/ML.\n"
      ]
    },
    {
      "cell_type": "code",
      "metadata": {
        "cellView": "form",
        "colab": {
          "background_save": true,
          "base_uri": "https://localhost:8080/"
        },
        "id": "eh4mZRj6viNI",
        "outputId": "912ff570-d4e4-46a7-dd2c-a55f94d50245"
      },
      "source": [
        "#@title Run this cell to install all libraries (packages of techniques) that we need.\n",
        "!pip install -Uqq fastbook\n",
        "from fastbook import *"
      ],
      "execution_count": null,
      "outputs": [
        {
          "name": "stdout",
          "output_type": "stream",
          "text": [
            "\u001b[K     |████████████████████████████████| 720 kB 5.3 MB/s \n",
            "\u001b[K     |████████████████████████████████| 1.2 MB 34.3 MB/s \n",
            "\u001b[K     |████████████████████████████████| 189 kB 47.1 MB/s \n",
            "\u001b[K     |████████████████████████████████| 46 kB 4.3 MB/s \n",
            "\u001b[K     |████████████████████████████████| 56 kB 4.0 MB/s \n",
            "\u001b[K     |████████████████████████████████| 51 kB 321 kB/s \n",
            "\u001b[?25h"
          ]
        }
      ]
    },
    {
      "cell_type": "markdown",
      "metadata": {
        "id": "LZg4nTJv9mVp"
      },
      "source": [
        "## unpackAI Assignment Section\n",
        "\n",
        "* **Assignment 1**: Go through the questions below, research and write down your answer.\n",
        "> Be prepared to answer these questions during the presentation session with the group.\n",
        "* **Assignment 2**: Prepare to verbally describe the Deep Learning Process in your own words. Provide a practical example along with your description.\n",
        "> Be prepared to present it during the presentation session.\n",
        "\n"
      ]
    },
    {
      "cell_type": "markdown",
      "metadata": {
        "id": "HREDcuNgGoKl"
      },
      "source": [
        "## **Assignment 1:** Go through the question below, research and write down your answer."
      ]
    },
    {
      "cell_type": "markdown",
      "metadata": {
        "id": "Wx1lqwzOMmMl"
      },
      "source": [
        "1. What is the difference between AI, Machine Learning and Deep Learning?\n"
      ]
    },
    {
      "cell_type": "markdown",
      "metadata": {
        "id": "qnJ4zP6CxTca"
      },
      "source": [
        "## **Assignment 2:** Prepare to verbally describe the Deep Learning Process in your own words."
      ]
    },
    {
      "cell_type": "markdown",
      "metadata": {
        "id": "f2N4FhDixdYR"
      },
      "source": [
        "Below is the Deep Learning Model Training Process that we described in the coursebook. Make sure to understand each step and how they relate to each other."
      ]
    },
    {
      "cell_type": "code",
      "metadata": {
        "cellView": "form",
        "colab": {
          "base_uri": "https://localhost:8080/",
          "height": 200
        },
        "id": "fGBQ7I7Sefhj",
        "outputId": "15d59386-d248-4bc6-f649-cb550e957707"
      },
      "source": [
        "#@title\n",
        "matplotlib.rc('image', cmap='Greys')\n",
        "gv('''ordering=in\n",
        "model[shape=box3d width=1 height=0.7 label=\"Neural Network + Parameters\"]\n",
        "inputs->model->predictions; labels->loss; predictions->loss\n",
        "loss->model[constraint=false label=update]''')"
      ],
      "execution_count": null,
      "outputs": [
        {
          "data": {
            "image/svg+xml": "<?xml version=\"1.0\" encoding=\"UTF-8\" standalone=\"no\"?>\n<!DOCTYPE svg PUBLIC \"-//W3C//DTD SVG 1.1//EN\"\n \"http://www.w3.org/Graphics/SVG/1.1/DTD/svg11.dtd\">\n<!-- Generated by graphviz version 2.40.1 (20161225.0304)\n -->\n<!-- Title: G Pages: 1 -->\n<svg width=\"531pt\" height=\"134pt\"\n viewBox=\"0.00 0.00 530.58 134.50\" xmlns=\"http://www.w3.org/2000/svg\" xmlns:xlink=\"http://www.w3.org/1999/xlink\">\n<g id=\"graph0\" class=\"graph\" transform=\"scale(1 1) rotate(0) translate(4 130.497)\">\n<title>G</title>\n<polygon fill=\"#ffffff\" stroke=\"transparent\" points=\"-4,4 -4,-130.497 526.5848,-130.497 526.5848,4 -4,4\"/>\n<!-- model -->\n<g id=\"node1\" class=\"node\">\n<title>model</title>\n<polygon fill=\"none\" stroke=\"#000000\" points=\"290.594,-79.497 108.594,-79.497 104.594,-75.497 104.594,-29.497 286.594,-29.497 290.594,-33.497 290.594,-79.497\"/>\n<polyline fill=\"none\" stroke=\"#000000\" points=\"286.594,-75.497 104.594,-75.497 \"/>\n<polyline fill=\"none\" stroke=\"#000000\" points=\"286.594,-75.497 286.594,-29.497 \"/>\n<polyline fill=\"none\" stroke=\"#000000\" points=\"286.594,-75.497 290.594,-79.497 \"/>\n<text text-anchor=\"middle\" x=\"197.594\" y=\"-50.797\" font-family=\"Times,serif\" font-size=\"14.00\" fill=\"#000000\">Neural Network + Parameters</text>\n</g>\n<!-- predictions -->\n<g id=\"node3\" class=\"node\">\n<title>predictions</title>\n<ellipse fill=\"none\" stroke=\"#000000\" cx=\"379.5894\" cy=\"-54.497\" rx=\"51.9908\" ry=\"18\"/>\n<text text-anchor=\"middle\" x=\"379.5894\" y=\"-50.797\" font-family=\"Times,serif\" font-size=\"14.00\" fill=\"#000000\">predictions</text>\n</g>\n<!-- model&#45;&gt;predictions -->\n<g id=\"edge2\" class=\"edge\">\n<title>model&#45;&gt;predictions</title>\n<path fill=\"none\" stroke=\"#000000\" d=\"M290.7243,-54.497C299.6775,-54.497 308.6032,-54.497 317.1544,-54.497\"/>\n<polygon fill=\"#000000\" stroke=\"#000000\" points=\"317.3759,-57.9971 327.3759,-54.497 317.3758,-50.9971 317.3759,-57.9971\"/>\n</g>\n<!-- inputs -->\n<g id=\"node2\" class=\"node\">\n<title>inputs</title>\n<ellipse fill=\"none\" stroke=\"#000000\" cx=\"33.797\" cy=\"-54.497\" rx=\"33.5952\" ry=\"18\"/>\n<text text-anchor=\"middle\" x=\"33.797\" y=\"-50.797\" font-family=\"Times,serif\" font-size=\"14.00\" fill=\"#000000\">inputs</text>\n</g>\n<!-- inputs&#45;&gt;model -->\n<g id=\"edge1\" class=\"edge\">\n<title>inputs&#45;&gt;model</title>\n<path fill=\"none\" stroke=\"#000000\" d=\"M67.7358,-54.497C75.8728,-54.497 84.9851,-54.497 94.5077,-54.497\"/>\n<polygon fill=\"#000000\" stroke=\"#000000\" points=\"94.5561,-57.9971 104.5561,-54.497 94.5561,-50.9971 94.5561,-57.9971\"/>\n</g>\n<!-- loss -->\n<g id=\"node5\" class=\"node\">\n<title>loss</title>\n<ellipse fill=\"none\" stroke=\"#000000\" cx=\"495.5848\" cy=\"-81.497\" rx=\"27\" ry=\"18\"/>\n<text text-anchor=\"middle\" x=\"495.5848\" y=\"-77.797\" font-family=\"Times,serif\" font-size=\"14.00\" fill=\"#000000\">loss</text>\n</g>\n<!-- predictions&#45;&gt;loss -->\n<g id=\"edge4\" class=\"edge\">\n<title>predictions&#45;&gt;loss</title>\n<path fill=\"none\" stroke=\"#000000\" d=\"M422.7818,-64.5508C435.0372,-67.4035 448.2379,-70.4762 459.9889,-73.2114\"/>\n<polygon fill=\"#000000\" stroke=\"#000000\" points=\"459.349,-76.656 469.8821,-75.5143 460.936,-69.8383 459.349,-76.656\"/>\n</g>\n<!-- labels -->\n<g id=\"node4\" class=\"node\">\n<title>labels</title>\n<ellipse fill=\"none\" stroke=\"#000000\" cx=\"379.5894\" cy=\"-108.497\" rx=\"31.6951\" ry=\"18\"/>\n<text text-anchor=\"middle\" x=\"379.5894\" y=\"-104.797\" font-family=\"Times,serif\" font-size=\"14.00\" fill=\"#000000\">labels</text>\n</g>\n<!-- labels&#45;&gt;loss -->\n<g id=\"edge3\" class=\"edge\">\n<title>labels&#45;&gt;loss</title>\n<path fill=\"none\" stroke=\"#000000\" d=\"M409.1601,-101.6139C424.724,-97.9911 443.9165,-93.5237 460.2588,-89.7198\"/>\n<polygon fill=\"#000000\" stroke=\"#000000\" points=\"461.0618,-93.1265 470.008,-87.4505 459.4748,-86.3088 461.0618,-93.1265\"/>\n</g>\n<!-- loss&#45;&gt;model -->\n<g id=\"edge5\" class=\"edge\">\n<title>loss&#45;&gt;model</title>\n<path fill=\"none\" stroke=\"#000000\" d=\"M485.8474,-64.702C475.0292,-47.9029 455.8442,-23.0839 431.5848,-12.497 375.3755,12.0327 305.5838,-6.0643 256.9151,-25.5676\"/>\n<polygon fill=\"#000000\" stroke=\"#000000\" points=\"255.3751,-22.417 247.4733,-29.4748 258.0517,-28.885 255.3751,-22.417\"/>\n<text text-anchor=\"middle\" x=\"379.5894\" y=\"-16.297\" font-family=\"Times,serif\" font-size=\"14.00\" fill=\"#000000\">update</text>\n</g>\n</g>\n</svg>\n",
            "text/plain": [
              "<graphviz.files.Source at 0x7f9a7ad11550>"
            ]
          },
          "execution_count": 3,
          "metadata": {},
          "output_type": "execute_result"
        }
      ]
    },
    {
      "cell_type": "markdown",
      "metadata": {
        "id": "r3NKustzR5mr"
      },
      "source": [
        "## **Assignment 3:** Come up with personal use cases how to utilize Deep Learning for you."
      ]
    },
    {
      "cell_type": "markdown",
      "metadata": {
        "id": "GRYDHtjpSFKu"
      },
      "source": [
        "With your current understanding of the 4 areas of application, think what application you would build at work or out of personal interest.\n",
        "\n",
        "|Field |Definition | My Use Case |\n",
        "|:---| :---  | :--- |\n",
        "Computer vision| Enable computers and systems to derive meaningful information from digital images, videos and other visual inputs. | TYPE HERE\n",
        "Tabular Data|Tabular data is data that is structured into rows, each of which contains information about some thing. |TYPE HERE\n",
        "Recommendation systems|Algorithms aimed at suggesting relevant items to users. |TYPE HERE\n",
        "Natural language processing (NLP)|Machines that understand and respond to text or voice data in much the same way humans do. | TYPE HERE"
      ]
    },
    {
      "cell_type": "markdown",
      "metadata": {
        "id": "kj06TS0rjAnz"
      },
      "source": [
        "## End of the Notebook\n",
        "\n",
        "You have finished the deliverables of the first week of the unpackAI Bootcamp. You are getting there! We are excited to see your results and test you in the upcoming Mentor Session."
      ]
    }
  ]
}