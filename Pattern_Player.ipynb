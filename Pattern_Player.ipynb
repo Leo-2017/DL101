{
  "nbformat": 4,
  "nbformat_minor": 0,
  "metadata": {
    "colab": {
      "name": "Pattern Player.ipynb",
      "provenance": [],
      "collapsed_sections": [],
      "include_colab_link": true
    },
    "jupytext": {
      "split_at_heading": true
    },
    "kernelspec": {
      "display_name": "Python 3",
      "language": "python",
      "name": "python3"
    },
    "gpuClass": "standard",
    "widgets": {
      "application/vnd.jupyter.widget-state+json": {
        "ffb2333591864a5ea6400b2a3254166e": {
          "model_module": "@jupyter-widgets/controls",
          "model_name": "HBoxModel",
          "model_module_version": "1.5.0",
          "state": {
            "_dom_classes": [],
            "_model_module": "@jupyter-widgets/controls",
            "_model_module_version": "1.5.0",
            "_model_name": "HBoxModel",
            "_view_count": null,
            "_view_module": "@jupyter-widgets/controls",
            "_view_module_version": "1.5.0",
            "_view_name": "HBoxView",
            "box_style": "",
            "children": [
              "IPY_MODEL_e36d87b9b9714675b4d1ee65a75ebd12",
              "IPY_MODEL_cff5b006277346f5bef3bcdc810ca340",
              "IPY_MODEL_37f311e329d64904b4864257588177ed"
            ],
            "layout": "IPY_MODEL_f65191d1a3da49cf90950c3ad49a8648"
          }
        },
        "e36d87b9b9714675b4d1ee65a75ebd12": {
          "model_module": "@jupyter-widgets/controls",
          "model_name": "HTMLModel",
          "model_module_version": "1.5.0",
          "state": {
            "_dom_classes": [],
            "_model_module": "@jupyter-widgets/controls",
            "_model_module_version": "1.5.0",
            "_model_name": "HTMLModel",
            "_view_count": null,
            "_view_module": "@jupyter-widgets/controls",
            "_view_module_version": "1.5.0",
            "_view_name": "HTMLView",
            "description": "",
            "description_tooltip": null,
            "layout": "IPY_MODEL_5f5d9a3ce0cb45589255bb37eaf0bc3e",
            "placeholder": "​",
            "style": "IPY_MODEL_899c3d0b7f894aaaa18d54b02d5d90b2",
            "value": "Downloading: 100%"
          }
        },
        "cff5b006277346f5bef3bcdc810ca340": {
          "model_module": "@jupyter-widgets/controls",
          "model_name": "FloatProgressModel",
          "model_module_version": "1.5.0",
          "state": {
            "_dom_classes": [],
            "_model_module": "@jupyter-widgets/controls",
            "_model_module_version": "1.5.0",
            "_model_name": "FloatProgressModel",
            "_view_count": null,
            "_view_module": "@jupyter-widgets/controls",
            "_view_module_version": "1.5.0",
            "_view_name": "ProgressView",
            "bar_style": "success",
            "description": "",
            "description_tooltip": null,
            "layout": "IPY_MODEL_45f2a892cef942aeb51144aa556d07e7",
            "max": 665,
            "min": 0,
            "orientation": "horizontal",
            "style": "IPY_MODEL_b982e1da5cff4290903b73d4d5b63e0c",
            "value": 665
          }
        },
        "37f311e329d64904b4864257588177ed": {
          "model_module": "@jupyter-widgets/controls",
          "model_name": "HTMLModel",
          "model_module_version": "1.5.0",
          "state": {
            "_dom_classes": [],
            "_model_module": "@jupyter-widgets/controls",
            "_model_module_version": "1.5.0",
            "_model_name": "HTMLModel",
            "_view_count": null,
            "_view_module": "@jupyter-widgets/controls",
            "_view_module_version": "1.5.0",
            "_view_name": "HTMLView",
            "description": "",
            "description_tooltip": null,
            "layout": "IPY_MODEL_f55c7f3dc2ac4d0ca5e797247ecdc083",
            "placeholder": "​",
            "style": "IPY_MODEL_de20b18b898143b8b464a3c0ef6cd793",
            "value": " 665/665 [00:00&lt;00:00, 11.3kB/s]"
          }
        },
        "f65191d1a3da49cf90950c3ad49a8648": {
          "model_module": "@jupyter-widgets/base",
          "model_name": "LayoutModel",
          "model_module_version": "1.2.0",
          "state": {
            "_model_module": "@jupyter-widgets/base",
            "_model_module_version": "1.2.0",
            "_model_name": "LayoutModel",
            "_view_count": null,
            "_view_module": "@jupyter-widgets/base",
            "_view_module_version": "1.2.0",
            "_view_name": "LayoutView",
            "align_content": null,
            "align_items": null,
            "align_self": null,
            "border": null,
            "bottom": null,
            "display": null,
            "flex": null,
            "flex_flow": null,
            "grid_area": null,
            "grid_auto_columns": null,
            "grid_auto_flow": null,
            "grid_auto_rows": null,
            "grid_column": null,
            "grid_gap": null,
            "grid_row": null,
            "grid_template_areas": null,
            "grid_template_columns": null,
            "grid_template_rows": null,
            "height": null,
            "justify_content": null,
            "justify_items": null,
            "left": null,
            "margin": null,
            "max_height": null,
            "max_width": null,
            "min_height": null,
            "min_width": null,
            "object_fit": null,
            "object_position": null,
            "order": null,
            "overflow": null,
            "overflow_x": null,
            "overflow_y": null,
            "padding": null,
            "right": null,
            "top": null,
            "visibility": null,
            "width": null
          }
        },
        "5f5d9a3ce0cb45589255bb37eaf0bc3e": {
          "model_module": "@jupyter-widgets/base",
          "model_name": "LayoutModel",
          "model_module_version": "1.2.0",
          "state": {
            "_model_module": "@jupyter-widgets/base",
            "_model_module_version": "1.2.0",
            "_model_name": "LayoutModel",
            "_view_count": null,
            "_view_module": "@jupyter-widgets/base",
            "_view_module_version": "1.2.0",
            "_view_name": "LayoutView",
            "align_content": null,
            "align_items": null,
            "align_self": null,
            "border": null,
            "bottom": null,
            "display": null,
            "flex": null,
            "flex_flow": null,
            "grid_area": null,
            "grid_auto_columns": null,
            "grid_auto_flow": null,
            "grid_auto_rows": null,
            "grid_column": null,
            "grid_gap": null,
            "grid_row": null,
            "grid_template_areas": null,
            "grid_template_columns": null,
            "grid_template_rows": null,
            "height": null,
            "justify_content": null,
            "justify_items": null,
            "left": null,
            "margin": null,
            "max_height": null,
            "max_width": null,
            "min_height": null,
            "min_width": null,
            "object_fit": null,
            "object_position": null,
            "order": null,
            "overflow": null,
            "overflow_x": null,
            "overflow_y": null,
            "padding": null,
            "right": null,
            "top": null,
            "visibility": null,
            "width": null
          }
        },
        "899c3d0b7f894aaaa18d54b02d5d90b2": {
          "model_module": "@jupyter-widgets/controls",
          "model_name": "DescriptionStyleModel",
          "model_module_version": "1.5.0",
          "state": {
            "_model_module": "@jupyter-widgets/controls",
            "_model_module_version": "1.5.0",
            "_model_name": "DescriptionStyleModel",
            "_view_count": null,
            "_view_module": "@jupyter-widgets/base",
            "_view_module_version": "1.2.0",
            "_view_name": "StyleView",
            "description_width": ""
          }
        },
        "45f2a892cef942aeb51144aa556d07e7": {
          "model_module": "@jupyter-widgets/base",
          "model_name": "LayoutModel",
          "model_module_version": "1.2.0",
          "state": {
            "_model_module": "@jupyter-widgets/base",
            "_model_module_version": "1.2.0",
            "_model_name": "LayoutModel",
            "_view_count": null,
            "_view_module": "@jupyter-widgets/base",
            "_view_module_version": "1.2.0",
            "_view_name": "LayoutView",
            "align_content": null,
            "align_items": null,
            "align_self": null,
            "border": null,
            "bottom": null,
            "display": null,
            "flex": null,
            "flex_flow": null,
            "grid_area": null,
            "grid_auto_columns": null,
            "grid_auto_flow": null,
            "grid_auto_rows": null,
            "grid_column": null,
            "grid_gap": null,
            "grid_row": null,
            "grid_template_areas": null,
            "grid_template_columns": null,
            "grid_template_rows": null,
            "height": null,
            "justify_content": null,
            "justify_items": null,
            "left": null,
            "margin": null,
            "max_height": null,
            "max_width": null,
            "min_height": null,
            "min_width": null,
            "object_fit": null,
            "object_position": null,
            "order": null,
            "overflow": null,
            "overflow_x": null,
            "overflow_y": null,
            "padding": null,
            "right": null,
            "top": null,
            "visibility": null,
            "width": null
          }
        },
        "b982e1da5cff4290903b73d4d5b63e0c": {
          "model_module": "@jupyter-widgets/controls",
          "model_name": "ProgressStyleModel",
          "model_module_version": "1.5.0",
          "state": {
            "_model_module": "@jupyter-widgets/controls",
            "_model_module_version": "1.5.0",
            "_model_name": "ProgressStyleModel",
            "_view_count": null,
            "_view_module": "@jupyter-widgets/base",
            "_view_module_version": "1.2.0",
            "_view_name": "StyleView",
            "bar_color": null,
            "description_width": ""
          }
        },
        "f55c7f3dc2ac4d0ca5e797247ecdc083": {
          "model_module": "@jupyter-widgets/base",
          "model_name": "LayoutModel",
          "model_module_version": "1.2.0",
          "state": {
            "_model_module": "@jupyter-widgets/base",
            "_model_module_version": "1.2.0",
            "_model_name": "LayoutModel",
            "_view_count": null,
            "_view_module": "@jupyter-widgets/base",
            "_view_module_version": "1.2.0",
            "_view_name": "LayoutView",
            "align_content": null,
            "align_items": null,
            "align_self": null,
            "border": null,
            "bottom": null,
            "display": null,
            "flex": null,
            "flex_flow": null,
            "grid_area": null,
            "grid_auto_columns": null,
            "grid_auto_flow": null,
            "grid_auto_rows": null,
            "grid_column": null,
            "grid_gap": null,
            "grid_row": null,
            "grid_template_areas": null,
            "grid_template_columns": null,
            "grid_template_rows": null,
            "height": null,
            "justify_content": null,
            "justify_items": null,
            "left": null,
            "margin": null,
            "max_height": null,
            "max_width": null,
            "min_height": null,
            "min_width": null,
            "object_fit": null,
            "object_position": null,
            "order": null,
            "overflow": null,
            "overflow_x": null,
            "overflow_y": null,
            "padding": null,
            "right": null,
            "top": null,
            "visibility": null,
            "width": null
          }
        },
        "de20b18b898143b8b464a3c0ef6cd793": {
          "model_module": "@jupyter-widgets/controls",
          "model_name": "DescriptionStyleModel",
          "model_module_version": "1.5.0",
          "state": {
            "_model_module": "@jupyter-widgets/controls",
            "_model_module_version": "1.5.0",
            "_model_name": "DescriptionStyleModel",
            "_view_count": null,
            "_view_module": "@jupyter-widgets/base",
            "_view_module_version": "1.2.0",
            "_view_name": "StyleView",
            "description_width": ""
          }
        },
        "770f123a2f8e465d8970523249ddfb2e": {
          "model_module": "@jupyter-widgets/controls",
          "model_name": "HBoxModel",
          "model_module_version": "1.5.0",
          "state": {
            "_dom_classes": [],
            "_model_module": "@jupyter-widgets/controls",
            "_model_module_version": "1.5.0",
            "_model_name": "HBoxModel",
            "_view_count": null,
            "_view_module": "@jupyter-widgets/controls",
            "_view_module_version": "1.5.0",
            "_view_name": "HBoxView",
            "box_style": "",
            "children": [
              "IPY_MODEL_97461d6ce6544b7182789b12326e98ae",
              "IPY_MODEL_bb512630bba34eeaaa2045034a3ad91f",
              "IPY_MODEL_2a23f3a63f484e62a39ebcec7891dd66"
            ],
            "layout": "IPY_MODEL_a0cb2fd61994439494cd87c4e3846cee"
          }
        },
        "97461d6ce6544b7182789b12326e98ae": {
          "model_module": "@jupyter-widgets/controls",
          "model_name": "HTMLModel",
          "model_module_version": "1.5.0",
          "state": {
            "_dom_classes": [],
            "_model_module": "@jupyter-widgets/controls",
            "_model_module_version": "1.5.0",
            "_model_name": "HTMLModel",
            "_view_count": null,
            "_view_module": "@jupyter-widgets/controls",
            "_view_module_version": "1.5.0",
            "_view_name": "HTMLView",
            "description": "",
            "description_tooltip": null,
            "layout": "IPY_MODEL_4775a27053c74585b7c427e8a3295969",
            "placeholder": "​",
            "style": "IPY_MODEL_1091352016d54adbb21aebb52dc8da6d",
            "value": "Downloading: 100%"
          }
        },
        "bb512630bba34eeaaa2045034a3ad91f": {
          "model_module": "@jupyter-widgets/controls",
          "model_name": "FloatProgressModel",
          "model_module_version": "1.5.0",
          "state": {
            "_dom_classes": [],
            "_model_module": "@jupyter-widgets/controls",
            "_model_module_version": "1.5.0",
            "_model_name": "FloatProgressModel",
            "_view_count": null,
            "_view_module": "@jupyter-widgets/controls",
            "_view_module_version": "1.5.0",
            "_view_name": "ProgressView",
            "bar_style": "success",
            "description": "",
            "description_tooltip": null,
            "layout": "IPY_MODEL_c38b44f70e7c49fe838e57ec36ec5eab",
            "max": 548118077,
            "min": 0,
            "orientation": "horizontal",
            "style": "IPY_MODEL_47ab29e6707547618e92cd38c2bd27da",
            "value": 548118077
          }
        },
        "2a23f3a63f484e62a39ebcec7891dd66": {
          "model_module": "@jupyter-widgets/controls",
          "model_name": "HTMLModel",
          "model_module_version": "1.5.0",
          "state": {
            "_dom_classes": [],
            "_model_module": "@jupyter-widgets/controls",
            "_model_module_version": "1.5.0",
            "_model_name": "HTMLModel",
            "_view_count": null,
            "_view_module": "@jupyter-widgets/controls",
            "_view_module_version": "1.5.0",
            "_view_name": "HTMLView",
            "description": "",
            "description_tooltip": null,
            "layout": "IPY_MODEL_55114924e6384c90be5eedff49b8ba4b",
            "placeholder": "​",
            "style": "IPY_MODEL_7f50ffefcc5c4a718ed6dc145bd64937",
            "value": " 548M/548M [00:11&lt;00:00, 49.8MB/s]"
          }
        },
        "a0cb2fd61994439494cd87c4e3846cee": {
          "model_module": "@jupyter-widgets/base",
          "model_name": "LayoutModel",
          "model_module_version": "1.2.0",
          "state": {
            "_model_module": "@jupyter-widgets/base",
            "_model_module_version": "1.2.0",
            "_model_name": "LayoutModel",
            "_view_count": null,
            "_view_module": "@jupyter-widgets/base",
            "_view_module_version": "1.2.0",
            "_view_name": "LayoutView",
            "align_content": null,
            "align_items": null,
            "align_self": null,
            "border": null,
            "bottom": null,
            "display": null,
            "flex": null,
            "flex_flow": null,
            "grid_area": null,
            "grid_auto_columns": null,
            "grid_auto_flow": null,
            "grid_auto_rows": null,
            "grid_column": null,
            "grid_gap": null,
            "grid_row": null,
            "grid_template_areas": null,
            "grid_template_columns": null,
            "grid_template_rows": null,
            "height": null,
            "justify_content": null,
            "justify_items": null,
            "left": null,
            "margin": null,
            "max_height": null,
            "max_width": null,
            "min_height": null,
            "min_width": null,
            "object_fit": null,
            "object_position": null,
            "order": null,
            "overflow": null,
            "overflow_x": null,
            "overflow_y": null,
            "padding": null,
            "right": null,
            "top": null,
            "visibility": null,
            "width": null
          }
        },
        "4775a27053c74585b7c427e8a3295969": {
          "model_module": "@jupyter-widgets/base",
          "model_name": "LayoutModel",
          "model_module_version": "1.2.0",
          "state": {
            "_model_module": "@jupyter-widgets/base",
            "_model_module_version": "1.2.0",
            "_model_name": "LayoutModel",
            "_view_count": null,
            "_view_module": "@jupyter-widgets/base",
            "_view_module_version": "1.2.0",
            "_view_name": "LayoutView",
            "align_content": null,
            "align_items": null,
            "align_self": null,
            "border": null,
            "bottom": null,
            "display": null,
            "flex": null,
            "flex_flow": null,
            "grid_area": null,
            "grid_auto_columns": null,
            "grid_auto_flow": null,
            "grid_auto_rows": null,
            "grid_column": null,
            "grid_gap": null,
            "grid_row": null,
            "grid_template_areas": null,
            "grid_template_columns": null,
            "grid_template_rows": null,
            "height": null,
            "justify_content": null,
            "justify_items": null,
            "left": null,
            "margin": null,
            "max_height": null,
            "max_width": null,
            "min_height": null,
            "min_width": null,
            "object_fit": null,
            "object_position": null,
            "order": null,
            "overflow": null,
            "overflow_x": null,
            "overflow_y": null,
            "padding": null,
            "right": null,
            "top": null,
            "visibility": null,
            "width": null
          }
        },
        "1091352016d54adbb21aebb52dc8da6d": {
          "model_module": "@jupyter-widgets/controls",
          "model_name": "DescriptionStyleModel",
          "model_module_version": "1.5.0",
          "state": {
            "_model_module": "@jupyter-widgets/controls",
            "_model_module_version": "1.5.0",
            "_model_name": "DescriptionStyleModel",
            "_view_count": null,
            "_view_module": "@jupyter-widgets/base",
            "_view_module_version": "1.2.0",
            "_view_name": "StyleView",
            "description_width": ""
          }
        },
        "c38b44f70e7c49fe838e57ec36ec5eab": {
          "model_module": "@jupyter-widgets/base",
          "model_name": "LayoutModel",
          "model_module_version": "1.2.0",
          "state": {
            "_model_module": "@jupyter-widgets/base",
            "_model_module_version": "1.2.0",
            "_model_name": "LayoutModel",
            "_view_count": null,
            "_view_module": "@jupyter-widgets/base",
            "_view_module_version": "1.2.0",
            "_view_name": "LayoutView",
            "align_content": null,
            "align_items": null,
            "align_self": null,
            "border": null,
            "bottom": null,
            "display": null,
            "flex": null,
            "flex_flow": null,
            "grid_area": null,
            "grid_auto_columns": null,
            "grid_auto_flow": null,
            "grid_auto_rows": null,
            "grid_column": null,
            "grid_gap": null,
            "grid_row": null,
            "grid_template_areas": null,
            "grid_template_columns": null,
            "grid_template_rows": null,
            "height": null,
            "justify_content": null,
            "justify_items": null,
            "left": null,
            "margin": null,
            "max_height": null,
            "max_width": null,
            "min_height": null,
            "min_width": null,
            "object_fit": null,
            "object_position": null,
            "order": null,
            "overflow": null,
            "overflow_x": null,
            "overflow_y": null,
            "padding": null,
            "right": null,
            "top": null,
            "visibility": null,
            "width": null
          }
        },
        "47ab29e6707547618e92cd38c2bd27da": {
          "model_module": "@jupyter-widgets/controls",
          "model_name": "ProgressStyleModel",
          "model_module_version": "1.5.0",
          "state": {
            "_model_module": "@jupyter-widgets/controls",
            "_model_module_version": "1.5.0",
            "_model_name": "ProgressStyleModel",
            "_view_count": null,
            "_view_module": "@jupyter-widgets/base",
            "_view_module_version": "1.2.0",
            "_view_name": "StyleView",
            "bar_color": null,
            "description_width": ""
          }
        },
        "55114924e6384c90be5eedff49b8ba4b": {
          "model_module": "@jupyter-widgets/base",
          "model_name": "LayoutModel",
          "model_module_version": "1.2.0",
          "state": {
            "_model_module": "@jupyter-widgets/base",
            "_model_module_version": "1.2.0",
            "_model_name": "LayoutModel",
            "_view_count": null,
            "_view_module": "@jupyter-widgets/base",
            "_view_module_version": "1.2.0",
            "_view_name": "LayoutView",
            "align_content": null,
            "align_items": null,
            "align_self": null,
            "border": null,
            "bottom": null,
            "display": null,
            "flex": null,
            "flex_flow": null,
            "grid_area": null,
            "grid_auto_columns": null,
            "grid_auto_flow": null,
            "grid_auto_rows": null,
            "grid_column": null,
            "grid_gap": null,
            "grid_row": null,
            "grid_template_areas": null,
            "grid_template_columns": null,
            "grid_template_rows": null,
            "height": null,
            "justify_content": null,
            "justify_items": null,
            "left": null,
            "margin": null,
            "max_height": null,
            "max_width": null,
            "min_height": null,
            "min_width": null,
            "object_fit": null,
            "object_position": null,
            "order": null,
            "overflow": null,
            "overflow_x": null,
            "overflow_y": null,
            "padding": null,
            "right": null,
            "top": null,
            "visibility": null,
            "width": null
          }
        },
        "7f50ffefcc5c4a718ed6dc145bd64937": {
          "model_module": "@jupyter-widgets/controls",
          "model_name": "DescriptionStyleModel",
          "model_module_version": "1.5.0",
          "state": {
            "_model_module": "@jupyter-widgets/controls",
            "_model_module_version": "1.5.0",
            "_model_name": "DescriptionStyleModel",
            "_view_count": null,
            "_view_module": "@jupyter-widgets/base",
            "_view_module_version": "1.2.0",
            "_view_name": "StyleView",
            "description_width": ""
          }
        },
        "677f6b4e73374f7c94fd84a0ad6dccab": {
          "model_module": "@jupyter-widgets/controls",
          "model_name": "HBoxModel",
          "model_module_version": "1.5.0",
          "state": {
            "_dom_classes": [],
            "_model_module": "@jupyter-widgets/controls",
            "_model_module_version": "1.5.0",
            "_model_name": "HBoxModel",
            "_view_count": null,
            "_view_module": "@jupyter-widgets/controls",
            "_view_module_version": "1.5.0",
            "_view_name": "HBoxView",
            "box_style": "",
            "children": [
              "IPY_MODEL_7dd7d2fb2c51449184da73eeed48076a",
              "IPY_MODEL_0e64a1ae9eda45eebc2a795a24c8b831",
              "IPY_MODEL_d227787ef7b747b1bb755d1c0231166d"
            ],
            "layout": "IPY_MODEL_f14475f0a30246b0994978c7202ffd7b"
          }
        },
        "7dd7d2fb2c51449184da73eeed48076a": {
          "model_module": "@jupyter-widgets/controls",
          "model_name": "HTMLModel",
          "model_module_version": "1.5.0",
          "state": {
            "_dom_classes": [],
            "_model_module": "@jupyter-widgets/controls",
            "_model_module_version": "1.5.0",
            "_model_name": "HTMLModel",
            "_view_count": null,
            "_view_module": "@jupyter-widgets/controls",
            "_view_module_version": "1.5.0",
            "_view_name": "HTMLView",
            "description": "",
            "description_tooltip": null,
            "layout": "IPY_MODEL_f2efeaf320ab46a8bae1446b85d8694b",
            "placeholder": "​",
            "style": "IPY_MODEL_394adb860bf84e01be887f554e6bf3df",
            "value": "Downloading: 100%"
          }
        },
        "0e64a1ae9eda45eebc2a795a24c8b831": {
          "model_module": "@jupyter-widgets/controls",
          "model_name": "FloatProgressModel",
          "model_module_version": "1.5.0",
          "state": {
            "_dom_classes": [],
            "_model_module": "@jupyter-widgets/controls",
            "_model_module_version": "1.5.0",
            "_model_name": "FloatProgressModel",
            "_view_count": null,
            "_view_module": "@jupyter-widgets/controls",
            "_view_module_version": "1.5.0",
            "_view_name": "ProgressView",
            "bar_style": "success",
            "description": "",
            "description_tooltip": null,
            "layout": "IPY_MODEL_0da8b18e2df84fe4810c85d28d14517b",
            "max": 1042301,
            "min": 0,
            "orientation": "horizontal",
            "style": "IPY_MODEL_adcc7aea465648d9b0d4b737619870a2",
            "value": 1042301
          }
        },
        "d227787ef7b747b1bb755d1c0231166d": {
          "model_module": "@jupyter-widgets/controls",
          "model_name": "HTMLModel",
          "model_module_version": "1.5.0",
          "state": {
            "_dom_classes": [],
            "_model_module": "@jupyter-widgets/controls",
            "_model_module_version": "1.5.0",
            "_model_name": "HTMLModel",
            "_view_count": null,
            "_view_module": "@jupyter-widgets/controls",
            "_view_module_version": "1.5.0",
            "_view_name": "HTMLView",
            "description": "",
            "description_tooltip": null,
            "layout": "IPY_MODEL_34b34043cd03452cba05ed4c53322be8",
            "placeholder": "​",
            "style": "IPY_MODEL_c2da625b8a97445d91101592d01b9a9c",
            "value": " 1.04M/1.04M [00:00&lt;00:00, 820kB/s]"
          }
        },
        "f14475f0a30246b0994978c7202ffd7b": {
          "model_module": "@jupyter-widgets/base",
          "model_name": "LayoutModel",
          "model_module_version": "1.2.0",
          "state": {
            "_model_module": "@jupyter-widgets/base",
            "_model_module_version": "1.2.0",
            "_model_name": "LayoutModel",
            "_view_count": null,
            "_view_module": "@jupyter-widgets/base",
            "_view_module_version": "1.2.0",
            "_view_name": "LayoutView",
            "align_content": null,
            "align_items": null,
            "align_self": null,
            "border": null,
            "bottom": null,
            "display": null,
            "flex": null,
            "flex_flow": null,
            "grid_area": null,
            "grid_auto_columns": null,
            "grid_auto_flow": null,
            "grid_auto_rows": null,
            "grid_column": null,
            "grid_gap": null,
            "grid_row": null,
            "grid_template_areas": null,
            "grid_template_columns": null,
            "grid_template_rows": null,
            "height": null,
            "justify_content": null,
            "justify_items": null,
            "left": null,
            "margin": null,
            "max_height": null,
            "max_width": null,
            "min_height": null,
            "min_width": null,
            "object_fit": null,
            "object_position": null,
            "order": null,
            "overflow": null,
            "overflow_x": null,
            "overflow_y": null,
            "padding": null,
            "right": null,
            "top": null,
            "visibility": null,
            "width": null
          }
        },
        "f2efeaf320ab46a8bae1446b85d8694b": {
          "model_module": "@jupyter-widgets/base",
          "model_name": "LayoutModel",
          "model_module_version": "1.2.0",
          "state": {
            "_model_module": "@jupyter-widgets/base",
            "_model_module_version": "1.2.0",
            "_model_name": "LayoutModel",
            "_view_count": null,
            "_view_module": "@jupyter-widgets/base",
            "_view_module_version": "1.2.0",
            "_view_name": "LayoutView",
            "align_content": null,
            "align_items": null,
            "align_self": null,
            "border": null,
            "bottom": null,
            "display": null,
            "flex": null,
            "flex_flow": null,
            "grid_area": null,
            "grid_auto_columns": null,
            "grid_auto_flow": null,
            "grid_auto_rows": null,
            "grid_column": null,
            "grid_gap": null,
            "grid_row": null,
            "grid_template_areas": null,
            "grid_template_columns": null,
            "grid_template_rows": null,
            "height": null,
            "justify_content": null,
            "justify_items": null,
            "left": null,
            "margin": null,
            "max_height": null,
            "max_width": null,
            "min_height": null,
            "min_width": null,
            "object_fit": null,
            "object_position": null,
            "order": null,
            "overflow": null,
            "overflow_x": null,
            "overflow_y": null,
            "padding": null,
            "right": null,
            "top": null,
            "visibility": null,
            "width": null
          }
        },
        "394adb860bf84e01be887f554e6bf3df": {
          "model_module": "@jupyter-widgets/controls",
          "model_name": "DescriptionStyleModel",
          "model_module_version": "1.5.0",
          "state": {
            "_model_module": "@jupyter-widgets/controls",
            "_model_module_version": "1.5.0",
            "_model_name": "DescriptionStyleModel",
            "_view_count": null,
            "_view_module": "@jupyter-widgets/base",
            "_view_module_version": "1.2.0",
            "_view_name": "StyleView",
            "description_width": ""
          }
        },
        "0da8b18e2df84fe4810c85d28d14517b": {
          "model_module": "@jupyter-widgets/base",
          "model_name": "LayoutModel",
          "model_module_version": "1.2.0",
          "state": {
            "_model_module": "@jupyter-widgets/base",
            "_model_module_version": "1.2.0",
            "_model_name": "LayoutModel",
            "_view_count": null,
            "_view_module": "@jupyter-widgets/base",
            "_view_module_version": "1.2.0",
            "_view_name": "LayoutView",
            "align_content": null,
            "align_items": null,
            "align_self": null,
            "border": null,
            "bottom": null,
            "display": null,
            "flex": null,
            "flex_flow": null,
            "grid_area": null,
            "grid_auto_columns": null,
            "grid_auto_flow": null,
            "grid_auto_rows": null,
            "grid_column": null,
            "grid_gap": null,
            "grid_row": null,
            "grid_template_areas": null,
            "grid_template_columns": null,
            "grid_template_rows": null,
            "height": null,
            "justify_content": null,
            "justify_items": null,
            "left": null,
            "margin": null,
            "max_height": null,
            "max_width": null,
            "min_height": null,
            "min_width": null,
            "object_fit": null,
            "object_position": null,
            "order": null,
            "overflow": null,
            "overflow_x": null,
            "overflow_y": null,
            "padding": null,
            "right": null,
            "top": null,
            "visibility": null,
            "width": null
          }
        },
        "adcc7aea465648d9b0d4b737619870a2": {
          "model_module": "@jupyter-widgets/controls",
          "model_name": "ProgressStyleModel",
          "model_module_version": "1.5.0",
          "state": {
            "_model_module": "@jupyter-widgets/controls",
            "_model_module_version": "1.5.0",
            "_model_name": "ProgressStyleModel",
            "_view_count": null,
            "_view_module": "@jupyter-widgets/base",
            "_view_module_version": "1.2.0",
            "_view_name": "StyleView",
            "bar_color": null,
            "description_width": ""
          }
        },
        "34b34043cd03452cba05ed4c53322be8": {
          "model_module": "@jupyter-widgets/base",
          "model_name": "LayoutModel",
          "model_module_version": "1.2.0",
          "state": {
            "_model_module": "@jupyter-widgets/base",
            "_model_module_version": "1.2.0",
            "_model_name": "LayoutModel",
            "_view_count": null,
            "_view_module": "@jupyter-widgets/base",
            "_view_module_version": "1.2.0",
            "_view_name": "LayoutView",
            "align_content": null,
            "align_items": null,
            "align_self": null,
            "border": null,
            "bottom": null,
            "display": null,
            "flex": null,
            "flex_flow": null,
            "grid_area": null,
            "grid_auto_columns": null,
            "grid_auto_flow": null,
            "grid_auto_rows": null,
            "grid_column": null,
            "grid_gap": null,
            "grid_row": null,
            "grid_template_areas": null,
            "grid_template_columns": null,
            "grid_template_rows": null,
            "height": null,
            "justify_content": null,
            "justify_items": null,
            "left": null,
            "margin": null,
            "max_height": null,
            "max_width": null,
            "min_height": null,
            "min_width": null,
            "object_fit": null,
            "object_position": null,
            "order": null,
            "overflow": null,
            "overflow_x": null,
            "overflow_y": null,
            "padding": null,
            "right": null,
            "top": null,
            "visibility": null,
            "width": null
          }
        },
        "c2da625b8a97445d91101592d01b9a9c": {
          "model_module": "@jupyter-widgets/controls",
          "model_name": "DescriptionStyleModel",
          "model_module_version": "1.5.0",
          "state": {
            "_model_module": "@jupyter-widgets/controls",
            "_model_module_version": "1.5.0",
            "_model_name": "DescriptionStyleModel",
            "_view_count": null,
            "_view_module": "@jupyter-widgets/base",
            "_view_module_version": "1.2.0",
            "_view_name": "StyleView",
            "description_width": ""
          }
        },
        "190dcf71d7974adf8fda897b550d3ab0": {
          "model_module": "@jupyter-widgets/controls",
          "model_name": "HBoxModel",
          "model_module_version": "1.5.0",
          "state": {
            "_dom_classes": [],
            "_model_module": "@jupyter-widgets/controls",
            "_model_module_version": "1.5.0",
            "_model_name": "HBoxModel",
            "_view_count": null,
            "_view_module": "@jupyter-widgets/controls",
            "_view_module_version": "1.5.0",
            "_view_name": "HBoxView",
            "box_style": "",
            "children": [
              "IPY_MODEL_59aae545cfc1473997a8fdb2cf6f6bf7",
              "IPY_MODEL_c087340ef9e948d2b27522c7ddf59bda",
              "IPY_MODEL_2aed7791f4ff474aa97071ad07f31722"
            ],
            "layout": "IPY_MODEL_aa5926b8785645f7a2e4e6d336f41ea8"
          }
        },
        "59aae545cfc1473997a8fdb2cf6f6bf7": {
          "model_module": "@jupyter-widgets/controls",
          "model_name": "HTMLModel",
          "model_module_version": "1.5.0",
          "state": {
            "_dom_classes": [],
            "_model_module": "@jupyter-widgets/controls",
            "_model_module_version": "1.5.0",
            "_model_name": "HTMLModel",
            "_view_count": null,
            "_view_module": "@jupyter-widgets/controls",
            "_view_module_version": "1.5.0",
            "_view_name": "HTMLView",
            "description": "",
            "description_tooltip": null,
            "layout": "IPY_MODEL_f84970dc7c364b2f8e339c05541ee6a8",
            "placeholder": "​",
            "style": "IPY_MODEL_127194a883ff4bbf960c2c732562388a",
            "value": "Downloading: 100%"
          }
        },
        "c087340ef9e948d2b27522c7ddf59bda": {
          "model_module": "@jupyter-widgets/controls",
          "model_name": "FloatProgressModel",
          "model_module_version": "1.5.0",
          "state": {
            "_dom_classes": [],
            "_model_module": "@jupyter-widgets/controls",
            "_model_module_version": "1.5.0",
            "_model_name": "FloatProgressModel",
            "_view_count": null,
            "_view_module": "@jupyter-widgets/controls",
            "_view_module_version": "1.5.0",
            "_view_name": "ProgressView",
            "bar_style": "success",
            "description": "",
            "description_tooltip": null,
            "layout": "IPY_MODEL_fa531653c0214dcd9a88ae4a44914997",
            "max": 456318,
            "min": 0,
            "orientation": "horizontal",
            "style": "IPY_MODEL_0ee1e1b97b7844a9b80fa2966467ee6d",
            "value": 456318
          }
        },
        "2aed7791f4ff474aa97071ad07f31722": {
          "model_module": "@jupyter-widgets/controls",
          "model_name": "HTMLModel",
          "model_module_version": "1.5.0",
          "state": {
            "_dom_classes": [],
            "_model_module": "@jupyter-widgets/controls",
            "_model_module_version": "1.5.0",
            "_model_name": "HTMLModel",
            "_view_count": null,
            "_view_module": "@jupyter-widgets/controls",
            "_view_module_version": "1.5.0",
            "_view_name": "HTMLView",
            "description": "",
            "description_tooltip": null,
            "layout": "IPY_MODEL_0aca59702e4f4b4995f1fdaab7bd7261",
            "placeholder": "​",
            "style": "IPY_MODEL_c10e79c46f5b4a7aa17203f892207a7b",
            "value": " 456k/456k [00:00&lt;00:00, 979kB/s]"
          }
        },
        "aa5926b8785645f7a2e4e6d336f41ea8": {
          "model_module": "@jupyter-widgets/base",
          "model_name": "LayoutModel",
          "model_module_version": "1.2.0",
          "state": {
            "_model_module": "@jupyter-widgets/base",
            "_model_module_version": "1.2.0",
            "_model_name": "LayoutModel",
            "_view_count": null,
            "_view_module": "@jupyter-widgets/base",
            "_view_module_version": "1.2.0",
            "_view_name": "LayoutView",
            "align_content": null,
            "align_items": null,
            "align_self": null,
            "border": null,
            "bottom": null,
            "display": null,
            "flex": null,
            "flex_flow": null,
            "grid_area": null,
            "grid_auto_columns": null,
            "grid_auto_flow": null,
            "grid_auto_rows": null,
            "grid_column": null,
            "grid_gap": null,
            "grid_row": null,
            "grid_template_areas": null,
            "grid_template_columns": null,
            "grid_template_rows": null,
            "height": null,
            "justify_content": null,
            "justify_items": null,
            "left": null,
            "margin": null,
            "max_height": null,
            "max_width": null,
            "min_height": null,
            "min_width": null,
            "object_fit": null,
            "object_position": null,
            "order": null,
            "overflow": null,
            "overflow_x": null,
            "overflow_y": null,
            "padding": null,
            "right": null,
            "top": null,
            "visibility": null,
            "width": null
          }
        },
        "f84970dc7c364b2f8e339c05541ee6a8": {
          "model_module": "@jupyter-widgets/base",
          "model_name": "LayoutModel",
          "model_module_version": "1.2.0",
          "state": {
            "_model_module": "@jupyter-widgets/base",
            "_model_module_version": "1.2.0",
            "_model_name": "LayoutModel",
            "_view_count": null,
            "_view_module": "@jupyter-widgets/base",
            "_view_module_version": "1.2.0",
            "_view_name": "LayoutView",
            "align_content": null,
            "align_items": null,
            "align_self": null,
            "border": null,
            "bottom": null,
            "display": null,
            "flex": null,
            "flex_flow": null,
            "grid_area": null,
            "grid_auto_columns": null,
            "grid_auto_flow": null,
            "grid_auto_rows": null,
            "grid_column": null,
            "grid_gap": null,
            "grid_row": null,
            "grid_template_areas": null,
            "grid_template_columns": null,
            "grid_template_rows": null,
            "height": null,
            "justify_content": null,
            "justify_items": null,
            "left": null,
            "margin": null,
            "max_height": null,
            "max_width": null,
            "min_height": null,
            "min_width": null,
            "object_fit": null,
            "object_position": null,
            "order": null,
            "overflow": null,
            "overflow_x": null,
            "overflow_y": null,
            "padding": null,
            "right": null,
            "top": null,
            "visibility": null,
            "width": null
          }
        },
        "127194a883ff4bbf960c2c732562388a": {
          "model_module": "@jupyter-widgets/controls",
          "model_name": "DescriptionStyleModel",
          "model_module_version": "1.5.0",
          "state": {
            "_model_module": "@jupyter-widgets/controls",
            "_model_module_version": "1.5.0",
            "_model_name": "DescriptionStyleModel",
            "_view_count": null,
            "_view_module": "@jupyter-widgets/base",
            "_view_module_version": "1.2.0",
            "_view_name": "StyleView",
            "description_width": ""
          }
        },
        "fa531653c0214dcd9a88ae4a44914997": {
          "model_module": "@jupyter-widgets/base",
          "model_name": "LayoutModel",
          "model_module_version": "1.2.0",
          "state": {
            "_model_module": "@jupyter-widgets/base",
            "_model_module_version": "1.2.0",
            "_model_name": "LayoutModel",
            "_view_count": null,
            "_view_module": "@jupyter-widgets/base",
            "_view_module_version": "1.2.0",
            "_view_name": "LayoutView",
            "align_content": null,
            "align_items": null,
            "align_self": null,
            "border": null,
            "bottom": null,
            "display": null,
            "flex": null,
            "flex_flow": null,
            "grid_area": null,
            "grid_auto_columns": null,
            "grid_auto_flow": null,
            "grid_auto_rows": null,
            "grid_column": null,
            "grid_gap": null,
            "grid_row": null,
            "grid_template_areas": null,
            "grid_template_columns": null,
            "grid_template_rows": null,
            "height": null,
            "justify_content": null,
            "justify_items": null,
            "left": null,
            "margin": null,
            "max_height": null,
            "max_width": null,
            "min_height": null,
            "min_width": null,
            "object_fit": null,
            "object_position": null,
            "order": null,
            "overflow": null,
            "overflow_x": null,
            "overflow_y": null,
            "padding": null,
            "right": null,
            "top": null,
            "visibility": null,
            "width": null
          }
        },
        "0ee1e1b97b7844a9b80fa2966467ee6d": {
          "model_module": "@jupyter-widgets/controls",
          "model_name": "ProgressStyleModel",
          "model_module_version": "1.5.0",
          "state": {
            "_model_module": "@jupyter-widgets/controls",
            "_model_module_version": "1.5.0",
            "_model_name": "ProgressStyleModel",
            "_view_count": null,
            "_view_module": "@jupyter-widgets/base",
            "_view_module_version": "1.2.0",
            "_view_name": "StyleView",
            "bar_color": null,
            "description_width": ""
          }
        },
        "0aca59702e4f4b4995f1fdaab7bd7261": {
          "model_module": "@jupyter-widgets/base",
          "model_name": "LayoutModel",
          "model_module_version": "1.2.0",
          "state": {
            "_model_module": "@jupyter-widgets/base",
            "_model_module_version": "1.2.0",
            "_model_name": "LayoutModel",
            "_view_count": null,
            "_view_module": "@jupyter-widgets/base",
            "_view_module_version": "1.2.0",
            "_view_name": "LayoutView",
            "align_content": null,
            "align_items": null,
            "align_self": null,
            "border": null,
            "bottom": null,
            "display": null,
            "flex": null,
            "flex_flow": null,
            "grid_area": null,
            "grid_auto_columns": null,
            "grid_auto_flow": null,
            "grid_auto_rows": null,
            "grid_column": null,
            "grid_gap": null,
            "grid_row": null,
            "grid_template_areas": null,
            "grid_template_columns": null,
            "grid_template_rows": null,
            "height": null,
            "justify_content": null,
            "justify_items": null,
            "left": null,
            "margin": null,
            "max_height": null,
            "max_width": null,
            "min_height": null,
            "min_width": null,
            "object_fit": null,
            "object_position": null,
            "order": null,
            "overflow": null,
            "overflow_x": null,
            "overflow_y": null,
            "padding": null,
            "right": null,
            "top": null,
            "visibility": null,
            "width": null
          }
        },
        "c10e79c46f5b4a7aa17203f892207a7b": {
          "model_module": "@jupyter-widgets/controls",
          "model_name": "DescriptionStyleModel",
          "model_module_version": "1.5.0",
          "state": {
            "_model_module": "@jupyter-widgets/controls",
            "_model_module_version": "1.5.0",
            "_model_name": "DescriptionStyleModel",
            "_view_count": null,
            "_view_module": "@jupyter-widgets/base",
            "_view_module_version": "1.2.0",
            "_view_name": "StyleView",
            "description_width": ""
          }
        },
        "7d6cf76a8531408a917c8c1010d71075": {
          "model_module": "@jupyter-widgets/controls",
          "model_name": "HBoxModel",
          "model_module_version": "1.5.0",
          "state": {
            "_dom_classes": [],
            "_model_module": "@jupyter-widgets/controls",
            "_model_module_version": "1.5.0",
            "_model_name": "HBoxModel",
            "_view_count": null,
            "_view_module": "@jupyter-widgets/controls",
            "_view_module_version": "1.5.0",
            "_view_name": "HBoxView",
            "box_style": "",
            "children": [
              "IPY_MODEL_c0eee193fe334583aa04369be5e686c4",
              "IPY_MODEL_eba7153a1856483d94c8959b552a586b",
              "IPY_MODEL_2c394823c06a4811b83dab6f24899130"
            ],
            "layout": "IPY_MODEL_d0a3a7ebd75c4d44b67c57ad1019ae57"
          }
        },
        "c0eee193fe334583aa04369be5e686c4": {
          "model_module": "@jupyter-widgets/controls",
          "model_name": "HTMLModel",
          "model_module_version": "1.5.0",
          "state": {
            "_dom_classes": [],
            "_model_module": "@jupyter-widgets/controls",
            "_model_module_version": "1.5.0",
            "_model_name": "HTMLModel",
            "_view_count": null,
            "_view_module": "@jupyter-widgets/controls",
            "_view_module_version": "1.5.0",
            "_view_name": "HTMLView",
            "description": "",
            "description_tooltip": null,
            "layout": "IPY_MODEL_8fbffcaae59d461392457bcb6d7875ce",
            "placeholder": "​",
            "style": "IPY_MODEL_21a4e6d8c14748db8e4e3f50d169c55e",
            "value": "Downloading: 100%"
          }
        },
        "eba7153a1856483d94c8959b552a586b": {
          "model_module": "@jupyter-widgets/controls",
          "model_name": "FloatProgressModel",
          "model_module_version": "1.5.0",
          "state": {
            "_dom_classes": [],
            "_model_module": "@jupyter-widgets/controls",
            "_model_module_version": "1.5.0",
            "_model_name": "FloatProgressModel",
            "_view_count": null,
            "_view_module": "@jupyter-widgets/controls",
            "_view_module_version": "1.5.0",
            "_view_name": "ProgressView",
            "bar_style": "success",
            "description": "",
            "description_tooltip": null,
            "layout": "IPY_MODEL_b1ee6853ab6e4ae99e374e26f782d0b3",
            "max": 1355256,
            "min": 0,
            "orientation": "horizontal",
            "style": "IPY_MODEL_c961d240ab824a519376e5c27d3d34bc",
            "value": 1355256
          }
        },
        "2c394823c06a4811b83dab6f24899130": {
          "model_module": "@jupyter-widgets/controls",
          "model_name": "HTMLModel",
          "model_module_version": "1.5.0",
          "state": {
            "_dom_classes": [],
            "_model_module": "@jupyter-widgets/controls",
            "_model_module_version": "1.5.0",
            "_model_name": "HTMLModel",
            "_view_count": null,
            "_view_module": "@jupyter-widgets/controls",
            "_view_module_version": "1.5.0",
            "_view_name": "HTMLView",
            "description": "",
            "description_tooltip": null,
            "layout": "IPY_MODEL_add05ecdfee04e3ca9af5f7b06e8eecc",
            "placeholder": "​",
            "style": "IPY_MODEL_a656922d36d74bc69d8299c16bb28f9b",
            "value": " 1.36M/1.36M [00:00&lt;00:00, 2.66MB/s]"
          }
        },
        "d0a3a7ebd75c4d44b67c57ad1019ae57": {
          "model_module": "@jupyter-widgets/base",
          "model_name": "LayoutModel",
          "model_module_version": "1.2.0",
          "state": {
            "_model_module": "@jupyter-widgets/base",
            "_model_module_version": "1.2.0",
            "_model_name": "LayoutModel",
            "_view_count": null,
            "_view_module": "@jupyter-widgets/base",
            "_view_module_version": "1.2.0",
            "_view_name": "LayoutView",
            "align_content": null,
            "align_items": null,
            "align_self": null,
            "border": null,
            "bottom": null,
            "display": null,
            "flex": null,
            "flex_flow": null,
            "grid_area": null,
            "grid_auto_columns": null,
            "grid_auto_flow": null,
            "grid_auto_rows": null,
            "grid_column": null,
            "grid_gap": null,
            "grid_row": null,
            "grid_template_areas": null,
            "grid_template_columns": null,
            "grid_template_rows": null,
            "height": null,
            "justify_content": null,
            "justify_items": null,
            "left": null,
            "margin": null,
            "max_height": null,
            "max_width": null,
            "min_height": null,
            "min_width": null,
            "object_fit": null,
            "object_position": null,
            "order": null,
            "overflow": null,
            "overflow_x": null,
            "overflow_y": null,
            "padding": null,
            "right": null,
            "top": null,
            "visibility": null,
            "width": null
          }
        },
        "8fbffcaae59d461392457bcb6d7875ce": {
          "model_module": "@jupyter-widgets/base",
          "model_name": "LayoutModel",
          "model_module_version": "1.2.0",
          "state": {
            "_model_module": "@jupyter-widgets/base",
            "_model_module_version": "1.2.0",
            "_model_name": "LayoutModel",
            "_view_count": null,
            "_view_module": "@jupyter-widgets/base",
            "_view_module_version": "1.2.0",
            "_view_name": "LayoutView",
            "align_content": null,
            "align_items": null,
            "align_self": null,
            "border": null,
            "bottom": null,
            "display": null,
            "flex": null,
            "flex_flow": null,
            "grid_area": null,
            "grid_auto_columns": null,
            "grid_auto_flow": null,
            "grid_auto_rows": null,
            "grid_column": null,
            "grid_gap": null,
            "grid_row": null,
            "grid_template_areas": null,
            "grid_template_columns": null,
            "grid_template_rows": null,
            "height": null,
            "justify_content": null,
            "justify_items": null,
            "left": null,
            "margin": null,
            "max_height": null,
            "max_width": null,
            "min_height": null,
            "min_width": null,
            "object_fit": null,
            "object_position": null,
            "order": null,
            "overflow": null,
            "overflow_x": null,
            "overflow_y": null,
            "padding": null,
            "right": null,
            "top": null,
            "visibility": null,
            "width": null
          }
        },
        "21a4e6d8c14748db8e4e3f50d169c55e": {
          "model_module": "@jupyter-widgets/controls",
          "model_name": "DescriptionStyleModel",
          "model_module_version": "1.5.0",
          "state": {
            "_model_module": "@jupyter-widgets/controls",
            "_model_module_version": "1.5.0",
            "_model_name": "DescriptionStyleModel",
            "_view_count": null,
            "_view_module": "@jupyter-widgets/base",
            "_view_module_version": "1.2.0",
            "_view_name": "StyleView",
            "description_width": ""
          }
        },
        "b1ee6853ab6e4ae99e374e26f782d0b3": {
          "model_module": "@jupyter-widgets/base",
          "model_name": "LayoutModel",
          "model_module_version": "1.2.0",
          "state": {
            "_model_module": "@jupyter-widgets/base",
            "_model_module_version": "1.2.0",
            "_model_name": "LayoutModel",
            "_view_count": null,
            "_view_module": "@jupyter-widgets/base",
            "_view_module_version": "1.2.0",
            "_view_name": "LayoutView",
            "align_content": null,
            "align_items": null,
            "align_self": null,
            "border": null,
            "bottom": null,
            "display": null,
            "flex": null,
            "flex_flow": null,
            "grid_area": null,
            "grid_auto_columns": null,
            "grid_auto_flow": null,
            "grid_auto_rows": null,
            "grid_column": null,
            "grid_gap": null,
            "grid_row": null,
            "grid_template_areas": null,
            "grid_template_columns": null,
            "grid_template_rows": null,
            "height": null,
            "justify_content": null,
            "justify_items": null,
            "left": null,
            "margin": null,
            "max_height": null,
            "max_width": null,
            "min_height": null,
            "min_width": null,
            "object_fit": null,
            "object_position": null,
            "order": null,
            "overflow": null,
            "overflow_x": null,
            "overflow_y": null,
            "padding": null,
            "right": null,
            "top": null,
            "visibility": null,
            "width": null
          }
        },
        "c961d240ab824a519376e5c27d3d34bc": {
          "model_module": "@jupyter-widgets/controls",
          "model_name": "ProgressStyleModel",
          "model_module_version": "1.5.0",
          "state": {
            "_model_module": "@jupyter-widgets/controls",
            "_model_module_version": "1.5.0",
            "_model_name": "ProgressStyleModel",
            "_view_count": null,
            "_view_module": "@jupyter-widgets/base",
            "_view_module_version": "1.2.0",
            "_view_name": "StyleView",
            "bar_color": null,
            "description_width": ""
          }
        },
        "add05ecdfee04e3ca9af5f7b06e8eecc": {
          "model_module": "@jupyter-widgets/base",
          "model_name": "LayoutModel",
          "model_module_version": "1.2.0",
          "state": {
            "_model_module": "@jupyter-widgets/base",
            "_model_module_version": "1.2.0",
            "_model_name": "LayoutModel",
            "_view_count": null,
            "_view_module": "@jupyter-widgets/base",
            "_view_module_version": "1.2.0",
            "_view_name": "LayoutView",
            "align_content": null,
            "align_items": null,
            "align_self": null,
            "border": null,
            "bottom": null,
            "display": null,
            "flex": null,
            "flex_flow": null,
            "grid_area": null,
            "grid_auto_columns": null,
            "grid_auto_flow": null,
            "grid_auto_rows": null,
            "grid_column": null,
            "grid_gap": null,
            "grid_row": null,
            "grid_template_areas": null,
            "grid_template_columns": null,
            "grid_template_rows": null,
            "height": null,
            "justify_content": null,
            "justify_items": null,
            "left": null,
            "margin": null,
            "max_height": null,
            "max_width": null,
            "min_height": null,
            "min_width": null,
            "object_fit": null,
            "object_position": null,
            "order": null,
            "overflow": null,
            "overflow_x": null,
            "overflow_y": null,
            "padding": null,
            "right": null,
            "top": null,
            "visibility": null,
            "width": null
          }
        },
        "a656922d36d74bc69d8299c16bb28f9b": {
          "model_module": "@jupyter-widgets/controls",
          "model_name": "DescriptionStyleModel",
          "model_module_version": "1.5.0",
          "state": {
            "_model_module": "@jupyter-widgets/controls",
            "_model_module_version": "1.5.0",
            "_model_name": "DescriptionStyleModel",
            "_view_count": null,
            "_view_module": "@jupyter-widgets/base",
            "_view_module_version": "1.2.0",
            "_view_name": "StyleView",
            "description_width": ""
          }
        }
      }
    }
  },
  "cells": [
    {
      "cell_type": "markdown",
      "metadata": {
        "id": "view-in-github",
        "colab_type": "text"
      },
      "source": [
        "<a href=\"https://colab.research.google.com/github/Leo-2017/DL101/blob/main/Pattern_Player.ipynb\" target=\"_parent\"><img src=\"https://colab.research.google.com/assets/colab-badge.svg\" alt=\"Open In Colab\"/></a>"
      ]
    },
    {
      "cell_type": "markdown",
      "metadata": {
        "id": "7j04QL-TPJy1"
      },
      "source": [
        "# Pattern Player 🎹"
      ]
    },
    {
      "cell_type": "markdown",
      "source": [
        "## **1. Introduction**"
      ],
      "metadata": {
        "id": "mHvkbz5e85md"
      }
    },
    {
      "cell_type": "markdown",
      "source": [
        "## a. What business problem are you solving?\n",
        "\n",
        "A text generator for non-design professionals to design wallpaper for their homes by themselves."
      ],
      "metadata": {
        "id": "lb8S7bqY3na3"
      }
    },
    {
      "cell_type": "markdown",
      "source": [
        "## b. How can AI/ML technology help to solve that?\n",
        "\n",
        "The AI/ML technology can help to slove it by using the GPT-2 model (pretrained on a dataset of 8 million web pages) as a foundation, and using dataset from Gutenberg Project to fine-tune the model using Text Generation to make it more applicable for the use case."
      ],
      "metadata": {
        "id": "vF6Jt_Re4Vzj"
      }
    },
    {
      "cell_type": "markdown",
      "metadata": {
        "id": "f0joGgV0POOt"
      },
      "source": [
        "## c. What is your AI project's objective?\n",
        "\n",
        "The objective is to build a language model as a pattern design generator that helps user to predict the probability of what kind of wallpaper user would like to have."
      ]
    },
    {
      "cell_type": "markdown",
      "source": [
        "## d. Who are the users of your AI application and how will they interact with it? \n",
        "\n",
        "The user of the AI application will be the non-design professionals who have a needs in design & decorating the wallpaper at their e.g. homes by themselves; \n",
        "<br>\n",
        "<br>\n",
        "User can simply input the **keywords** or **short description** such as **\"How to decorate the wall in living room with Botanical pattern in william morris style?\"** The application will predict the output as a suggestion based on the dataset;"
      ],
      "metadata": {
        "id": "K1swq9pu4gPk"
      }
    },
    {
      "cell_type": "markdown",
      "source": [
        "## **2. Benchmark Study**"
      ],
      "metadata": {
        "id": "0oEKZdvo90SL"
      }
    },
    {
      "cell_type": "markdown",
      "source": [
        "**Similar existing AI solutions** <br>\n",
        "\n",
        "Below are the pattern generator I found online; for most of them the way how it works is to: <br>\n",
        "A. require user to upload an asset (image/illustration, etc.), the application will generator a pattern based on it; or <br>\n",
        "B. Let user pre-select the pattern from their dataset and then upload their homeliving photo to see the model; \n",
        "\n",
        "**Picsart** <br>\n",
        "https://picsart.com/pattern-generator <br>\n",
        "\n",
        "**Patternico** <br>\n",
        "https://patternico.com/\n",
        "\n",
        "**Wowpatterns** <br>\n",
        "https://www.wowpatterns.com/pattern-generator\n",
        "\n",
        "**Laurentvw** <br>\n",
        "https://www.laurentvw.com/tools/seamless-pattern-generator/\n",
        "\n",
        "**Designhill** <br>\n",
        "https://www.designhill.com/tools/wallpaper-maker\n",
        "\n",
        "**Patterncooler** <br>\n",
        "https://www.patterncooler.com/\n",
        "\n",
        "**Astreetprints** <br>\n",
        "https://www.astreetprints.com/room-previewer\n",
        "\n",
        "---\n",
        "All the applications I could find above is not exactly what I'm looking for; <br>\n",
        "Below is the usecase which is very similar with what I would like to build for my model:\n",
        "\n",
        "**Delle-mini** <br> \n",
        "https://huggingface.co/spaces/dalle-mini/dalle-mini <br>\n",
        "https://www.craiyon.com/ <br>\n",
        "<img src=\"https://drive.google.com/file/d/1Sy2Zzs8vZOjtu3WeWhsC7B-V5r6cHm4V/view?usp=sharing\" alt=\"dallemini\" width=\"300\"/> <br>\n",
        "**Imagen** <br>\n",
        "https://imagen.research.google/ <br>\n",
        "\n",
        "---\n",
        "Due to the limited time and my limited knowledges for the MVP I will only build a text generator;"
      ],
      "metadata": {
        "id": "Q-tCbRD5-V9j"
      }
    },
    {
      "cell_type": "markdown",
      "source": [
        "# **3. Data**"
      ],
      "metadata": {
        "id": "BSuva5jzIbIL"
      }
    },
    {
      "cell_type": "markdown",
      "metadata": {
        "id": "lJvIFM7zjGnj"
      },
      "source": [
        "## a. Libraries & Dependencies needed"
      ]
    },
    {
      "cell_type": "code",
      "metadata": {
        "colab": {
          "base_uri": "https://localhost:8080/"
        },
        "id": "azcl-ikfOQJR",
        "outputId": "47cd703e-e835-467f-cd84-dadf63586df7"
      },
      "source": [
        "!pip install -Uqq unpackai\n",
        "# !pip install -q git+https://github.com/unpackai/unpackai\n",
        "!pip install -Uqq transformers==4.10.2\n",
        "!pip install -q datasets transformers[sentencepiece]"
      ],
      "execution_count": null,
      "outputs": [
        {
          "output_type": "stream",
          "name": "stdout",
          "text": [
            "\u001b[K     |████████████████████████████████| 73 kB 2.7 MB/s \n",
            "\u001b[K     |████████████████████████████████| 42 kB 1.3 MB/s \n",
            "\u001b[K     |████████████████████████████████| 976 kB 37.0 MB/s \n",
            "\u001b[K     |████████████████████████████████| 2.8 MB 12.2 MB/s \n",
            "\u001b[K     |████████████████████████████████| 596 kB 43.6 MB/s \n",
            "\u001b[K     |████████████████████████████████| 880 kB 49.5 MB/s \n",
            "\u001b[K     |████████████████████████████████| 3.3 MB 57.3 MB/s \n",
            "\u001b[K     |████████████████████████████████| 101 kB 11.6 MB/s \n",
            "\u001b[?25h  Building wheel for sacremoses (setup.py) ... \u001b[?25l\u001b[?25hdone\n",
            "\u001b[K     |████████████████████████████████| 362 kB 16.9 MB/s \n",
            "\u001b[K     |████████████████████████████████| 1.1 MB 63.0 MB/s \n",
            "\u001b[K     |████████████████████████████████| 140 kB 56.7 MB/s \n",
            "\u001b[K     |████████████████████████████████| 212 kB 74.3 MB/s \n",
            "\u001b[K     |████████████████████████████████| 127 kB 52.8 MB/s \n",
            "\u001b[K     |████████████████████████████████| 271 kB 47.6 MB/s \n",
            "\u001b[K     |████████████████████████████████| 144 kB 62.7 MB/s \n",
            "\u001b[K     |████████████████████████████████| 94 kB 3.9 MB/s \n",
            "\u001b[K     |████████████████████████████████| 1.1 MB 46.5 MB/s \n",
            "\u001b[31mERROR: pip's dependency resolver does not currently take into account all the packages that are installed. This behaviour is the source of the following dependency conflicts.\n",
            "datascience 0.10.6 requires folium==0.2.1, but you have folium 0.8.3 which is incompatible.\u001b[0m\n",
            "\u001b[?25h"
          ]
        }
      ]
    },
    {
      "cell_type": "code",
      "metadata": {
        "id": "ynOZVJ0HfD2Q"
      },
      "source": [
        "import torch\n",
        "import numpy as np\n",
        "from transformers import (\n",
        "    AutoTokenizer,\n",
        "    AutoModel,\n",
        "    pipeline,\n",
        "    set_seed,\n",
        "    Trainer,\n",
        "    TextDataset,\n",
        "    DataCollatorForLanguageModeling,\n",
        "    TrainingArguments,\n",
        "    AutoModelForSequenceClassification,\n",
        ")\n",
        "from unpackai.nlp import Textual, InterpEmbeddingsTokenizer\n",
        "from ipywidgets import interact\n",
        "import logging\n",
        "from fastai import *"
      ],
      "execution_count": null,
      "outputs": []
    },
    {
      "cell_type": "markdown",
      "metadata": {
        "id": "QUbu_n7fiITe"
      },
      "source": [
        "## 2. Build an Language Model"
      ]
    },
    {
      "cell_type": "markdown",
      "metadata": {
        "id": "X1PTaXRGQKxS"
      },
      "source": [
        "### a. What's your data? Is it relevant to AI project you are intending to build? Is it inclusive, complete and unbiased?"
      ]
    },
    {
      "cell_type": "markdown",
      "metadata": {
        "id": "ZDEouac7xN1v"
      },
      "source": [
        "\n",
        "#### The dataset I'm using for this model training is collected from [Gutenberg Project](https://gutenberg.org/); a source which is a collection of over 60,000 free eBooks.\n",
        "**Dataset:** \n",
        "<br>\n",
        "1. [Arts and Crafts Essays by members of Arts and Crafts Exhibition Society](https://gutenberg.org/ebooks/36250) Subject: Decorative arts <br>\n",
        "2. [Principles of Decorative Design by Christopher Dresser](https://gutenberg.org/ebooks/39749) Subject: Decorative arts Decoration and ornament -- Victorian style<br>\n",
        "3. [The Botanical Magazine, Vol. 02 by William Curtis](https://gutenberg.org/ebooks/17531) Subject: Plants, Cultivated/Ornamental/ Botanical illustration/Periodicals <br>\n",
        "4. [The Principles of Ornament by James Ward](https://gutenberg.org/ebooks/60034) Subject: Decoration and ornament <br>\n",
        "5. [The Botanical Magazine, Vol. 08 by William Curtis](https://gutenberg.org/ebooks/24670) Subject: Plants, Cultivated/Ornamental/ Botanical illustration/Periodicals\n",
        "6. [Evolution in Art: As Illustrated by the Life-histories of Designs by Haddon](https://gutenberg.org/ebooks/46079) Subject: Decoration and ornament, Primitive <br>\n",
        "7. [Hardy Ornamental Flowering Trees and Shrubs by Angus D. Webster](https://gutenberg.org/ebooks/10852) Subject: Flowering shrubs <br>\n",
        "8. [Origin and Development of Form and Ornament in Ceramic Art. by William Henry Holmes](https://gutenberg.org/ebooks/19953) Subject: \tDecoration and ornament -- History, Indian art -- North America <br>\n",
        "9.  [Talks About Flowers. by Mrs. M. D. Wellcome](https://gutenberg.org/ebooks/40534) Subject: Flowers <br>\n",
        "10.  [Historic Ornament, Vol. 1 (of 2) by James Ward](https://gutenberg.org/ebooks/59746) Subject: Decorative arts -- History<br>\n",
        "11.  [Historic Ornament, Vol. 2 (of 2) by James Ward](https://gutenberg.org/ebooks/59971) Subject: Decorative arts -- History<br>\n",
        "---\n",
        "\n",
        "#### Most of the books collected are relevant to AI project I'm intending to build; As if it's inclusive, complete and unbiased, I cannot genature as many books I've found online are not Free of use; Therefore I have included all the books/dataset I could find from  Gutenberg;"
      ]
    },
    {
      "cell_type": "markdown",
      "metadata": {
        "id": "U5QZmieCYbZ2"
      },
      "source": [
        "### b. Collect and construct your dataset\n",
        "\n",
        "In order to collect and design my dataset I'm using `Textual` scraping tool below."
      ]
    },
    {
      "cell_type": "markdown",
      "metadata": {
        "id": "T5Uma7pnjrm5"
      },
      "source": [
        "**Collect text from an URL.**\n",
        "\n",
        "\n",
        "Below are all the URL I've collected from [Gutenberg Project] https://gutenberg.org/; a source which is a collection of over 60,000 free eBooks. \n"
      ]
    },
    {
      "cell_type": "code",
      "metadata": {
        "id": "zCWwVhIAjjBK",
        "colab": {
          "base_uri": "https://localhost:8080/"
        },
        "outputId": "1f0052b0-f6d2-40c6-99d2-f405c6f52e29"
      },
      "source": [
        "ArtsandCraftsEssays = Textual.from_url(\"https://gutenberg.org/cache/epub/36250/pg36250.txt\")\n",
        "ArtsandCraftsEssays"
      ],
      "execution_count": null,
      "outputs": [
        {
          "output_type": "execute_result",
          "data": {
            "text/plain": [
              "Text (393777 chars), textual(),\n",
              "    train_path, val_path = textual.create_train_val()"
            ]
          },
          "metadata": {},
          "execution_count": 4
        }
      ]
    },
    {
      "cell_type": "code",
      "source": [
        "PrinciplesofDecorativeDesignbyChristopherDresser = Textual.from_url(\"https://gutenberg.org/cache/epub/39749/pg39749.txt\")\n",
        "PrinciplesofDecorativeDesignbyChristopherDresser"
      ],
      "metadata": {
        "id": "kCmdqDOKT7cs",
        "outputId": "b8534597-6015-4177-89dd-ec4d989166ec",
        "colab": {
          "base_uri": "https://localhost:8080/"
        }
      },
      "execution_count": null,
      "outputs": [
        {
          "output_type": "execute_result",
          "data": {
            "text/plain": [
              "Text (414489 chars), textual(),\n",
              "    train_path, val_path = textual.create_train_val()"
            ]
          },
          "metadata": {},
          "execution_count": 5
        }
      ]
    },
    {
      "cell_type": "code",
      "source": [
        "TheBotanicalMagazineVol02byWilliamCurtis = Textual.from_url(\"https://gutenberg.org/cache/epub/17531/pg17531.txt\")\n",
        "TheBotanicalMagazineVol02byWilliamCurtis"
      ],
      "metadata": {
        "id": "DVd2OsqmUng9",
        "outputId": "428bb9fb-4303-4761-d3a5-f1e538ce82db",
        "colab": {
          "base_uri": "https://localhost:8080/"
        }
      },
      "execution_count": null,
      "outputs": [
        {
          "output_type": "execute_result",
          "data": {
            "text/plain": [
              "Text (80332 chars), textual(),\n",
              "    train_path, val_path = textual.create_train_val()"
            ]
          },
          "metadata": {},
          "execution_count": 6
        }
      ]
    },
    {
      "cell_type": "code",
      "source": [
        "ThePrinciplesofOrnamentbyJamesWard = Textual.from_url(\"https://gutenberg.org/files/60034/60034-0.txt\")\n",
        "ThePrinciplesofOrnamentbyJamesWard"
      ],
      "metadata": {
        "id": "XmRXdGqSU80z",
        "outputId": "8ed9e915-41b0-44be-a0d4-12f07015280a",
        "colab": {
          "base_uri": "https://localhost:8080/"
        }
      },
      "execution_count": null,
      "outputs": [
        {
          "output_type": "execute_result",
          "data": {
            "text/plain": [
              "Text (234063 chars), textual(),\n",
              "    train_path, val_path = textual.create_train_val()"
            ]
          },
          "metadata": {},
          "execution_count": 7
        }
      ]
    },
    {
      "cell_type": "code",
      "source": [
        "TheBotanicalMagazineVol08byWilliamCurtis = Textual.from_url(\"https://gutenberg.org/cache/epub/24670/pg24670.txt\")\n",
        "TheBotanicalMagazineVol08byWilliamCurtis"
      ],
      "metadata": {
        "colab": {
          "base_uri": "https://localhost:8080/"
        },
        "id": "PF4WOcUxGYbV",
        "outputId": "a5877bd2-a715-46cd-cfdf-82999d228a76"
      },
      "execution_count": null,
      "outputs": [
        {
          "output_type": "execute_result",
          "data": {
            "text/plain": [
              "Text (103125 chars), textual(),\n",
              "    train_path, val_path = textual.create_train_val()"
            ]
          },
          "metadata": {},
          "execution_count": 8
        }
      ]
    },
    {
      "cell_type": "code",
      "source": [
        "EvolutionInArt = Textual.from_url(\"https://gutenberg.org/files/46079/46079-0.txt\")\n",
        "EvolutionInArt"
      ],
      "metadata": {
        "colab": {
          "base_uri": "https://localhost:8080/"
        },
        "id": "OXJy56sXGd5E",
        "outputId": "dd5a1e3b-cd78-4789-9f54-febfe957a1fa"
      },
      "execution_count": null,
      "outputs": [
        {
          "output_type": "execute_result",
          "data": {
            "text/plain": [
              "Text (667372 chars), textual(),\n",
              "    train_path, val_path = textual.create_train_val()"
            ]
          },
          "metadata": {},
          "execution_count": 9
        }
      ]
    },
    {
      "cell_type": "code",
      "source": [
        "HardyOrnamentalFloweringTreesandShrubsbyAngusDWebster = Textual.from_url(\"https://gutenberg.org/cache/epub/10852/pg10852.txt\")\n",
        "HardyOrnamentalFloweringTreesandShrubsbyAngusDWebster"
      ],
      "metadata": {
        "colab": {
          "base_uri": "https://localhost:8080/"
        },
        "id": "6DaoK_CkGdkG",
        "outputId": "2e982fc0-2fb2-41ef-dfa6-eb96fb4d4543"
      },
      "execution_count": null,
      "outputs": [
        {
          "output_type": "execute_result",
          "data": {
            "text/plain": [
              "Text (370515 chars), textual(),\n",
              "    train_path, val_path = textual.create_train_val()"
            ]
          },
          "metadata": {},
          "execution_count": 10
        }
      ]
    },
    {
      "cell_type": "code",
      "source": [
        "OriginandDevelopmentofFormandOrnamentinCeramicArtbyWilliamHenryHolmes = Textual.from_url(\"https://gutenberg.org/cache/epub/19953/pg19953.txt\")\n",
        "OriginandDevelopmentofFormandOrnamentinCeramicArtbyWilliamHenryHolmes"
      ],
      "metadata": {
        "colab": {
          "base_uri": "https://localhost:8080/"
        },
        "id": "ki9alJS4GdFJ",
        "outputId": "22c2e250-bdbd-4d24-8997-8098e8ea7f4b"
      },
      "execution_count": null,
      "outputs": [
        {
          "output_type": "execute_result",
          "data": {
            "text/plain": [
              "Text (72466 chars), textual(),\n",
              "    train_path, val_path = textual.create_train_val()"
            ]
          },
          "metadata": {},
          "execution_count": 11
        }
      ]
    },
    {
      "cell_type": "code",
      "source": [
        "TalksAboutFlowersbyMrsMDWellcome = Textual.from_url(\"https://gutenberg.org/cache/epub/40534/pg40534.txt\")\n",
        "TalksAboutFlowersbyMrsMDWellcome"
      ],
      "metadata": {
        "id": "gZf2GZXBI-BH",
        "colab": {
          "base_uri": "https://localhost:8080/"
        },
        "outputId": "8b0a7b5f-54e8-4c4c-88e8-d124edcb4ae3"
      },
      "execution_count": null,
      "outputs": [
        {
          "output_type": "execute_result",
          "data": {
            "text/plain": [
              "Text (305686 chars), textual(),\n",
              "    train_path, val_path = textual.create_train_val()"
            ]
          },
          "metadata": {},
          "execution_count": 12
        }
      ]
    },
    {
      "cell_type": "code",
      "source": [
        "HistoricOrnamentVol1of2byJamesWard = Textual.from_url(\"https://gutenberg.org/files/59746/59746-0.txt\")\n",
        "HistoricOrnamentVol1of2byJamesWard"
      ],
      "metadata": {
        "id": "ot_kJFvHLRnK",
        "colab": {
          "base_uri": "https://localhost:8080/"
        },
        "outputId": "3d8791cf-ca1c-4d81-f3ca-a38309c276a2"
      },
      "execution_count": null,
      "outputs": [
        {
          "output_type": "execute_result",
          "data": {
            "text/plain": [
              "Text (439720 chars), textual(),\n",
              "    train_path, val_path = textual.create_train_val()"
            ]
          },
          "metadata": {},
          "execution_count": 13
        }
      ]
    },
    {
      "cell_type": "code",
      "source": [
        "HistoricOrnamentVol2of2byJamesWard = Textual.from_url(\"https://gutenberg.org/files/59971/59971-0.txt\")\n",
        "HistoricOrnamentVol2of2byJamesWard"
      ],
      "metadata": {
        "id": "asVGahBPLRi_",
        "colab": {
          "base_uri": "https://localhost:8080/"
        },
        "outputId": "9063dc16-9fa9-43b8-bf1d-21928bd15c12"
      },
      "execution_count": null,
      "outputs": [
        {
          "output_type": "execute_result",
          "data": {
            "text/plain": [
              "Text (522737 chars), textual(),\n",
              "    train_path, val_path = textual.create_train_val()"
            ]
          },
          "metadata": {},
          "execution_count": 14
        }
      ]
    },
    {
      "cell_type": "markdown",
      "metadata": {
        "id": "I1iDa9dplr2h"
      },
      "source": [
        "### c. Is the size of your dataset large enough to build the baseline model to validate the usefulness and accuracy of the model predictions?\n"
      ]
    },
    {
      "cell_type": "markdown",
      "source": [
        "I have collected 11 books to build the baseline model; \n"
      ],
      "metadata": {
        "id": "-1cNON-aMei7"
      }
    },
    {
      "cell_type": "markdown",
      "metadata": {
        "id": "sYOIkqBuZAm5"
      },
      "source": [
        "### **4. Model Training**"
      ]
    },
    {
      "cell_type": "markdown",
      "metadata": {
        "id": "9z3TG7_8mZJU"
      },
      "source": [
        "We skip the Data Transformation as the Tokenization and Numericalisation happens during the Model Training."
      ]
    },
    {
      "cell_type": "code",
      "metadata": {
        "id": "pnzDFAZZZXCf",
        "colab": {
          "base_uri": "https://localhost:8080/",
          "height": 177,
          "referenced_widgets": [
            "ffb2333591864a5ea6400b2a3254166e",
            "e36d87b9b9714675b4d1ee65a75ebd12",
            "cff5b006277346f5bef3bcdc810ca340",
            "37f311e329d64904b4864257588177ed",
            "f65191d1a3da49cf90950c3ad49a8648",
            "5f5d9a3ce0cb45589255bb37eaf0bc3e",
            "899c3d0b7f894aaaa18d54b02d5d90b2",
            "45f2a892cef942aeb51144aa556d07e7",
            "b982e1da5cff4290903b73d4d5b63e0c",
            "f55c7f3dc2ac4d0ca5e797247ecdc083",
            "de20b18b898143b8b464a3c0ef6cd793",
            "770f123a2f8e465d8970523249ddfb2e",
            "97461d6ce6544b7182789b12326e98ae",
            "bb512630bba34eeaaa2045034a3ad91f",
            "2a23f3a63f484e62a39ebcec7891dd66",
            "a0cb2fd61994439494cd87c4e3846cee",
            "4775a27053c74585b7c427e8a3295969",
            "1091352016d54adbb21aebb52dc8da6d",
            "c38b44f70e7c49fe838e57ec36ec5eab",
            "47ab29e6707547618e92cd38c2bd27da",
            "55114924e6384c90be5eedff49b8ba4b",
            "7f50ffefcc5c4a718ed6dc145bd64937",
            "677f6b4e73374f7c94fd84a0ad6dccab",
            "7dd7d2fb2c51449184da73eeed48076a",
            "0e64a1ae9eda45eebc2a795a24c8b831",
            "d227787ef7b747b1bb755d1c0231166d",
            "f14475f0a30246b0994978c7202ffd7b",
            "f2efeaf320ab46a8bae1446b85d8694b",
            "394adb860bf84e01be887f554e6bf3df",
            "0da8b18e2df84fe4810c85d28d14517b",
            "adcc7aea465648d9b0d4b737619870a2",
            "34b34043cd03452cba05ed4c53322be8",
            "c2da625b8a97445d91101592d01b9a9c",
            "190dcf71d7974adf8fda897b550d3ab0",
            "59aae545cfc1473997a8fdb2cf6f6bf7",
            "c087340ef9e948d2b27522c7ddf59bda",
            "2aed7791f4ff474aa97071ad07f31722",
            "aa5926b8785645f7a2e4e6d336f41ea8",
            "f84970dc7c364b2f8e339c05541ee6a8",
            "127194a883ff4bbf960c2c732562388a",
            "fa531653c0214dcd9a88ae4a44914997",
            "0ee1e1b97b7844a9b80fa2966467ee6d",
            "0aca59702e4f4b4995f1fdaab7bd7261",
            "c10e79c46f5b4a7aa17203f892207a7b",
            "7d6cf76a8531408a917c8c1010d71075",
            "c0eee193fe334583aa04369be5e686c4",
            "eba7153a1856483d94c8959b552a586b",
            "2c394823c06a4811b83dab6f24899130",
            "d0a3a7ebd75c4d44b67c57ad1019ae57",
            "8fbffcaae59d461392457bcb6d7875ce",
            "21a4e6d8c14748db8e4e3f50d169c55e",
            "b1ee6853ab6e4ae99e374e26f782d0b3",
            "c961d240ab824a519376e5c27d3d34bc",
            "add05ecdfee04e3ca9af5f7b06e8eecc",
            "a656922d36d74bc69d8299c16bb28f9b"
          ]
        },
        "outputId": "ff51ebba-3bd9-4997-b6c2-673a7e5ecc3d"
      },
      "source": [
        "pretrained_model = pipeline(\"text-generation\", model='gpt2')"
      ],
      "execution_count": null,
      "outputs": [
        {
          "output_type": "display_data",
          "data": {
            "text/plain": [
              "Downloading:   0%|          | 0.00/665 [00:00<?, ?B/s]"
            ],
            "application/vnd.jupyter.widget-view+json": {
              "version_major": 2,
              "version_minor": 0,
              "model_id": "ffb2333591864a5ea6400b2a3254166e"
            }
          },
          "metadata": {}
        },
        {
          "output_type": "display_data",
          "data": {
            "text/plain": [
              "Downloading:   0%|          | 0.00/548M [00:00<?, ?B/s]"
            ],
            "application/vnd.jupyter.widget-view+json": {
              "version_major": 2,
              "version_minor": 0,
              "model_id": "770f123a2f8e465d8970523249ddfb2e"
            }
          },
          "metadata": {}
        },
        {
          "output_type": "display_data",
          "data": {
            "text/plain": [
              "Downloading:   0%|          | 0.00/1.04M [00:00<?, ?B/s]"
            ],
            "application/vnd.jupyter.widget-view+json": {
              "version_major": 2,
              "version_minor": 0,
              "model_id": "677f6b4e73374f7c94fd84a0ad6dccab"
            }
          },
          "metadata": {}
        },
        {
          "output_type": "display_data",
          "data": {
            "text/plain": [
              "Downloading:   0%|          | 0.00/456k [00:00<?, ?B/s]"
            ],
            "application/vnd.jupyter.widget-view+json": {
              "version_major": 2,
              "version_minor": 0,
              "model_id": "190dcf71d7974adf8fda897b550d3ab0"
            }
          },
          "metadata": {}
        },
        {
          "output_type": "display_data",
          "data": {
            "text/plain": [
              "Downloading:   0%|          | 0.00/1.36M [00:00<?, ?B/s]"
            ],
            "application/vnd.jupyter.widget-view+json": {
              "version_major": 2,
              "version_minor": 0,
              "model_id": "7d6cf76a8531408a917c8c1010d71075"
            }
          },
          "metadata": {}
        }
      ]
    },
    {
      "cell_type": "markdown",
      "metadata": {
        "id": "hXFzPxONZGu1"
      },
      "source": [
        "### **5. Interpret the model and generate text.**"
      ]
    },
    {
      "cell_type": "code",
      "metadata": {
        "id": "mDmQ23JmZWrn"
      },
      "source": [
        "arguments = TrainingArguments(\n",
        "    output_dir=\"./write_style\",\n",
        "    overwrite_output_dir=True,  \n",
        "    num_train_epochs=3,\n",
        "    per_device_train_batch_size=24,\n",
        "    per_device_eval_batch_size=64,\n",
        "    )"
      ],
      "execution_count": null,
      "outputs": []
    },
    {
      "cell_type": "code",
      "source": [
        "textual= ArtsandCraftsEssays.text+PrinciplesofDecorativeDesignbyChristopherDresser.text+TheBotanicalMagazineVol02byWilliamCurtis.text+ThePrinciplesofOrnamentbyJamesWard.text+TheBotanicalMagazineVol08byWilliamCurtis.text+EvolutionInArt.text+HardyOrnamentalFloweringTreesandShrubsbyAngusDWebster.text+OriginandDevelopmentofFormandOrnamentinCeramicArtbyWilliamHenryHolmes.text+TalksAboutFlowersbyMrsMDWellcome.text+HistoricOrnamentVol1of2byJamesWard.text+HistoricOrnamentVol2of2byJamesWard.text"
      ],
      "metadata": {
        "id": "E95hE4ieTiMb"
      },
      "execution_count": null,
      "outputs": []
    },
    {
      "cell_type": "code",
      "source": [
        "str1=\"ArtsandCraftsEssays.text\"\n",
        "str2=\"PrinciplesofDecorativeDesignbyChristopherDresser.text\"\n",
        "str3=\"TheBotanicalMagazineVol02byWilliamCurtis.text\"\n",
        "str4=\"ThePrinciplesofOrnamentbyJamesWard.text\"\n",
        "str5=\"TheBotanicalMagazineVol08byWilliamCurtis.text\"\n",
        "str6=\"EvolutionInArt.text\"\n",
        "str7=\"HardyOrnamentalFloweringTreesandShrubsbyAngusDWebster.text\"\n",
        "str8=\"OriginandDevelopmentofFormandOrnamentinCeramicArtbyWilliamHenryHolmes.text\"\n",
        "str9=\"TalksAboutFlowersbyMrsMDWellcome.text\"\n",
        "str10=\"HistoricOrnamentVol1of2byJamesWard.text’\"\n",
        "str11=\"HistoricOrnamentVol2of2byJamesWard.text\"\n",
        "File_object.writelines(L) for L = [str1, str2, str3, str4, str5, str6, str7, str8, str9, str10, str11] \n",
        "\n",
        "# Opening a file\n",
        "file1 = open(\"ArtsandCraftsEssays.text\", \"PrinciplesofDecorativeDesignbyChristopherDresser.text\", \"TheBotanicalMagazineVol02byWilliamCurtis.text\", \"ThePrinciplesofOrnamentbyJamesWard.text\", \"TheBotanicalMagazineVol08byWilliamCurtis.text\", \"EvolutionInArt.text\", \"HardyOrnamentalFloweringTreesandShrubsbyAngusDWebster.text\", \"OriginandDevelopmentofFormandOrnamentinCeramicArtbyWilliamHenryHolmes.text\", \"TalksAboutFlowersbyMrsMDWellcome.text\", \"HistoricOrnamentVol1of2byJamesWard.text\", \"HistoricOrnamentVol2of2byJamesWard.text\"\n",
        ")\n",
        "L = textual\n",
        "  \n",
        "# Writing multiple strings\n",
        "# at a time\n",
        "file1.writelines(L)"
      ],
      "metadata": {
        "colab": {
          "base_uri": "https://localhost:8080/",
          "height": 525
        },
        "id": "4CbnSb9zdf4W",
        "outputId": "3f84eaed-c31c-4ea2-810b-0ed037cbb3d2"
      },
      "execution_count": null,
      "outputs": [
        {
          "output_type": "display_data",
          "data": {
            "text/plain": [
              "<IPython.core.display.HTML object>"
            ],
            "text/html": [
              "<div>\n",
              "    <html>\n",
              "    <head>\n",
              "        <meta name=\"viewport\"\n",
              "        content=\"width=device-width, initial-scale=1\">\n",
              "    </head>\n",
              "    <body>\n",
              "        <a download=\"npakai_SyntaxError_0718_151153.html\" href=\"data:text/html;base64,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\" >\n",
              "    <button class=\"p-Widget jupyter-widgets jupyter-button widget-button mod-success\">\n",
              "        🦋 Download Report</button>\n",
              "    </a>\n",
              "    </body>\n",
              "</html> <span>Download error report and consult a mentor/TA</span>\n",
              "</div>\n",
              "<h2>🐞 [SyntaxError] Happened, Don't Panic</h2>\n",
              "\n",
              "<h3>🎸 UnpackAI Tips:</h3>\n",
              "<hr>\n",
              "<quote>\n",
              "    \n",
              "<h5>There is a <strong>grammatical</strong> error in your python code</h5>\n",
              "<p>Please check the following</p>\n",
              "<p>Every '(' or '[' or '{' or '\"' or ' was closed with properly</p>\n",
              "<p>':' should be followed by a new line with 1 extra <strong>indent</strong> (4 spaces)</p>\n",
              "<p>or other grammatical errors, please check traceback below for clue, usually <strong>near ^ mark</strong></p>\n",
              "\n",
              "</quote>\n",
              "<hr>\n",
              "\n",
              "<h3>🤔 Default message:</h3>\n",
              "<hr>\n",
              "<quote>\n",
              "    invalid syntax (<ipython-input-24-a75a2dc12757>, line 12)\n",
              "</quote>\n",
              "<hr>\n",
              "<h3>Traceback Info</h3>"
            ]
          },
          "metadata": {}
        },
        {
          "output_type": "stream",
          "name": "stdout",
          "text": [
            "Traceback \u001b[1;36m(most recent call last)\u001b[0m:\n",
            "\u001b[1;36m  File \u001b[1;32m\"/usr/local/lib/python3.7/dist-packages/IPython/core/compilerop.py\"\u001b[1;36m, line \u001b[1;32m100\u001b[1;36m, in \u001b[1;35mast_parse\u001b[1;36m\u001b[0m\n",
            "\u001b[1;33m    return compile(source, filename, symbol, self.flags | PyCF_ONLY_AST, 1)\u001b[0m\n",
            "\u001b[1;36m  File \u001b[1;32m\"<ipython-input-24-a75a2dc12757>\"\u001b[1;36m, line \u001b[1;32m12\u001b[0m\n",
            "\u001b[1;33m    File_object.writelines(L) for L = [str1, str2, str3, str4, str5, str6, str7, str8, str9, str10, str11]\u001b[0m\n",
            "\u001b[1;37m                                ^\u001b[0m\n",
            "\u001b[1;31mSyntaxError\u001b[0m\u001b[1;31m:\u001b[0m invalid syntax\n",
            "\n"
          ]
        }
      ]
    },
    {
      "cell_type": "code",
      "source": [
        "trainer = Textual.get_hf_trainer(\n",
        "    model=pretrained_model.model,\n",
        "    tokenizer = pretrained_model.tokenizer,\n",
        "    arguments = arguments\n",
        "    )"
      ],
      "metadata": {
        "colab": {
          "base_uri": "https://localhost:8080/",
          "height": 291
        },
        "id": "kwUUSAVq1k52",
        "outputId": "c3ea6cd7-3da4-4f5d-f0b2-a0b116b87c9b"
      },
      "execution_count": null,
      "outputs": [
        {
          "output_type": "display_data",
          "data": {
            "text/plain": [
              "<IPython.core.display.HTML object>"
            ],
            "text/html": [
              "<div>\n",
              "    <html>\n",
              "    <head>\n",
              "        <meta name=\"viewport\"\n",
              "        content=\"width=device-width, initial-scale=1\">\n",
              "    </head>\n",
              "    <body>\n",
              "        <a download=\"npakai_AttributeError_0718_140956.html\" href=\"data:text/html;base64,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\" >\n",
              "    <button class=\"p-Widget jupyter-widgets jupyter-button widget-button mod-success\">\n",
              "        🦋 Download Report</button>\n",
              "    </a>\n",
              "    </body>\n",
              "</html> <span>Download error report and consult a mentor/TA</span>\n",
              "</div>\n",
              "<h2>🐞 [AttributeError] Happened, Don't Panic</h2>\n",
              "\n",
              "<h3>🤔 Default message:</h3>\n",
              "<hr>\n",
              "<quote>\n",
              "    'str' object has no attribute 'get_hf_trainer'\n",
              "</quote>\n",
              "<hr>\n",
              "<h3>Traceback Info</h3>"
            ]
          },
          "metadata": {}
        },
        {
          "output_type": "stream",
          "name": "stdout",
          "text": [
            "Traceback \u001b[1;36m(most recent call last)\u001b[0m:\n",
            "\u001b[1;36m  File \u001b[1;32m\"<ipython-input-23-19b5967f9f81>\"\u001b[1;36m, line \u001b[1;32m1\u001b[1;36m, in \u001b[1;35m<module>\u001b[1;36m\u001b[0m\n",
            "\u001b[1;33m    trainer = Textual.get_hf_trainer(\u001b[0m\n",
            "\u001b[1;31mAttributeError\u001b[0m\u001b[1;31m:\u001b[0m 'str' object has no attribute 'get_hf_trainer'\n",
            "\n"
          ]
        }
      ]
    },
    {
      "cell_type": "code",
      "source": [
        "trainer.train()"
      ],
      "metadata": {
        "id": "jQYmFADe12YS",
        "colab": {
          "base_uri": "https://localhost:8080/",
          "height": 291
        },
        "outputId": "bdd1f661-5813-4330-dc4e-00e77f3ead38"
      },
      "execution_count": null,
      "outputs": [
        {
          "output_type": "display_data",
          "data": {
            "text/plain": [
              "<IPython.core.display.HTML object>"
            ],
            "text/html": [
              "<div>\n",
              "    <html>\n",
              "    <head>\n",
              "        <meta name=\"viewport\"\n",
              "        content=\"width=device-width, initial-scale=1\">\n",
              "    </head>\n",
              "    <body>\n",
              "        <a download=\"npakai_NameError_0718_140425.html\" href=\"data:text/html;base64,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\" >\n",
              "    <button class=\"p-Widget jupyter-widgets jupyter-button widget-button mod-success\">\n",
              "        🦋 Download Report</button>\n",
              "    </a>\n",
              "    </body>\n",
              "</html> <span>Download error report and consult a mentor/TA</span>\n",
              "</div>\n",
              "<h2>🐞 [NameError] Happened, Don't Panic</h2>\n",
              "\n",
              "<h3>🤔 Default message:</h3>\n",
              "<hr>\n",
              "<quote>\n",
              "    name 'trainer' is not defined\n",
              "</quote>\n",
              "<hr>\n",
              "<h3>Traceback Info</h3>"
            ]
          },
          "metadata": {}
        },
        {
          "output_type": "stream",
          "name": "stdout",
          "text": [
            "Traceback \u001b[1;36m(most recent call last)\u001b[0m:\n",
            "\u001b[1;36m  File \u001b[1;32m\"<ipython-input-22-3435b262f1ae>\"\u001b[1;36m, line \u001b[1;32m1\u001b[1;36m, in \u001b[1;35m<module>\u001b[1;36m\u001b[0m\n",
            "\u001b[1;33m    trainer.train()\u001b[0m\n",
            "\u001b[1;31mNameError\u001b[0m\u001b[1;31m:\u001b[0m name 'trainer' is not defined\n",
            "\n"
          ]
        }
      ]
    },
    {
      "cell_type": "code",
      "source": [
        "trainer.save_model()"
      ],
      "metadata": {
        "id": "pnCZG4xy2whe"
      },
      "execution_count": null,
      "outputs": []
    },
    {
      "cell_type": "code",
      "source": [
        "style_writer = pipeline('text-generation',\n",
        "                        model='./write_style',\n",
        "                        tokenizer=pretrained_model.tokenizer\n",
        "                        )"
      ],
      "metadata": {
        "id": "ahuEatAN22ET"
      },
      "execution_count": null,
      "outputs": []
    },
    {
      "cell_type": "code",
      "source": [
        "style_writer(\"How to design botanical pattern?\",\n",
        "            max_length=150,\n",
        "            num_return_sequences=1)"
      ],
      "metadata": {
        "colab": {
          "base_uri": "https://localhost:8080/"
        },
        "id": "FcuHOsd23TO3",
        "outputId": "3d58e6bb-2e1f-4900-9fa1-0b4462deee64"
      },
      "execution_count": null,
      "outputs": [
        {
          "output_type": "stream",
          "name": "stderr",
          "text": [
            "Using pad_token, but it is not set yet.\n",
            "Setting `pad_token_id` to `eos_token_id`:50256 for open-end generation.\n"
          ]
        },
        {
          "output_type": "execute_result",
          "data": {
            "text/plain": [
              "[{'generated_text': 'How to design botanical pattern? This is the first book that directly addresses this subject.  This introduction provides a more technical, more elegant explanation than the usual work of the botanists, and, with its many references, is perhaps best produced in a form which will be freely available to the general public.  While the general method of the manufacture of flowers may be described in more detail elsewhere, in detail a description of how one plants leaves flowers with respect to their parent or object must still be given.  Although many useful tips and exercises are found in the preceding volumes, they should not be neglected if a suitable system are to be developed.  This book is being written for general purposes, not suited for those of ornamental design,'}]"
            ]
          },
          "metadata": {},
          "execution_count": 30
        }
      ]
    },
    {
      "cell_type": "code",
      "source": [
        "style_writer(\"How to design pattern in william morris style?\",\n",
        "            max_length=150,\n",
        "            num_return_sequences=1)"
      ],
      "metadata": {
        "id": "RFvXSwU7WWu-",
        "outputId": "56278bc5-6836-4dcd-abff-2e471d8073ea",
        "colab": {
          "base_uri": "https://localhost:8080/"
        }
      },
      "execution_count": null,
      "outputs": [
        {
          "output_type": "stream",
          "name": "stderr",
          "text": [
            "Using pad_token, but it is not set yet.\n",
            "Setting `pad_token_id` to `eos_token_id`:50256 for open-end generation.\n"
          ]
        },
        {
          "output_type": "execute_result",
          "data": {
            "text/plain": [
              "[{'generated_text': \"How to design pattern in william morris style? Flowers, with white heads and yellow-white berries, are produced from December till April in these beautiful forms. Each shoots four feet high, and grows from about one foot deep. They are very valuable early-growing varieties, and produced not only at our garden plants, but as also being of great value in the making of decorative shrubs, and in the growing centre of the walls of houses.  WILLIAM HUGBETTS (_syn Japonica_).--Common Willingham's Cabbage. North America. 2 vols., London. 416 or 417 c.  WILLIAM HUGBETTS (_syn Japonica_).--Japanese Green\"}]"
            ]
          },
          "metadata": {},
          "execution_count": 31
        }
      ]
    },
    {
      "cell_type": "code",
      "source": [
        "style_writer(\"How to decorate the wall in living room with Botanical pattern in william morris style?\",\n",
        "            max_length=150,\n",
        "            num_return_sequences=1)"
      ],
      "metadata": {
        "id": "5HoS8FVUX0qf",
        "outputId": "8fa3891c-cd45-40d9-dc60-b706526fa653",
        "colab": {
          "base_uri": "https://localhost:8080/"
        }
      },
      "execution_count": null,
      "outputs": [
        {
          "output_type": "stream",
          "name": "stderr",
          "text": [
            "Using pad_token, but it is not set yet.\n",
            "Setting `pad_token_id` to `eos_token_id`:50256 for open-end generation.\n"
          ]
        },
        {
          "output_type": "execute_result",
          "data": {
            "text/plain": [
              "[{'generated_text': 'How to decorate the wall in living room with Botanical pattern in william morris style?  The only practical way to do this is by hanging it onto a wall. The larger the wall, the more interesting the flowers will become.  For the younger generations, these flowers should be planted to the inside of a window sill or hanging box.  The decorative flowers are arranged in clusters. The leaves of the flower-bearing flowers are produced in clusters.  Flowers that are larger are usually well-known shrubs like The Botanical Nursery of Wales, or the Almond Tree of the Isles, where they are produced in clusters.   A large number of ornamental flowers usually fall into the branches of this family, but not'}]"
            ]
          },
          "metadata": {},
          "execution_count": 32
        }
      ]
    },
    {
      "cell_type": "code",
      "source": [
        "style_writer(\"How to decorate the wall in the corridor with pattern in William Morris’s style?\",\n",
        "             max_length=100,\n",
        "             num_return_sequences=1)"
      ],
      "metadata": {
        "id": "1EvoCkAqx1Wb"
      },
      "execution_count": null,
      "outputs": []
    },
    {
      "cell_type": "markdown",
      "source": [
        "### **6. Model's input and output**"
      ],
      "metadata": {
        "id": "-df_Q4iAhhKK"
      }
    },
    {
      "cell_type": "markdown",
      "source": [
        "Your ML model's output comes back to what machine learning task you initially selected. Supervised machine learning tasks require labeled datasets (x and y) for the ML model to learn how to map your data (x) to the desired output/label (y).\n",
        "Please describe your data labels (you can also insert the actual example of the label) and discuss if the model output satisfies the project's objective. "
      ],
      "metadata": {
        "id": "Zx1lgipThnt8"
      }
    },
    {
      "cell_type": "markdown",
      "source": [
        "What data type and format (e.g. jpeg images, csv file, pdf file) will you utilize for data pre-processing before you feed them for model training? <br>\n",
        "The data type and format I'm using for the pre-processing is .txt file; <br>\n",
        "x=\"How to design botanical pattern?\" <br>\n",
        "x=\"How to design pattern in william morris style?\" <br>\n",
        "x=\"How to decorate the wall in living room with Botanical pattern in william morris style?\" <br>\n"
      ],
      "metadata": {
        "id": "gzxhkQxkhscJ"
      }
    },
    {
      "cell_type": "markdown",
      "source": [
        "What's your data label? What do you want to predict? <br>\n",
        "I want to predict that the trained text geneator can answer user's questions or predict what they're looking for by user's inputed keywords; <br>\n",
        "y= \"max_length=150\""
      ],
      "metadata": {
        "id": "YunkX5SLhxGb"
      }
    },
    {
      "cell_type": "markdown",
      "source": [
        "### 7. What metrics explain your model performance?"
      ],
      "metadata": {
        "id": "GzZOM_emh0xc"
      }
    },
    {
      "cell_type": "markdown",
      "source": [
        "First think in terms of \"Business Metrics\" or business/practical objectives, not technical metrics. Then apply this thinking to figuring out one or a combination of ML evaluation metrics and human readable metrics that match the business objectives. <br>\n",
        "For example, for an image classification model to evaluate its prediction results you could use error rate or accuracy, while confusion matrix can be better in explaining how model performs on a particular class. <br>\n",
        "To learn about the metrics for NLP-related problems, please check: Hugging Face <br>\n",
        "For general classification and regression problems, please check: neptune.ai's blog <br>"
      ],
      "metadata": {
        "id": "GoI7vAe8h9Nc"
      }
    },
    {
      "cell_type": "markdown",
      "source": [
        "1. What are non-ML baselines you can consider as reference for a model performance?"
      ],
      "metadata": {
        "id": "sKM8s5RIiEAg"
      }
    },
    {
      "cell_type": "markdown",
      "source": [
        "2. What are your model evaluation metrics and why?\n",
        "\n",
        "*   Syntactically acctuate\n",
        "*   Formal grammar accruate\n",
        "*   Personal perception"
      ],
      "metadata": {
        "id": "b_qCC5NfiG3n"
      }
    },
    {
      "cell_type": "markdown",
      "source": [
        "3. Is the metric you selected intuitive enough to communicate the results of the model training to non-ML guys? <br>\n",
        "I'm not sure as I think the result so far is not bad, but it can be better with more data;"
      ],
      "metadata": {
        "id": "VFF3oUopiJnc"
      }
    },
    {
      "cell_type": "markdown",
      "source": [
        "4. Can your metric explain model's biases? <br>\n",
        "It defintelly can, as the data I've been feeding only covers certain styles of the design; more comprehensive data is needed to make the output more neutral and no biases;\n"
      ],
      "metadata": {
        "id": "clonmgRGiKex"
      }
    }
  ]
}