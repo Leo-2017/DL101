{
  "nbformat": 4,
  "nbformat_minor": 0,
  "metadata": {
    "colab": {
      "name": "Pattern Player.ipynb",
      "provenance": [],
      "collapsed_sections": [],
      "include_colab_link": true
    },
    "jupytext": {
      "split_at_heading": true
    },
    "kernelspec": {
      "display_name": "Python 3",
      "language": "python",
      "name": "python3"
    },
    "gpuClass": "standard",
    "widgets": {
      "application/vnd.jupyter.widget-state+json": {
        "922eceefed304b6096f32117c7281e4a": {
          "model_module": "@jupyter-widgets/controls",
          "model_name": "HBoxModel",
          "model_module_version": "1.5.0",
          "state": {
            "_dom_classes": [],
            "_model_module": "@jupyter-widgets/controls",
            "_model_module_version": "1.5.0",
            "_model_name": "HBoxModel",
            "_view_count": null,
            "_view_module": "@jupyter-widgets/controls",
            "_view_module_version": "1.5.0",
            "_view_name": "HBoxView",
            "box_style": "",
            "children": [
              "IPY_MODEL_7406126bbd2c4781bdd50690bc69d95d",
              "IPY_MODEL_e8cd37a562e14a559c4b5dedd688624e",
              "IPY_MODEL_f67431e7179742728358c164ab1d4458"
            ],
            "layout": "IPY_MODEL_f8107b9d3f2548e88876daa34701b8aa"
          }
        },
        "7406126bbd2c4781bdd50690bc69d95d": {
          "model_module": "@jupyter-widgets/controls",
          "model_name": "HTMLModel",
          "model_module_version": "1.5.0",
          "state": {
            "_dom_classes": [],
            "_model_module": "@jupyter-widgets/controls",
            "_model_module_version": "1.5.0",
            "_model_name": "HTMLModel",
            "_view_count": null,
            "_view_module": "@jupyter-widgets/controls",
            "_view_module_version": "1.5.0",
            "_view_name": "HTMLView",
            "description": "",
            "description_tooltip": null,
            "layout": "IPY_MODEL_faf9e94aae6041018bb6ec43e06f9a72",
            "placeholder": "​",
            "style": "IPY_MODEL_62443fed553d4584858dd9f30da7ee73",
            "value": "Downloading: 100%"
          }
        },
        "e8cd37a562e14a559c4b5dedd688624e": {
          "model_module": "@jupyter-widgets/controls",
          "model_name": "FloatProgressModel",
          "model_module_version": "1.5.0",
          "state": {
            "_dom_classes": [],
            "_model_module": "@jupyter-widgets/controls",
            "_model_module_version": "1.5.0",
            "_model_name": "FloatProgressModel",
            "_view_count": null,
            "_view_module": "@jupyter-widgets/controls",
            "_view_module_version": "1.5.0",
            "_view_name": "ProgressView",
            "bar_style": "success",
            "description": "",
            "description_tooltip": null,
            "layout": "IPY_MODEL_54707c14d00f4d22896fef449a06b812",
            "max": 665,
            "min": 0,
            "orientation": "horizontal",
            "style": "IPY_MODEL_0cf1a9a821884c368ec0e4b7fece2763",
            "value": 665
          }
        },
        "f67431e7179742728358c164ab1d4458": {
          "model_module": "@jupyter-widgets/controls",
          "model_name": "HTMLModel",
          "model_module_version": "1.5.0",
          "state": {
            "_dom_classes": [],
            "_model_module": "@jupyter-widgets/controls",
            "_model_module_version": "1.5.0",
            "_model_name": "HTMLModel",
            "_view_count": null,
            "_view_module": "@jupyter-widgets/controls",
            "_view_module_version": "1.5.0",
            "_view_name": "HTMLView",
            "description": "",
            "description_tooltip": null,
            "layout": "IPY_MODEL_b8b35651eb074338b47e8ecb2b5cd4ac",
            "placeholder": "​",
            "style": "IPY_MODEL_eb61cd8f0d16433da39e9679907d03e6",
            "value": " 665/665 [00:00&lt;00:00, 14.2kB/s]"
          }
        },
        "f8107b9d3f2548e88876daa34701b8aa": {
          "model_module": "@jupyter-widgets/base",
          "model_name": "LayoutModel",
          "model_module_version": "1.2.0",
          "state": {
            "_model_module": "@jupyter-widgets/base",
            "_model_module_version": "1.2.0",
            "_model_name": "LayoutModel",
            "_view_count": null,
            "_view_module": "@jupyter-widgets/base",
            "_view_module_version": "1.2.0",
            "_view_name": "LayoutView",
            "align_content": null,
            "align_items": null,
            "align_self": null,
            "border": null,
            "bottom": null,
            "display": null,
            "flex": null,
            "flex_flow": null,
            "grid_area": null,
            "grid_auto_columns": null,
            "grid_auto_flow": null,
            "grid_auto_rows": null,
            "grid_column": null,
            "grid_gap": null,
            "grid_row": null,
            "grid_template_areas": null,
            "grid_template_columns": null,
            "grid_template_rows": null,
            "height": null,
            "justify_content": null,
            "justify_items": null,
            "left": null,
            "margin": null,
            "max_height": null,
            "max_width": null,
            "min_height": null,
            "min_width": null,
            "object_fit": null,
            "object_position": null,
            "order": null,
            "overflow": null,
            "overflow_x": null,
            "overflow_y": null,
            "padding": null,
            "right": null,
            "top": null,
            "visibility": null,
            "width": null
          }
        },
        "faf9e94aae6041018bb6ec43e06f9a72": {
          "model_module": "@jupyter-widgets/base",
          "model_name": "LayoutModel",
          "model_module_version": "1.2.0",
          "state": {
            "_model_module": "@jupyter-widgets/base",
            "_model_module_version": "1.2.0",
            "_model_name": "LayoutModel",
            "_view_count": null,
            "_view_module": "@jupyter-widgets/base",
            "_view_module_version": "1.2.0",
            "_view_name": "LayoutView",
            "align_content": null,
            "align_items": null,
            "align_self": null,
            "border": null,
            "bottom": null,
            "display": null,
            "flex": null,
            "flex_flow": null,
            "grid_area": null,
            "grid_auto_columns": null,
            "grid_auto_flow": null,
            "grid_auto_rows": null,
            "grid_column": null,
            "grid_gap": null,
            "grid_row": null,
            "grid_template_areas": null,
            "grid_template_columns": null,
            "grid_template_rows": null,
            "height": null,
            "justify_content": null,
            "justify_items": null,
            "left": null,
            "margin": null,
            "max_height": null,
            "max_width": null,
            "min_height": null,
            "min_width": null,
            "object_fit": null,
            "object_position": null,
            "order": null,
            "overflow": null,
            "overflow_x": null,
            "overflow_y": null,
            "padding": null,
            "right": null,
            "top": null,
            "visibility": null,
            "width": null
          }
        },
        "62443fed553d4584858dd9f30da7ee73": {
          "model_module": "@jupyter-widgets/controls",
          "model_name": "DescriptionStyleModel",
          "model_module_version": "1.5.0",
          "state": {
            "_model_module": "@jupyter-widgets/controls",
            "_model_module_version": "1.5.0",
            "_model_name": "DescriptionStyleModel",
            "_view_count": null,
            "_view_module": "@jupyter-widgets/base",
            "_view_module_version": "1.2.0",
            "_view_name": "StyleView",
            "description_width": ""
          }
        },
        "54707c14d00f4d22896fef449a06b812": {
          "model_module": "@jupyter-widgets/base",
          "model_name": "LayoutModel",
          "model_module_version": "1.2.0",
          "state": {
            "_model_module": "@jupyter-widgets/base",
            "_model_module_version": "1.2.0",
            "_model_name": "LayoutModel",
            "_view_count": null,
            "_view_module": "@jupyter-widgets/base",
            "_view_module_version": "1.2.0",
            "_view_name": "LayoutView",
            "align_content": null,
            "align_items": null,
            "align_self": null,
            "border": null,
            "bottom": null,
            "display": null,
            "flex": null,
            "flex_flow": null,
            "grid_area": null,
            "grid_auto_columns": null,
            "grid_auto_flow": null,
            "grid_auto_rows": null,
            "grid_column": null,
            "grid_gap": null,
            "grid_row": null,
            "grid_template_areas": null,
            "grid_template_columns": null,
            "grid_template_rows": null,
            "height": null,
            "justify_content": null,
            "justify_items": null,
            "left": null,
            "margin": null,
            "max_height": null,
            "max_width": null,
            "min_height": null,
            "min_width": null,
            "object_fit": null,
            "object_position": null,
            "order": null,
            "overflow": null,
            "overflow_x": null,
            "overflow_y": null,
            "padding": null,
            "right": null,
            "top": null,
            "visibility": null,
            "width": null
          }
        },
        "0cf1a9a821884c368ec0e4b7fece2763": {
          "model_module": "@jupyter-widgets/controls",
          "model_name": "ProgressStyleModel",
          "model_module_version": "1.5.0",
          "state": {
            "_model_module": "@jupyter-widgets/controls",
            "_model_module_version": "1.5.0",
            "_model_name": "ProgressStyleModel",
            "_view_count": null,
            "_view_module": "@jupyter-widgets/base",
            "_view_module_version": "1.2.0",
            "_view_name": "StyleView",
            "bar_color": null,
            "description_width": ""
          }
        },
        "b8b35651eb074338b47e8ecb2b5cd4ac": {
          "model_module": "@jupyter-widgets/base",
          "model_name": "LayoutModel",
          "model_module_version": "1.2.0",
          "state": {
            "_model_module": "@jupyter-widgets/base",
            "_model_module_version": "1.2.0",
            "_model_name": "LayoutModel",
            "_view_count": null,
            "_view_module": "@jupyter-widgets/base",
            "_view_module_version": "1.2.0",
            "_view_name": "LayoutView",
            "align_content": null,
            "align_items": null,
            "align_self": null,
            "border": null,
            "bottom": null,
            "display": null,
            "flex": null,
            "flex_flow": null,
            "grid_area": null,
            "grid_auto_columns": null,
            "grid_auto_flow": null,
            "grid_auto_rows": null,
            "grid_column": null,
            "grid_gap": null,
            "grid_row": null,
            "grid_template_areas": null,
            "grid_template_columns": null,
            "grid_template_rows": null,
            "height": null,
            "justify_content": null,
            "justify_items": null,
            "left": null,
            "margin": null,
            "max_height": null,
            "max_width": null,
            "min_height": null,
            "min_width": null,
            "object_fit": null,
            "object_position": null,
            "order": null,
            "overflow": null,
            "overflow_x": null,
            "overflow_y": null,
            "padding": null,
            "right": null,
            "top": null,
            "visibility": null,
            "width": null
          }
        },
        "eb61cd8f0d16433da39e9679907d03e6": {
          "model_module": "@jupyter-widgets/controls",
          "model_name": "DescriptionStyleModel",
          "model_module_version": "1.5.0",
          "state": {
            "_model_module": "@jupyter-widgets/controls",
            "_model_module_version": "1.5.0",
            "_model_name": "DescriptionStyleModel",
            "_view_count": null,
            "_view_module": "@jupyter-widgets/base",
            "_view_module_version": "1.2.0",
            "_view_name": "StyleView",
            "description_width": ""
          }
        },
        "3816ef3e81cb42a48c53ec16ed0d217c": {
          "model_module": "@jupyter-widgets/controls",
          "model_name": "HBoxModel",
          "model_module_version": "1.5.0",
          "state": {
            "_dom_classes": [],
            "_model_module": "@jupyter-widgets/controls",
            "_model_module_version": "1.5.0",
            "_model_name": "HBoxModel",
            "_view_count": null,
            "_view_module": "@jupyter-widgets/controls",
            "_view_module_version": "1.5.0",
            "_view_name": "HBoxView",
            "box_style": "",
            "children": [
              "IPY_MODEL_463ac3127f1544c48590367b2a99e35e",
              "IPY_MODEL_74e6575be8144d7faaa97c70107b17e1",
              "IPY_MODEL_e07e23f5b5db4d088c755deaeb4e4b30"
            ],
            "layout": "IPY_MODEL_750307af90d44bbeb54f990c091a125a"
          }
        },
        "463ac3127f1544c48590367b2a99e35e": {
          "model_module": "@jupyter-widgets/controls",
          "model_name": "HTMLModel",
          "model_module_version": "1.5.0",
          "state": {
            "_dom_classes": [],
            "_model_module": "@jupyter-widgets/controls",
            "_model_module_version": "1.5.0",
            "_model_name": "HTMLModel",
            "_view_count": null,
            "_view_module": "@jupyter-widgets/controls",
            "_view_module_version": "1.5.0",
            "_view_name": "HTMLView",
            "description": "",
            "description_tooltip": null,
            "layout": "IPY_MODEL_bcc57045ad7948f0bf3ca9ac817639eb",
            "placeholder": "​",
            "style": "IPY_MODEL_d51874ba5163417ea739308549341f51",
            "value": "Downloading: 100%"
          }
        },
        "74e6575be8144d7faaa97c70107b17e1": {
          "model_module": "@jupyter-widgets/controls",
          "model_name": "FloatProgressModel",
          "model_module_version": "1.5.0",
          "state": {
            "_dom_classes": [],
            "_model_module": "@jupyter-widgets/controls",
            "_model_module_version": "1.5.0",
            "_model_name": "FloatProgressModel",
            "_view_count": null,
            "_view_module": "@jupyter-widgets/controls",
            "_view_module_version": "1.5.0",
            "_view_name": "ProgressView",
            "bar_style": "success",
            "description": "",
            "description_tooltip": null,
            "layout": "IPY_MODEL_27174062521842c0a66b089872186313",
            "max": 548118077,
            "min": 0,
            "orientation": "horizontal",
            "style": "IPY_MODEL_7619001918e54ad18c7332682759a6e3",
            "value": 548118077
          }
        },
        "e07e23f5b5db4d088c755deaeb4e4b30": {
          "model_module": "@jupyter-widgets/controls",
          "model_name": "HTMLModel",
          "model_module_version": "1.5.0",
          "state": {
            "_dom_classes": [],
            "_model_module": "@jupyter-widgets/controls",
            "_model_module_version": "1.5.0",
            "_model_name": "HTMLModel",
            "_view_count": null,
            "_view_module": "@jupyter-widgets/controls",
            "_view_module_version": "1.5.0",
            "_view_name": "HTMLView",
            "description": "",
            "description_tooltip": null,
            "layout": "IPY_MODEL_9c6d4df7f78f478aab98d86c3f5c9381",
            "placeholder": "​",
            "style": "IPY_MODEL_5e877246694e437f9b39aaa0319ff25b",
            "value": " 548M/548M [00:15&lt;00:00, 38.1MB/s]"
          }
        },
        "750307af90d44bbeb54f990c091a125a": {
          "model_module": "@jupyter-widgets/base",
          "model_name": "LayoutModel",
          "model_module_version": "1.2.0",
          "state": {
            "_model_module": "@jupyter-widgets/base",
            "_model_module_version": "1.2.0",
            "_model_name": "LayoutModel",
            "_view_count": null,
            "_view_module": "@jupyter-widgets/base",
            "_view_module_version": "1.2.0",
            "_view_name": "LayoutView",
            "align_content": null,
            "align_items": null,
            "align_self": null,
            "border": null,
            "bottom": null,
            "display": null,
            "flex": null,
            "flex_flow": null,
            "grid_area": null,
            "grid_auto_columns": null,
            "grid_auto_flow": null,
            "grid_auto_rows": null,
            "grid_column": null,
            "grid_gap": null,
            "grid_row": null,
            "grid_template_areas": null,
            "grid_template_columns": null,
            "grid_template_rows": null,
            "height": null,
            "justify_content": null,
            "justify_items": null,
            "left": null,
            "margin": null,
            "max_height": null,
            "max_width": null,
            "min_height": null,
            "min_width": null,
            "object_fit": null,
            "object_position": null,
            "order": null,
            "overflow": null,
            "overflow_x": null,
            "overflow_y": null,
            "padding": null,
            "right": null,
            "top": null,
            "visibility": null,
            "width": null
          }
        },
        "bcc57045ad7948f0bf3ca9ac817639eb": {
          "model_module": "@jupyter-widgets/base",
          "model_name": "LayoutModel",
          "model_module_version": "1.2.0",
          "state": {
            "_model_module": "@jupyter-widgets/base",
            "_model_module_version": "1.2.0",
            "_model_name": "LayoutModel",
            "_view_count": null,
            "_view_module": "@jupyter-widgets/base",
            "_view_module_version": "1.2.0",
            "_view_name": "LayoutView",
            "align_content": null,
            "align_items": null,
            "align_self": null,
            "border": null,
            "bottom": null,
            "display": null,
            "flex": null,
            "flex_flow": null,
            "grid_area": null,
            "grid_auto_columns": null,
            "grid_auto_flow": null,
            "grid_auto_rows": null,
            "grid_column": null,
            "grid_gap": null,
            "grid_row": null,
            "grid_template_areas": null,
            "grid_template_columns": null,
            "grid_template_rows": null,
            "height": null,
            "justify_content": null,
            "justify_items": null,
            "left": null,
            "margin": null,
            "max_height": null,
            "max_width": null,
            "min_height": null,
            "min_width": null,
            "object_fit": null,
            "object_position": null,
            "order": null,
            "overflow": null,
            "overflow_x": null,
            "overflow_y": null,
            "padding": null,
            "right": null,
            "top": null,
            "visibility": null,
            "width": null
          }
        },
        "d51874ba5163417ea739308549341f51": {
          "model_module": "@jupyter-widgets/controls",
          "model_name": "DescriptionStyleModel",
          "model_module_version": "1.5.0",
          "state": {
            "_model_module": "@jupyter-widgets/controls",
            "_model_module_version": "1.5.0",
            "_model_name": "DescriptionStyleModel",
            "_view_count": null,
            "_view_module": "@jupyter-widgets/base",
            "_view_module_version": "1.2.0",
            "_view_name": "StyleView",
            "description_width": ""
          }
        },
        "27174062521842c0a66b089872186313": {
          "model_module": "@jupyter-widgets/base",
          "model_name": "LayoutModel",
          "model_module_version": "1.2.0",
          "state": {
            "_model_module": "@jupyter-widgets/base",
            "_model_module_version": "1.2.0",
            "_model_name": "LayoutModel",
            "_view_count": null,
            "_view_module": "@jupyter-widgets/base",
            "_view_module_version": "1.2.0",
            "_view_name": "LayoutView",
            "align_content": null,
            "align_items": null,
            "align_self": null,
            "border": null,
            "bottom": null,
            "display": null,
            "flex": null,
            "flex_flow": null,
            "grid_area": null,
            "grid_auto_columns": null,
            "grid_auto_flow": null,
            "grid_auto_rows": null,
            "grid_column": null,
            "grid_gap": null,
            "grid_row": null,
            "grid_template_areas": null,
            "grid_template_columns": null,
            "grid_template_rows": null,
            "height": null,
            "justify_content": null,
            "justify_items": null,
            "left": null,
            "margin": null,
            "max_height": null,
            "max_width": null,
            "min_height": null,
            "min_width": null,
            "object_fit": null,
            "object_position": null,
            "order": null,
            "overflow": null,
            "overflow_x": null,
            "overflow_y": null,
            "padding": null,
            "right": null,
            "top": null,
            "visibility": null,
            "width": null
          }
        },
        "7619001918e54ad18c7332682759a6e3": {
          "model_module": "@jupyter-widgets/controls",
          "model_name": "ProgressStyleModel",
          "model_module_version": "1.5.0",
          "state": {
            "_model_module": "@jupyter-widgets/controls",
            "_model_module_version": "1.5.0",
            "_model_name": "ProgressStyleModel",
            "_view_count": null,
            "_view_module": "@jupyter-widgets/base",
            "_view_module_version": "1.2.0",
            "_view_name": "StyleView",
            "bar_color": null,
            "description_width": ""
          }
        },
        "9c6d4df7f78f478aab98d86c3f5c9381": {
          "model_module": "@jupyter-widgets/base",
          "model_name": "LayoutModel",
          "model_module_version": "1.2.0",
          "state": {
            "_model_module": "@jupyter-widgets/base",
            "_model_module_version": "1.2.0",
            "_model_name": "LayoutModel",
            "_view_count": null,
            "_view_module": "@jupyter-widgets/base",
            "_view_module_version": "1.2.0",
            "_view_name": "LayoutView",
            "align_content": null,
            "align_items": null,
            "align_self": null,
            "border": null,
            "bottom": null,
            "display": null,
            "flex": null,
            "flex_flow": null,
            "grid_area": null,
            "grid_auto_columns": null,
            "grid_auto_flow": null,
            "grid_auto_rows": null,
            "grid_column": null,
            "grid_gap": null,
            "grid_row": null,
            "grid_template_areas": null,
            "grid_template_columns": null,
            "grid_template_rows": null,
            "height": null,
            "justify_content": null,
            "justify_items": null,
            "left": null,
            "margin": null,
            "max_height": null,
            "max_width": null,
            "min_height": null,
            "min_width": null,
            "object_fit": null,
            "object_position": null,
            "order": null,
            "overflow": null,
            "overflow_x": null,
            "overflow_y": null,
            "padding": null,
            "right": null,
            "top": null,
            "visibility": null,
            "width": null
          }
        },
        "5e877246694e437f9b39aaa0319ff25b": {
          "model_module": "@jupyter-widgets/controls",
          "model_name": "DescriptionStyleModel",
          "model_module_version": "1.5.0",
          "state": {
            "_model_module": "@jupyter-widgets/controls",
            "_model_module_version": "1.5.0",
            "_model_name": "DescriptionStyleModel",
            "_view_count": null,
            "_view_module": "@jupyter-widgets/base",
            "_view_module_version": "1.2.0",
            "_view_name": "StyleView",
            "description_width": ""
          }
        },
        "8f92b1a3dda74b67afecb51e98aee2bc": {
          "model_module": "@jupyter-widgets/controls",
          "model_name": "HBoxModel",
          "model_module_version": "1.5.0",
          "state": {
            "_dom_classes": [],
            "_model_module": "@jupyter-widgets/controls",
            "_model_module_version": "1.5.0",
            "_model_name": "HBoxModel",
            "_view_count": null,
            "_view_module": "@jupyter-widgets/controls",
            "_view_module_version": "1.5.0",
            "_view_name": "HBoxView",
            "box_style": "",
            "children": [
              "IPY_MODEL_b4fa79e9b34e4beb97991e7065a79f2c",
              "IPY_MODEL_de01a7e6c1fb401b9ee1ce779d08f964",
              "IPY_MODEL_9a17c080cbf84ace987fa4911a142e91"
            ],
            "layout": "IPY_MODEL_a67ab598b1c44b7eab0a668842eea5df"
          }
        },
        "b4fa79e9b34e4beb97991e7065a79f2c": {
          "model_module": "@jupyter-widgets/controls",
          "model_name": "HTMLModel",
          "model_module_version": "1.5.0",
          "state": {
            "_dom_classes": [],
            "_model_module": "@jupyter-widgets/controls",
            "_model_module_version": "1.5.0",
            "_model_name": "HTMLModel",
            "_view_count": null,
            "_view_module": "@jupyter-widgets/controls",
            "_view_module_version": "1.5.0",
            "_view_name": "HTMLView",
            "description": "",
            "description_tooltip": null,
            "layout": "IPY_MODEL_a7180be23737457f8a8e7914593260e8",
            "placeholder": "​",
            "style": "IPY_MODEL_d4a7d44e933d4c3b8d86dbee48452c5b",
            "value": "Downloading: 100%"
          }
        },
        "de01a7e6c1fb401b9ee1ce779d08f964": {
          "model_module": "@jupyter-widgets/controls",
          "model_name": "FloatProgressModel",
          "model_module_version": "1.5.0",
          "state": {
            "_dom_classes": [],
            "_model_module": "@jupyter-widgets/controls",
            "_model_module_version": "1.5.0",
            "_model_name": "FloatProgressModel",
            "_view_count": null,
            "_view_module": "@jupyter-widgets/controls",
            "_view_module_version": "1.5.0",
            "_view_name": "ProgressView",
            "bar_style": "success",
            "description": "",
            "description_tooltip": null,
            "layout": "IPY_MODEL_3be5840638b24c2eb294ecb0b6828c0c",
            "max": 1042301,
            "min": 0,
            "orientation": "horizontal",
            "style": "IPY_MODEL_073113c7f8084eb79f885d532e5d11ab",
            "value": 1042301
          }
        },
        "9a17c080cbf84ace987fa4911a142e91": {
          "model_module": "@jupyter-widgets/controls",
          "model_name": "HTMLModel",
          "model_module_version": "1.5.0",
          "state": {
            "_dom_classes": [],
            "_model_module": "@jupyter-widgets/controls",
            "_model_module_version": "1.5.0",
            "_model_name": "HTMLModel",
            "_view_count": null,
            "_view_module": "@jupyter-widgets/controls",
            "_view_module_version": "1.5.0",
            "_view_name": "HTMLView",
            "description": "",
            "description_tooltip": null,
            "layout": "IPY_MODEL_118cd5af554f467cbd968b80f72bba6b",
            "placeholder": "​",
            "style": "IPY_MODEL_723af5c9cd54430c97afd12d0fe9ab0f",
            "value": " 1.04M/1.04M [00:00&lt;00:00, 3.80MB/s]"
          }
        },
        "a67ab598b1c44b7eab0a668842eea5df": {
          "model_module": "@jupyter-widgets/base",
          "model_name": "LayoutModel",
          "model_module_version": "1.2.0",
          "state": {
            "_model_module": "@jupyter-widgets/base",
            "_model_module_version": "1.2.0",
            "_model_name": "LayoutModel",
            "_view_count": null,
            "_view_module": "@jupyter-widgets/base",
            "_view_module_version": "1.2.0",
            "_view_name": "LayoutView",
            "align_content": null,
            "align_items": null,
            "align_self": null,
            "border": null,
            "bottom": null,
            "display": null,
            "flex": null,
            "flex_flow": null,
            "grid_area": null,
            "grid_auto_columns": null,
            "grid_auto_flow": null,
            "grid_auto_rows": null,
            "grid_column": null,
            "grid_gap": null,
            "grid_row": null,
            "grid_template_areas": null,
            "grid_template_columns": null,
            "grid_template_rows": null,
            "height": null,
            "justify_content": null,
            "justify_items": null,
            "left": null,
            "margin": null,
            "max_height": null,
            "max_width": null,
            "min_height": null,
            "min_width": null,
            "object_fit": null,
            "object_position": null,
            "order": null,
            "overflow": null,
            "overflow_x": null,
            "overflow_y": null,
            "padding": null,
            "right": null,
            "top": null,
            "visibility": null,
            "width": null
          }
        },
        "a7180be23737457f8a8e7914593260e8": {
          "model_module": "@jupyter-widgets/base",
          "model_name": "LayoutModel",
          "model_module_version": "1.2.0",
          "state": {
            "_model_module": "@jupyter-widgets/base",
            "_model_module_version": "1.2.0",
            "_model_name": "LayoutModel",
            "_view_count": null,
            "_view_module": "@jupyter-widgets/base",
            "_view_module_version": "1.2.0",
            "_view_name": "LayoutView",
            "align_content": null,
            "align_items": null,
            "align_self": null,
            "border": null,
            "bottom": null,
            "display": null,
            "flex": null,
            "flex_flow": null,
            "grid_area": null,
            "grid_auto_columns": null,
            "grid_auto_flow": null,
            "grid_auto_rows": null,
            "grid_column": null,
            "grid_gap": null,
            "grid_row": null,
            "grid_template_areas": null,
            "grid_template_columns": null,
            "grid_template_rows": null,
            "height": null,
            "justify_content": null,
            "justify_items": null,
            "left": null,
            "margin": null,
            "max_height": null,
            "max_width": null,
            "min_height": null,
            "min_width": null,
            "object_fit": null,
            "object_position": null,
            "order": null,
            "overflow": null,
            "overflow_x": null,
            "overflow_y": null,
            "padding": null,
            "right": null,
            "top": null,
            "visibility": null,
            "width": null
          }
        },
        "d4a7d44e933d4c3b8d86dbee48452c5b": {
          "model_module": "@jupyter-widgets/controls",
          "model_name": "DescriptionStyleModel",
          "model_module_version": "1.5.0",
          "state": {
            "_model_module": "@jupyter-widgets/controls",
            "_model_module_version": "1.5.0",
            "_model_name": "DescriptionStyleModel",
            "_view_count": null,
            "_view_module": "@jupyter-widgets/base",
            "_view_module_version": "1.2.0",
            "_view_name": "StyleView",
            "description_width": ""
          }
        },
        "3be5840638b24c2eb294ecb0b6828c0c": {
          "model_module": "@jupyter-widgets/base",
          "model_name": "LayoutModel",
          "model_module_version": "1.2.0",
          "state": {
            "_model_module": "@jupyter-widgets/base",
            "_model_module_version": "1.2.0",
            "_model_name": "LayoutModel",
            "_view_count": null,
            "_view_module": "@jupyter-widgets/base",
            "_view_module_version": "1.2.0",
            "_view_name": "LayoutView",
            "align_content": null,
            "align_items": null,
            "align_self": null,
            "border": null,
            "bottom": null,
            "display": null,
            "flex": null,
            "flex_flow": null,
            "grid_area": null,
            "grid_auto_columns": null,
            "grid_auto_flow": null,
            "grid_auto_rows": null,
            "grid_column": null,
            "grid_gap": null,
            "grid_row": null,
            "grid_template_areas": null,
            "grid_template_columns": null,
            "grid_template_rows": null,
            "height": null,
            "justify_content": null,
            "justify_items": null,
            "left": null,
            "margin": null,
            "max_height": null,
            "max_width": null,
            "min_height": null,
            "min_width": null,
            "object_fit": null,
            "object_position": null,
            "order": null,
            "overflow": null,
            "overflow_x": null,
            "overflow_y": null,
            "padding": null,
            "right": null,
            "top": null,
            "visibility": null,
            "width": null
          }
        },
        "073113c7f8084eb79f885d532e5d11ab": {
          "model_module": "@jupyter-widgets/controls",
          "model_name": "ProgressStyleModel",
          "model_module_version": "1.5.0",
          "state": {
            "_model_module": "@jupyter-widgets/controls",
            "_model_module_version": "1.5.0",
            "_model_name": "ProgressStyleModel",
            "_view_count": null,
            "_view_module": "@jupyter-widgets/base",
            "_view_module_version": "1.2.0",
            "_view_name": "StyleView",
            "bar_color": null,
            "description_width": ""
          }
        },
        "118cd5af554f467cbd968b80f72bba6b": {
          "model_module": "@jupyter-widgets/base",
          "model_name": "LayoutModel",
          "model_module_version": "1.2.0",
          "state": {
            "_model_module": "@jupyter-widgets/base",
            "_model_module_version": "1.2.0",
            "_model_name": "LayoutModel",
            "_view_count": null,
            "_view_module": "@jupyter-widgets/base",
            "_view_module_version": "1.2.0",
            "_view_name": "LayoutView",
            "align_content": null,
            "align_items": null,
            "align_self": null,
            "border": null,
            "bottom": null,
            "display": null,
            "flex": null,
            "flex_flow": null,
            "grid_area": null,
            "grid_auto_columns": null,
            "grid_auto_flow": null,
            "grid_auto_rows": null,
            "grid_column": null,
            "grid_gap": null,
            "grid_row": null,
            "grid_template_areas": null,
            "grid_template_columns": null,
            "grid_template_rows": null,
            "height": null,
            "justify_content": null,
            "justify_items": null,
            "left": null,
            "margin": null,
            "max_height": null,
            "max_width": null,
            "min_height": null,
            "min_width": null,
            "object_fit": null,
            "object_position": null,
            "order": null,
            "overflow": null,
            "overflow_x": null,
            "overflow_y": null,
            "padding": null,
            "right": null,
            "top": null,
            "visibility": null,
            "width": null
          }
        },
        "723af5c9cd54430c97afd12d0fe9ab0f": {
          "model_module": "@jupyter-widgets/controls",
          "model_name": "DescriptionStyleModel",
          "model_module_version": "1.5.0",
          "state": {
            "_model_module": "@jupyter-widgets/controls",
            "_model_module_version": "1.5.0",
            "_model_name": "DescriptionStyleModel",
            "_view_count": null,
            "_view_module": "@jupyter-widgets/base",
            "_view_module_version": "1.2.0",
            "_view_name": "StyleView",
            "description_width": ""
          }
        },
        "21ce274edc8d4c608156160cee0751bd": {
          "model_module": "@jupyter-widgets/controls",
          "model_name": "HBoxModel",
          "model_module_version": "1.5.0",
          "state": {
            "_dom_classes": [],
            "_model_module": "@jupyter-widgets/controls",
            "_model_module_version": "1.5.0",
            "_model_name": "HBoxModel",
            "_view_count": null,
            "_view_module": "@jupyter-widgets/controls",
            "_view_module_version": "1.5.0",
            "_view_name": "HBoxView",
            "box_style": "",
            "children": [
              "IPY_MODEL_a891ee0b88ab41a1b88c1d22e34b5c2f",
              "IPY_MODEL_02257a9f9d12430cb78c6731c726e4dd",
              "IPY_MODEL_4d47fdc0b7bf4bc3a8b325d8cfa4e549"
            ],
            "layout": "IPY_MODEL_d42ee47ce9714d4f9ac3fb0139563898"
          }
        },
        "a891ee0b88ab41a1b88c1d22e34b5c2f": {
          "model_module": "@jupyter-widgets/controls",
          "model_name": "HTMLModel",
          "model_module_version": "1.5.0",
          "state": {
            "_dom_classes": [],
            "_model_module": "@jupyter-widgets/controls",
            "_model_module_version": "1.5.0",
            "_model_name": "HTMLModel",
            "_view_count": null,
            "_view_module": "@jupyter-widgets/controls",
            "_view_module_version": "1.5.0",
            "_view_name": "HTMLView",
            "description": "",
            "description_tooltip": null,
            "layout": "IPY_MODEL_10b3eeee6cc4449baa505a1172a22b39",
            "placeholder": "​",
            "style": "IPY_MODEL_fde847816ac24c21afbc4acc7b9973f1",
            "value": "Downloading: 100%"
          }
        },
        "02257a9f9d12430cb78c6731c726e4dd": {
          "model_module": "@jupyter-widgets/controls",
          "model_name": "FloatProgressModel",
          "model_module_version": "1.5.0",
          "state": {
            "_dom_classes": [],
            "_model_module": "@jupyter-widgets/controls",
            "_model_module_version": "1.5.0",
            "_model_name": "FloatProgressModel",
            "_view_count": null,
            "_view_module": "@jupyter-widgets/controls",
            "_view_module_version": "1.5.0",
            "_view_name": "ProgressView",
            "bar_style": "success",
            "description": "",
            "description_tooltip": null,
            "layout": "IPY_MODEL_3ebd809c58244504840d78ec1f442ac1",
            "max": 456318,
            "min": 0,
            "orientation": "horizontal",
            "style": "IPY_MODEL_0eb8dc195a2c4407b2ce5f9dfa249bb6",
            "value": 456318
          }
        },
        "4d47fdc0b7bf4bc3a8b325d8cfa4e549": {
          "model_module": "@jupyter-widgets/controls",
          "model_name": "HTMLModel",
          "model_module_version": "1.5.0",
          "state": {
            "_dom_classes": [],
            "_model_module": "@jupyter-widgets/controls",
            "_model_module_version": "1.5.0",
            "_model_name": "HTMLModel",
            "_view_count": null,
            "_view_module": "@jupyter-widgets/controls",
            "_view_module_version": "1.5.0",
            "_view_name": "HTMLView",
            "description": "",
            "description_tooltip": null,
            "layout": "IPY_MODEL_0f754cbead3b407ebd5b3d6be8898084",
            "placeholder": "​",
            "style": "IPY_MODEL_a72774fa595842abb1c50b50071aae7f",
            "value": " 456k/456k [00:00&lt;00:00, 1.90MB/s]"
          }
        },
        "d42ee47ce9714d4f9ac3fb0139563898": {
          "model_module": "@jupyter-widgets/base",
          "model_name": "LayoutModel",
          "model_module_version": "1.2.0",
          "state": {
            "_model_module": "@jupyter-widgets/base",
            "_model_module_version": "1.2.0",
            "_model_name": "LayoutModel",
            "_view_count": null,
            "_view_module": "@jupyter-widgets/base",
            "_view_module_version": "1.2.0",
            "_view_name": "LayoutView",
            "align_content": null,
            "align_items": null,
            "align_self": null,
            "border": null,
            "bottom": null,
            "display": null,
            "flex": null,
            "flex_flow": null,
            "grid_area": null,
            "grid_auto_columns": null,
            "grid_auto_flow": null,
            "grid_auto_rows": null,
            "grid_column": null,
            "grid_gap": null,
            "grid_row": null,
            "grid_template_areas": null,
            "grid_template_columns": null,
            "grid_template_rows": null,
            "height": null,
            "justify_content": null,
            "justify_items": null,
            "left": null,
            "margin": null,
            "max_height": null,
            "max_width": null,
            "min_height": null,
            "min_width": null,
            "object_fit": null,
            "object_position": null,
            "order": null,
            "overflow": null,
            "overflow_x": null,
            "overflow_y": null,
            "padding": null,
            "right": null,
            "top": null,
            "visibility": null,
            "width": null
          }
        },
        "10b3eeee6cc4449baa505a1172a22b39": {
          "model_module": "@jupyter-widgets/base",
          "model_name": "LayoutModel",
          "model_module_version": "1.2.0",
          "state": {
            "_model_module": "@jupyter-widgets/base",
            "_model_module_version": "1.2.0",
            "_model_name": "LayoutModel",
            "_view_count": null,
            "_view_module": "@jupyter-widgets/base",
            "_view_module_version": "1.2.0",
            "_view_name": "LayoutView",
            "align_content": null,
            "align_items": null,
            "align_self": null,
            "border": null,
            "bottom": null,
            "display": null,
            "flex": null,
            "flex_flow": null,
            "grid_area": null,
            "grid_auto_columns": null,
            "grid_auto_flow": null,
            "grid_auto_rows": null,
            "grid_column": null,
            "grid_gap": null,
            "grid_row": null,
            "grid_template_areas": null,
            "grid_template_columns": null,
            "grid_template_rows": null,
            "height": null,
            "justify_content": null,
            "justify_items": null,
            "left": null,
            "margin": null,
            "max_height": null,
            "max_width": null,
            "min_height": null,
            "min_width": null,
            "object_fit": null,
            "object_position": null,
            "order": null,
            "overflow": null,
            "overflow_x": null,
            "overflow_y": null,
            "padding": null,
            "right": null,
            "top": null,
            "visibility": null,
            "width": null
          }
        },
        "fde847816ac24c21afbc4acc7b9973f1": {
          "model_module": "@jupyter-widgets/controls",
          "model_name": "DescriptionStyleModel",
          "model_module_version": "1.5.0",
          "state": {
            "_model_module": "@jupyter-widgets/controls",
            "_model_module_version": "1.5.0",
            "_model_name": "DescriptionStyleModel",
            "_view_count": null,
            "_view_module": "@jupyter-widgets/base",
            "_view_module_version": "1.2.0",
            "_view_name": "StyleView",
            "description_width": ""
          }
        },
        "3ebd809c58244504840d78ec1f442ac1": {
          "model_module": "@jupyter-widgets/base",
          "model_name": "LayoutModel",
          "model_module_version": "1.2.0",
          "state": {
            "_model_module": "@jupyter-widgets/base",
            "_model_module_version": "1.2.0",
            "_model_name": "LayoutModel",
            "_view_count": null,
            "_view_module": "@jupyter-widgets/base",
            "_view_module_version": "1.2.0",
            "_view_name": "LayoutView",
            "align_content": null,
            "align_items": null,
            "align_self": null,
            "border": null,
            "bottom": null,
            "display": null,
            "flex": null,
            "flex_flow": null,
            "grid_area": null,
            "grid_auto_columns": null,
            "grid_auto_flow": null,
            "grid_auto_rows": null,
            "grid_column": null,
            "grid_gap": null,
            "grid_row": null,
            "grid_template_areas": null,
            "grid_template_columns": null,
            "grid_template_rows": null,
            "height": null,
            "justify_content": null,
            "justify_items": null,
            "left": null,
            "margin": null,
            "max_height": null,
            "max_width": null,
            "min_height": null,
            "min_width": null,
            "object_fit": null,
            "object_position": null,
            "order": null,
            "overflow": null,
            "overflow_x": null,
            "overflow_y": null,
            "padding": null,
            "right": null,
            "top": null,
            "visibility": null,
            "width": null
          }
        },
        "0eb8dc195a2c4407b2ce5f9dfa249bb6": {
          "model_module": "@jupyter-widgets/controls",
          "model_name": "ProgressStyleModel",
          "model_module_version": "1.5.0",
          "state": {
            "_model_module": "@jupyter-widgets/controls",
            "_model_module_version": "1.5.0",
            "_model_name": "ProgressStyleModel",
            "_view_count": null,
            "_view_module": "@jupyter-widgets/base",
            "_view_module_version": "1.2.0",
            "_view_name": "StyleView",
            "bar_color": null,
            "description_width": ""
          }
        },
        "0f754cbead3b407ebd5b3d6be8898084": {
          "model_module": "@jupyter-widgets/base",
          "model_name": "LayoutModel",
          "model_module_version": "1.2.0",
          "state": {
            "_model_module": "@jupyter-widgets/base",
            "_model_module_version": "1.2.0",
            "_model_name": "LayoutModel",
            "_view_count": null,
            "_view_module": "@jupyter-widgets/base",
            "_view_module_version": "1.2.0",
            "_view_name": "LayoutView",
            "align_content": null,
            "align_items": null,
            "align_self": null,
            "border": null,
            "bottom": null,
            "display": null,
            "flex": null,
            "flex_flow": null,
            "grid_area": null,
            "grid_auto_columns": null,
            "grid_auto_flow": null,
            "grid_auto_rows": null,
            "grid_column": null,
            "grid_gap": null,
            "grid_row": null,
            "grid_template_areas": null,
            "grid_template_columns": null,
            "grid_template_rows": null,
            "height": null,
            "justify_content": null,
            "justify_items": null,
            "left": null,
            "margin": null,
            "max_height": null,
            "max_width": null,
            "min_height": null,
            "min_width": null,
            "object_fit": null,
            "object_position": null,
            "order": null,
            "overflow": null,
            "overflow_x": null,
            "overflow_y": null,
            "padding": null,
            "right": null,
            "top": null,
            "visibility": null,
            "width": null
          }
        },
        "a72774fa595842abb1c50b50071aae7f": {
          "model_module": "@jupyter-widgets/controls",
          "model_name": "DescriptionStyleModel",
          "model_module_version": "1.5.0",
          "state": {
            "_model_module": "@jupyter-widgets/controls",
            "_model_module_version": "1.5.0",
            "_model_name": "DescriptionStyleModel",
            "_view_count": null,
            "_view_module": "@jupyter-widgets/base",
            "_view_module_version": "1.2.0",
            "_view_name": "StyleView",
            "description_width": ""
          }
        },
        "cc187f90ef504bb28de4f69ff3e2c43f": {
          "model_module": "@jupyter-widgets/controls",
          "model_name": "HBoxModel",
          "model_module_version": "1.5.0",
          "state": {
            "_dom_classes": [],
            "_model_module": "@jupyter-widgets/controls",
            "_model_module_version": "1.5.0",
            "_model_name": "HBoxModel",
            "_view_count": null,
            "_view_module": "@jupyter-widgets/controls",
            "_view_module_version": "1.5.0",
            "_view_name": "HBoxView",
            "box_style": "",
            "children": [
              "IPY_MODEL_6f871291ffab4c18b04e974d7440d678",
              "IPY_MODEL_f7769ef08ba04e6e970ac7c0cd4097bd",
              "IPY_MODEL_a396454545314fb5baed41dd521b5d23"
            ],
            "layout": "IPY_MODEL_1f95873feb4541f6895de2fb63fe88e1"
          }
        },
        "6f871291ffab4c18b04e974d7440d678": {
          "model_module": "@jupyter-widgets/controls",
          "model_name": "HTMLModel",
          "model_module_version": "1.5.0",
          "state": {
            "_dom_classes": [],
            "_model_module": "@jupyter-widgets/controls",
            "_model_module_version": "1.5.0",
            "_model_name": "HTMLModel",
            "_view_count": null,
            "_view_module": "@jupyter-widgets/controls",
            "_view_module_version": "1.5.0",
            "_view_name": "HTMLView",
            "description": "",
            "description_tooltip": null,
            "layout": "IPY_MODEL_50dfd2f3023448a2ae2a47f940d4041c",
            "placeholder": "​",
            "style": "IPY_MODEL_2065c289a92e48d789993ed0132abda4",
            "value": "Downloading: 100%"
          }
        },
        "f7769ef08ba04e6e970ac7c0cd4097bd": {
          "model_module": "@jupyter-widgets/controls",
          "model_name": "FloatProgressModel",
          "model_module_version": "1.5.0",
          "state": {
            "_dom_classes": [],
            "_model_module": "@jupyter-widgets/controls",
            "_model_module_version": "1.5.0",
            "_model_name": "FloatProgressModel",
            "_view_count": null,
            "_view_module": "@jupyter-widgets/controls",
            "_view_module_version": "1.5.0",
            "_view_name": "ProgressView",
            "bar_style": "success",
            "description": "",
            "description_tooltip": null,
            "layout": "IPY_MODEL_5f54e5a4f66445e7a743c38702a15870",
            "max": 1355256,
            "min": 0,
            "orientation": "horizontal",
            "style": "IPY_MODEL_14b2312b41eb4a2dbf62377d5d7ca143",
            "value": 1355256
          }
        },
        "a396454545314fb5baed41dd521b5d23": {
          "model_module": "@jupyter-widgets/controls",
          "model_name": "HTMLModel",
          "model_module_version": "1.5.0",
          "state": {
            "_dom_classes": [],
            "_model_module": "@jupyter-widgets/controls",
            "_model_module_version": "1.5.0",
            "_model_name": "HTMLModel",
            "_view_count": null,
            "_view_module": "@jupyter-widgets/controls",
            "_view_module_version": "1.5.0",
            "_view_name": "HTMLView",
            "description": "",
            "description_tooltip": null,
            "layout": "IPY_MODEL_33462eb635ec4374997cd93cd7ee694f",
            "placeholder": "​",
            "style": "IPY_MODEL_8a2144608a954e89a064f88c0677a57c",
            "value": " 1.36M/1.36M [00:00&lt;00:00, 4.52MB/s]"
          }
        },
        "1f95873feb4541f6895de2fb63fe88e1": {
          "model_module": "@jupyter-widgets/base",
          "model_name": "LayoutModel",
          "model_module_version": "1.2.0",
          "state": {
            "_model_module": "@jupyter-widgets/base",
            "_model_module_version": "1.2.0",
            "_model_name": "LayoutModel",
            "_view_count": null,
            "_view_module": "@jupyter-widgets/base",
            "_view_module_version": "1.2.0",
            "_view_name": "LayoutView",
            "align_content": null,
            "align_items": null,
            "align_self": null,
            "border": null,
            "bottom": null,
            "display": null,
            "flex": null,
            "flex_flow": null,
            "grid_area": null,
            "grid_auto_columns": null,
            "grid_auto_flow": null,
            "grid_auto_rows": null,
            "grid_column": null,
            "grid_gap": null,
            "grid_row": null,
            "grid_template_areas": null,
            "grid_template_columns": null,
            "grid_template_rows": null,
            "height": null,
            "justify_content": null,
            "justify_items": null,
            "left": null,
            "margin": null,
            "max_height": null,
            "max_width": null,
            "min_height": null,
            "min_width": null,
            "object_fit": null,
            "object_position": null,
            "order": null,
            "overflow": null,
            "overflow_x": null,
            "overflow_y": null,
            "padding": null,
            "right": null,
            "top": null,
            "visibility": null,
            "width": null
          }
        },
        "50dfd2f3023448a2ae2a47f940d4041c": {
          "model_module": "@jupyter-widgets/base",
          "model_name": "LayoutModel",
          "model_module_version": "1.2.0",
          "state": {
            "_model_module": "@jupyter-widgets/base",
            "_model_module_version": "1.2.0",
            "_model_name": "LayoutModel",
            "_view_count": null,
            "_view_module": "@jupyter-widgets/base",
            "_view_module_version": "1.2.0",
            "_view_name": "LayoutView",
            "align_content": null,
            "align_items": null,
            "align_self": null,
            "border": null,
            "bottom": null,
            "display": null,
            "flex": null,
            "flex_flow": null,
            "grid_area": null,
            "grid_auto_columns": null,
            "grid_auto_flow": null,
            "grid_auto_rows": null,
            "grid_column": null,
            "grid_gap": null,
            "grid_row": null,
            "grid_template_areas": null,
            "grid_template_columns": null,
            "grid_template_rows": null,
            "height": null,
            "justify_content": null,
            "justify_items": null,
            "left": null,
            "margin": null,
            "max_height": null,
            "max_width": null,
            "min_height": null,
            "min_width": null,
            "object_fit": null,
            "object_position": null,
            "order": null,
            "overflow": null,
            "overflow_x": null,
            "overflow_y": null,
            "padding": null,
            "right": null,
            "top": null,
            "visibility": null,
            "width": null
          }
        },
        "2065c289a92e48d789993ed0132abda4": {
          "model_module": "@jupyter-widgets/controls",
          "model_name": "DescriptionStyleModel",
          "model_module_version": "1.5.0",
          "state": {
            "_model_module": "@jupyter-widgets/controls",
            "_model_module_version": "1.5.0",
            "_model_name": "DescriptionStyleModel",
            "_view_count": null,
            "_view_module": "@jupyter-widgets/base",
            "_view_module_version": "1.2.0",
            "_view_name": "StyleView",
            "description_width": ""
          }
        },
        "5f54e5a4f66445e7a743c38702a15870": {
          "model_module": "@jupyter-widgets/base",
          "model_name": "LayoutModel",
          "model_module_version": "1.2.0",
          "state": {
            "_model_module": "@jupyter-widgets/base",
            "_model_module_version": "1.2.0",
            "_model_name": "LayoutModel",
            "_view_count": null,
            "_view_module": "@jupyter-widgets/base",
            "_view_module_version": "1.2.0",
            "_view_name": "LayoutView",
            "align_content": null,
            "align_items": null,
            "align_self": null,
            "border": null,
            "bottom": null,
            "display": null,
            "flex": null,
            "flex_flow": null,
            "grid_area": null,
            "grid_auto_columns": null,
            "grid_auto_flow": null,
            "grid_auto_rows": null,
            "grid_column": null,
            "grid_gap": null,
            "grid_row": null,
            "grid_template_areas": null,
            "grid_template_columns": null,
            "grid_template_rows": null,
            "height": null,
            "justify_content": null,
            "justify_items": null,
            "left": null,
            "margin": null,
            "max_height": null,
            "max_width": null,
            "min_height": null,
            "min_width": null,
            "object_fit": null,
            "object_position": null,
            "order": null,
            "overflow": null,
            "overflow_x": null,
            "overflow_y": null,
            "padding": null,
            "right": null,
            "top": null,
            "visibility": null,
            "width": null
          }
        },
        "14b2312b41eb4a2dbf62377d5d7ca143": {
          "model_module": "@jupyter-widgets/controls",
          "model_name": "ProgressStyleModel",
          "model_module_version": "1.5.0",
          "state": {
            "_model_module": "@jupyter-widgets/controls",
            "_model_module_version": "1.5.0",
            "_model_name": "ProgressStyleModel",
            "_view_count": null,
            "_view_module": "@jupyter-widgets/base",
            "_view_module_version": "1.2.0",
            "_view_name": "StyleView",
            "bar_color": null,
            "description_width": ""
          }
        },
        "33462eb635ec4374997cd93cd7ee694f": {
          "model_module": "@jupyter-widgets/base",
          "model_name": "LayoutModel",
          "model_module_version": "1.2.0",
          "state": {
            "_model_module": "@jupyter-widgets/base",
            "_model_module_version": "1.2.0",
            "_model_name": "LayoutModel",
            "_view_count": null,
            "_view_module": "@jupyter-widgets/base",
            "_view_module_version": "1.2.0",
            "_view_name": "LayoutView",
            "align_content": null,
            "align_items": null,
            "align_self": null,
            "border": null,
            "bottom": null,
            "display": null,
            "flex": null,
            "flex_flow": null,
            "grid_area": null,
            "grid_auto_columns": null,
            "grid_auto_flow": null,
            "grid_auto_rows": null,
            "grid_column": null,
            "grid_gap": null,
            "grid_row": null,
            "grid_template_areas": null,
            "grid_template_columns": null,
            "grid_template_rows": null,
            "height": null,
            "justify_content": null,
            "justify_items": null,
            "left": null,
            "margin": null,
            "max_height": null,
            "max_width": null,
            "min_height": null,
            "min_width": null,
            "object_fit": null,
            "object_position": null,
            "order": null,
            "overflow": null,
            "overflow_x": null,
            "overflow_y": null,
            "padding": null,
            "right": null,
            "top": null,
            "visibility": null,
            "width": null
          }
        },
        "8a2144608a954e89a064f88c0677a57c": {
          "model_module": "@jupyter-widgets/controls",
          "model_name": "DescriptionStyleModel",
          "model_module_version": "1.5.0",
          "state": {
            "_model_module": "@jupyter-widgets/controls",
            "_model_module_version": "1.5.0",
            "_model_name": "DescriptionStyleModel",
            "_view_count": null,
            "_view_module": "@jupyter-widgets/base",
            "_view_module_version": "1.2.0",
            "_view_name": "StyleView",
            "description_width": ""
          }
        }
      }
    }
  },
  "cells": [
    {
      "cell_type": "markdown",
      "metadata": {
        "id": "view-in-github",
        "colab_type": "text"
      },
      "source": [
        "<a href=\"https://colab.research.google.com/github/Leo-2017/DL101/blob/main/Pattern_Player.ipynb\" target=\"_parent\"><img src=\"https://colab.research.google.com/assets/colab-badge.svg\" alt=\"Open In Colab\"/></a>"
      ]
    },
    {
      "cell_type": "markdown",
      "metadata": {
        "id": "7j04QL-TPJy1"
      },
      "source": [
        "# Pattern Player 🎹"
      ]
    },
    {
      "cell_type": "markdown",
      "source": [
        "## **1. Introduction**"
      ],
      "metadata": {
        "id": "mHvkbz5e85md"
      }
    },
    {
      "cell_type": "markdown",
      "source": [
        "## a. What business problem are you solving?\n",
        "\n",
        "A simple tool for non-design professionals to design wallpaper for their homes by themselves."
      ],
      "metadata": {
        "id": "lb8S7bqY3na3"
      }
    },
    {
      "cell_type": "markdown",
      "source": [
        "## b. How can AI/ML technology help to solve that?\n",
        "\n",
        "The AI/ML technology can help to slove it by using the GPT-2 model (pretrained on a dataset of 8 million web pages) as a foundation, and using dataset from Gutenberg Project to fine-tune the model using Text Generation to make it more applicable for the use case."
      ],
      "metadata": {
        "id": "vF6Jt_Re4Vzj"
      }
    },
    {
      "cell_type": "markdown",
      "metadata": {
        "id": "f0joGgV0POOt"
      },
      "source": [
        "## c. What is your AI project's objective?\n",
        "\n",
        "The objective is to build a language model as a pattern design generator that helps user to predict the probability of what kind of wallpaper user would like to have."
      ]
    },
    {
      "cell_type": "markdown",
      "source": [
        "## d. Who are the users of your AI application and how will they interact with it? \n",
        "\n",
        "The user of the AI application will be the non-design professionals who have a needs in design & decorating the wallpaper at their e.g. homes by themselves; \n",
        "<br>\n",
        "<br>\n",
        "User can simply input the **keywords** or **short description** such as **\"How to decorate the wall in living room with Botanical pattern in william morris style?\"** The application will predict the output as a suggestion based on the dataset;"
      ],
      "metadata": {
        "id": "K1swq9pu4gPk"
      }
    },
    {
      "cell_type": "markdown",
      "source": [
        "## **2. Benchmark Study**"
      ],
      "metadata": {
        "id": "0oEKZdvo90SL"
      }
    },
    {
      "cell_type": "markdown",
      "source": [
        "**Similar existing AI solutions** <br>\n",
        "\n",
        "Below are the pattern generator I found online; for most of them the way how it works is to: <br>\n",
        "A. require user to upload an asset (image/illustration, etc.), the application will generator a pattern based on it; or <br>\n",
        "B. Let user pre-select the pattern from their dataset and then upload their homeliving photo to see the model; \n",
        "\n",
        "**Picsart** <br>\n",
        "https://picsart.com/pattern-generator <br>\n",
        "\n",
        "**Patternico** <br>\n",
        "https://patternico.com/\n",
        "\n",
        "**Wowpatterns** <br>\n",
        "https://www.wowpatterns.com/pattern-generator\n",
        "\n",
        "**Laurentvw** <br>\n",
        "https://www.laurentvw.com/tools/seamless-pattern-generator/\n",
        "\n",
        "**Designhill** <br>\n",
        "https://www.designhill.com/tools/wallpaper-maker\n",
        "\n",
        "**Patterncooler** <br>\n",
        "https://www.patterncooler.com/\n",
        "\n",
        "**Astreetprints** <br>\n",
        "https://www.astreetprints.com/room-previewer\n",
        "\n",
        "---\n",
        "All the applications I could find above is not exactly what I'm looking for; <br>\n",
        "Below is the usecase which is very similar with what I would like to build for my model:\n",
        "\n",
        "**Delle-mini** <br> \n",
        "https://huggingface.co/spaces/dalle-mini/dalle-mini <br>\n",
        "https://www.craiyon.com/ <br>\n",
        "🟦\n",
        "<img src=\"https://drive.google.com/file/d/1fgQF5qRt3ho4Mdtiz8k6S14Y3RAo7GV3/view?usp=sharing\" alt=\"Logo\" width=\"100\"/>\n",
        "<img src=\"https://drive.google.com/file/d/1Sy2Zzs8vZOjtu3WeWhsC7B-V5r6cHm4V/view?usp=sharing\" alt=\"dallemini\" width=\"300\"/> <br>\n",
        "\n",
        "---\n",
        "Due to the limited time and my limited knowledges for the MVP I will only build a text generator;"
      ],
      "metadata": {
        "id": "Q-tCbRD5-V9j"
      }
    },
    {
      "cell_type": "markdown",
      "source": [
        "# **3. Data**"
      ],
      "metadata": {
        "id": "BSuva5jzIbIL"
      }
    },
    {
      "cell_type": "markdown",
      "metadata": {
        "id": "lJvIFM7zjGnj"
      },
      "source": [
        "## a. Libraries & Dependencies needed"
      ]
    },
    {
      "cell_type": "code",
      "metadata": {
        "colab": {
          "base_uri": "https://localhost:8080/"
        },
        "id": "azcl-ikfOQJR",
        "outputId": "7cd08d3b-421f-4858-c265-592b3f8d6947"
      },
      "source": [
        "!pip install -Uqq unpackai\n",
        "# !pip install -q git+https://github.com/unpackai/unpackai\n",
        "!pip install -Uqq transformers==4.10.2\n",
        "!pip install -q datasets transformers[sentencepiece]"
      ],
      "execution_count": null,
      "outputs": [
        {
          "output_type": "stream",
          "name": "stdout",
          "text": [
            "\u001b[K     |████████████████████████████████| 73 kB 906 kB/s \n",
            "\u001b[K     |████████████████████████████████| 42 kB 595 kB/s \n",
            "\u001b[K     |████████████████████████████████| 976 kB 11.9 MB/s \n",
            "\u001b[K     |████████████████████████████████| 2.8 MB 5.1 MB/s \n",
            "\u001b[K     |████████████████████████████████| 880 kB 49.9 MB/s \n",
            "\u001b[K     |████████████████████████████████| 101 kB 9.2 MB/s \n",
            "\u001b[K     |████████████████████████████████| 596 kB 45.7 MB/s \n",
            "\u001b[K     |████████████████████████████████| 3.3 MB 35.1 MB/s \n",
            "\u001b[?25h  Building wheel for sacremoses (setup.py) ... \u001b[?25l\u001b[?25hdone\n",
            "\u001b[K     |████████████████████████████████| 362 kB 5.3 MB/s \n",
            "\u001b[K     |████████████████████████████████| 140 kB 10.5 MB/s \n",
            "\u001b[K     |████████████████████████████████| 212 kB 41.6 MB/s \n",
            "\u001b[K     |████████████████████████████████| 1.1 MB 33.4 MB/s \n",
            "\u001b[K     |████████████████████████████████| 127 kB 48.3 MB/s \n",
            "\u001b[K     |████████████████████████████████| 144 kB 58.9 MB/s \n",
            "\u001b[K     |████████████████████████████████| 271 kB 35.7 MB/s \n",
            "\u001b[K     |████████████████████████████████| 94 kB 3.3 MB/s \n",
            "\u001b[K     |████████████████████████████████| 1.1 MB 41.7 MB/s \n",
            "\u001b[31mERROR: pip's dependency resolver does not currently take into account all the packages that are installed. This behaviour is the source of the following dependency conflicts.\n",
            "datascience 0.10.6 requires folium==0.2.1, but you have folium 0.8.3 which is incompatible.\u001b[0m\n",
            "\u001b[?25h"
          ]
        }
      ]
    },
    {
      "cell_type": "code",
      "metadata": {
        "id": "ynOZVJ0HfD2Q"
      },
      "source": [
        "import torch\n",
        "import numpy as np\n",
        "from transformers import (\n",
        "    AutoTokenizer,\n",
        "    AutoModel,\n",
        "    pipeline,\n",
        "    set_seed,\n",
        "    Trainer,\n",
        "    TextDataset,\n",
        "    DataCollatorForLanguageModeling,\n",
        "    TrainingArguments,\n",
        "    AutoModelForSequenceClassification,\n",
        ")\n",
        "from unpackai.nlp import Textual, InterpEmbeddingsTokenizer\n",
        "from ipywidgets import interact\n",
        "import logging\n",
        "from fastai import *"
      ],
      "execution_count": null,
      "outputs": []
    },
    {
      "cell_type": "markdown",
      "metadata": {
        "id": "QUbu_n7fiITe"
      },
      "source": [
        "## 2. Build an Language Model"
      ]
    },
    {
      "cell_type": "markdown",
      "metadata": {
        "id": "X1PTaXRGQKxS"
      },
      "source": [
        "### a. What's your data? Is it relevant to AI project you are intending to build? Is it inclusive, complete and unbiased?"
      ]
    },
    {
      "cell_type": "markdown",
      "metadata": {
        "id": "ZDEouac7xN1v"
      },
      "source": [
        "\n",
        "#### The dataset I'm using for this model training is collected from [Gutenberg Project](https://gutenberg.org/); a source which is a collection of over 60,000 free eBooks.\n",
        "**Dataset:** \n",
        "<br>\n",
        "1. [Arts and Crafts Essays by members of Arts and Crafts Exhibition Society](https://gutenberg.org/ebooks/36250) Subject: Decorative arts <br>\n",
        "2. [Principles of Decorative Design by Christopher Dresser](https://gutenberg.org/ebooks/39749) Subject: Decorative arts Decoration and ornament -- Victorian style<br>\n",
        "3. [The Botanical Magazine, Vol. 02 by William Curtis](https://gutenberg.org/ebooks/17531) Subject: Plants, Cultivated/Ornamental/ Botanical illustration/Periodicals <br>\n",
        "4. [The Principles of Ornament by James Ward](https://gutenberg.org/ebooks/60034) Subject: Decoration and ornament <br>\n",
        "5. [The Botanical Magazine, Vol. 08 by William Curtis](https://gutenberg.org/ebooks/24670) Subject: Plants, Cultivated/Ornamental/ Botanical illustration/Periodicals\n",
        "6. [Evolution in Art: As Illustrated by the Life-histories of Designs by Haddon](https://gutenberg.org/ebooks/46079) Subject: Decoration and ornament, Primitive <br>\n",
        "7. [Hardy Ornamental Flowering Trees and Shrubs by Angus D. Webster](https://gutenberg.org/ebooks/10852) Subject: Flowering shrubs <br>\n",
        "8. [Origin and Development of Form and Ornament in Ceramic Art. by William Henry Holmes](https://gutenberg.org/ebooks/19953) Subject: \tDecoration and ornament -- History, Indian art -- North America <br>\n",
        "9. [The Botanical Magazine, Vol. 04 by William Curtis](https://gutenberg.org/ebooks/17979) Subject: Plants, Cultivated/Ornamental/ Botanical illustration/Periodicals <br>\n",
        "10.  [The Botanical Magazine, Vol. 03 by William Curtis](https://gutenberg.org/ebooks/17672) Subject: Plants, Cultivated/Ornamental/ Botanical illustration/Periodicals <br>\n",
        "11.  [The Botanical Magazine, Vol. 05 by William Curtis](https://gutenberg.org/ebooks/19123) Subject: Plants, Cultivated/Ornamental/ Botanical illustration/Periodicals <br>\n",
        "12.  [The Botanical Magazine, Vol. 06 by William Curtis](https://gutenberg.org/ebooks/21843) Subject: Plants, Cultivated/Ornamental/ Botanical illustration/Periodicals <br>\n",
        "13.  [The Botanical Magazine, Vol. 07 by William Curtis](https://gutenberg.org/ebooks/23579) Subject: Plants, Cultivated/Ornamental/ Botanical illustration/Periodicals <br>\n",
        "14.  [The Botanical Magazine, Vol. 09 by William Curtis](https://gutenberg.org/ebooks/38382) Subject: Plants, Cultivated/Ornamental/ Botanical illustration/Periodicals <br>\n",
        "15.  [The Botanical Magazine, Vol. 13 by William Curtis and John Sims](https://gutenberg.org/ebooks/43858) Subject: Plants, Cultivated/Ornamental/ Botanical illustration/Periodicals <br>\n",
        "16.  [Talks About Flowers. by Mrs. M. D. Wellcome](https://gutenberg.org/ebooks/40534) Subject: Flowers <br>\n",
        "17.  [Garden Ornaments by Mary Harrod Northend](https://gutenberg.org/ebooks/34885) Subject: Gardens <br>\n",
        "18.  [link text](https://gutenberg.org/ebooks/33955) Subject: Gardens <br>\n",
        "19.  [Remodeled Farmhouses by Mary Harrod Northend](https://) Subject: Farmhouses -- United States (Not sure about this data)<br>\n",
        "20.  [Historic Ornament, Vol. 1 (of 2) by James Ward](https://gutenberg.org/ebooks/59746) Subject: Decorative arts -- History<br>\n",
        "21.  [Historic Ornament, Vol. 2 (of 2) by James Ward](https://gutenberg.org/ebooks/59971) Subject: Decorative arts -- History<br>\n",
        "22.  [Hardy Ornamental Flowering Trees and Shrubs by Angus D. Webster](https://gutenberg.org/ebooks/10852) Subject: Flowering shrubs <br>\n",
        "---\n",
        "\n",
        "#### Most of the books collected are relevant to AI project I'm intending to build; As if it's inclusive, complete and unbiased, I cannot genature as many books I've found online are not Free of use; Therefore I have included all the books/dataset I could find from  Gutenberg;"
      ]
    },
    {
      "cell_type": "markdown",
      "metadata": {
        "id": "U5QZmieCYbZ2"
      },
      "source": [
        "### b. Collect and construct your dataset\n",
        "\n",
        "In order to collect and design my dataset I'm using `Textual` scraping tool below."
      ]
    },
    {
      "cell_type": "markdown",
      "metadata": {
        "id": "T5Uma7pnjrm5"
      },
      "source": [
        "**Collect text from an URL.**\n",
        "\n",
        "\n",
        "Below are all the URL I've collected from [Gutenberg Project] https://gutenberg.org/; a source which is a collection of over 60,000 free eBooks. \n"
      ]
    },
    {
      "cell_type": "code",
      "metadata": {
        "id": "zCWwVhIAjjBK",
        "colab": {
          "base_uri": "https://localhost:8080/"
        },
        "outputId": "fb26285e-d778-4ee1-8458-a96f7cc137f3"
      },
      "source": [
        "textual = Textual.from_url(\"https://gutenberg.org/cache/epub/36250/pg36250.txt\")\n",
        "textual"
      ],
      "execution_count": null,
      "outputs": [
        {
          "output_type": "execute_result",
          "data": {
            "text/plain": [
              "Text (393777 chars), textual(),\n",
              "    train_path, val_path = textual.create_train_val()"
            ]
          },
          "metadata": {},
          "execution_count": 3
        }
      ]
    },
    {
      "cell_type": "code",
      "source": [
        "textual = Textual.from_url(\"https://gutenberg.org/cache/epub/39749/pg39749.txt\")\n",
        "textual"
      ],
      "metadata": {
        "id": "kCmdqDOKT7cs",
        "outputId": "30a6ba44-2198-44e6-ceff-fe8c5cd57ad1",
        "colab": {
          "base_uri": "https://localhost:8080/"
        }
      },
      "execution_count": null,
      "outputs": [
        {
          "output_type": "execute_result",
          "data": {
            "text/plain": [
              "Text (414489 chars), textual(),\n",
              "    train_path, val_path = textual.create_train_val()"
            ]
          },
          "metadata": {},
          "execution_count": 4
        }
      ]
    },
    {
      "cell_type": "code",
      "source": [
        "textual = Textual.from_url(\"https://gutenberg.org/cache/epub/17531/pg17531.txt\")\n",
        "textual"
      ],
      "metadata": {
        "id": "DVd2OsqmUng9",
        "outputId": "e2faa6e4-82be-4ed4-eb27-ad424837c58e",
        "colab": {
          "base_uri": "https://localhost:8080/"
        }
      },
      "execution_count": null,
      "outputs": [
        {
          "output_type": "execute_result",
          "data": {
            "text/plain": [
              "Text (80332 chars), textual(),\n",
              "    train_path, val_path = textual.create_train_val()"
            ]
          },
          "metadata": {},
          "execution_count": 5
        }
      ]
    },
    {
      "cell_type": "code",
      "source": [
        "textual = Textual.from_url(\"https://gutenberg.org/files/60034/60034-0.txt\")\n",
        "textual"
      ],
      "metadata": {
        "id": "XmRXdGqSU80z",
        "outputId": "e1acfb38-89cc-471d-9d73-3ccc5b4dde55",
        "colab": {
          "base_uri": "https://localhost:8080/"
        }
      },
      "execution_count": null,
      "outputs": [
        {
          "output_type": "execute_result",
          "data": {
            "text/plain": [
              "Text (234063 chars), textual(),\n",
              "    train_path, val_path = textual.create_train_val()"
            ]
          },
          "metadata": {},
          "execution_count": 6
        }
      ]
    },
    {
      "cell_type": "code",
      "source": [
        "textual = Textual.from_url(\"https://gutenberg.org/cache/epub/24670/pg24670.txt\")\n",
        "textual"
      ],
      "metadata": {
        "colab": {
          "base_uri": "https://localhost:8080/"
        },
        "id": "PF4WOcUxGYbV",
        "outputId": "194f41d2-fe07-47e8-900d-82aabab8ea72"
      },
      "execution_count": null,
      "outputs": [
        {
          "output_type": "execute_result",
          "data": {
            "text/plain": [
              "Text (103125 chars), textual(),\n",
              "    train_path, val_path = textual.create_train_val()"
            ]
          },
          "metadata": {},
          "execution_count": 7
        }
      ]
    },
    {
      "cell_type": "code",
      "source": [
        "textual = Textual.from_url(\"https://gutenberg.org/files/46079/46079-0.txt\")\n",
        "textual"
      ],
      "metadata": {
        "colab": {
          "base_uri": "https://localhost:8080/"
        },
        "id": "OXJy56sXGd5E",
        "outputId": "b070fce5-7493-4a77-b2d8-81742c2a1056"
      },
      "execution_count": null,
      "outputs": [
        {
          "output_type": "execute_result",
          "data": {
            "text/plain": [
              "Text (667372 chars), textual(),\n",
              "    train_path, val_path = textual.create_train_val()"
            ]
          },
          "metadata": {},
          "execution_count": 8
        }
      ]
    },
    {
      "cell_type": "code",
      "source": [
        "textual = Textual.from_url(\"https://gutenberg.org/cache/epub/10852/pg10852.txt\")\n",
        "textual"
      ],
      "metadata": {
        "colab": {
          "base_uri": "https://localhost:8080/"
        },
        "id": "6DaoK_CkGdkG",
        "outputId": "3ea46add-ff91-4b7c-fdb4-8e835e17c8c2"
      },
      "execution_count": null,
      "outputs": [
        {
          "output_type": "execute_result",
          "data": {
            "text/plain": [
              "Text (370515 chars), textual(),\n",
              "    train_path, val_path = textual.create_train_val()"
            ]
          },
          "metadata": {},
          "execution_count": 9
        }
      ]
    },
    {
      "cell_type": "code",
      "source": [
        "textual = Textual.from_url(\"https://gutenberg.org/cache/epub/19953/pg19953.txt\")\n",
        "textual"
      ],
      "metadata": {
        "colab": {
          "base_uri": "https://localhost:8080/"
        },
        "id": "ki9alJS4GdFJ",
        "outputId": "97fca1ea-bc92-4840-dbc9-1becf309dcea"
      },
      "execution_count": null,
      "outputs": [
        {
          "output_type": "execute_result",
          "data": {
            "text/plain": [
              "Text (72466 chars), textual(),\n",
              "    train_path, val_path = textual.create_train_val()"
            ]
          },
          "metadata": {},
          "execution_count": 10
        }
      ]
    },
    {
      "cell_type": "code",
      "source": [
        "textual = Textual.from_url(\"https://gutenberg.org/cache/epub/17979/pg17979.txt\")\n",
        "textual"
      ],
      "metadata": {
        "colab": {
          "base_uri": "https://localhost:8080/"
        },
        "id": "RWRb1tVPI-Y9",
        "outputId": "d88e51f9-21f8-45be-8034-ada6a6d65d27"
      },
      "execution_count": null,
      "outputs": [
        {
          "output_type": "execute_result",
          "data": {
            "text/plain": [
              "Text (85944 chars), textual(),\n",
              "    train_path, val_path = textual.create_train_val()"
            ]
          },
          "metadata": {},
          "execution_count": 11
        }
      ]
    },
    {
      "cell_type": "code",
      "source": [
        "textual = Textual.from_url(\"https://gutenberg.org/cache/epub/17672/pg17672.txt\")\n",
        "textual"
      ],
      "metadata": {
        "colab": {
          "base_uri": "https://localhost:8080/"
        },
        "id": "_tqh9giNI-WX",
        "outputId": "ab2b1165-bf76-4944-ad75-4580d4b2f783"
      },
      "execution_count": null,
      "outputs": [
        {
          "output_type": "execute_result",
          "data": {
            "text/plain": [
              "Text (76767 chars), textual(),\n",
              "    train_path, val_path = textual.create_train_val()"
            ]
          },
          "metadata": {},
          "execution_count": 12
        }
      ]
    },
    {
      "cell_type": "code",
      "source": [
        "textual = Textual.from_url(\"https://gutenberg.org/cache/epub/19123/pg19123.txt\")\n",
        "textual"
      ],
      "metadata": {
        "colab": {
          "base_uri": "https://localhost:8080/"
        },
        "id": "yq0UxPBKI-Ru",
        "outputId": "d0fbc229-b9dc-4c5b-f51c-35536a4b7166"
      },
      "execution_count": null,
      "outputs": [
        {
          "output_type": "execute_result",
          "data": {
            "text/plain": [
              "Text (83010 chars), textual(),\n",
              "    train_path, val_path = textual.create_train_val()"
            ]
          },
          "metadata": {},
          "execution_count": 13
        }
      ]
    },
    {
      "cell_type": "code",
      "source": [
        "textual = Textual.from_url(\"https://gutenberg.org/cache/epub/21843/pg21843.txt\")\n",
        "textual"
      ],
      "metadata": {
        "colab": {
          "base_uri": "https://localhost:8080/"
        },
        "id": "aDuAlN_sI-PW",
        "outputId": "a92f8b12-89b1-468f-ae63-7c980b8196d4"
      },
      "execution_count": null,
      "outputs": [
        {
          "output_type": "execute_result",
          "data": {
            "text/plain": [
              "Text (93266 chars), textual(),\n",
              "    train_path, val_path = textual.create_train_val()"
            ]
          },
          "metadata": {},
          "execution_count": 14
        }
      ]
    },
    {
      "cell_type": "code",
      "source": [
        "textual = Textual.from_url(\"https://gutenberg.org/cache/epub/23579/pg23579.txt\")\n",
        "textual"
      ],
      "metadata": {
        "colab": {
          "base_uri": "https://localhost:8080/"
        },
        "id": "8jBEnZbaI-Mr",
        "outputId": "648695e4-1a01-4237-e5af-bb84052e172a"
      },
      "execution_count": null,
      "outputs": [
        {
          "output_type": "execute_result",
          "data": {
            "text/plain": [
              "Text (92322 chars), textual(),\n",
              "    train_path, val_path = textual.create_train_val()"
            ]
          },
          "metadata": {},
          "execution_count": 15
        }
      ]
    },
    {
      "cell_type": "code",
      "source": [
        "textual = Textual.from_url(\"https://gutenberg.org/cache/epub/38382/pg38382.txt\")\n",
        "textual"
      ],
      "metadata": {
        "colab": {
          "base_uri": "https://localhost:8080/"
        },
        "id": "nNTKDJAqI-Hl",
        "outputId": "64ff070d-2209-402b-ca5a-1eb19e93760b"
      },
      "execution_count": null,
      "outputs": [
        {
          "output_type": "execute_result",
          "data": {
            "text/plain": [
              "Text (92729 chars), textual(),\n",
              "    train_path, val_path = textual.create_train_val()"
            ]
          },
          "metadata": {},
          "execution_count": 16
        }
      ]
    },
    {
      "cell_type": "code",
      "source": [
        "textual = Textual.from_url(\"https://gutenberg.org/cache/epub/43858/pg43858.txt\")\n",
        "textual"
      ],
      "metadata": {
        "colab": {
          "base_uri": "https://localhost:8080/"
        },
        "id": "ACpkkXAMI-Eq",
        "outputId": "8c054992-bd0d-4176-a7f7-f68d45e14d3e"
      },
      "execution_count": null,
      "outputs": [
        {
          "output_type": "execute_result",
          "data": {
            "text/plain": [
              "Text (100458 chars), textual(),\n",
              "    train_path, val_path = textual.create_train_val()"
            ]
          },
          "metadata": {},
          "execution_count": 17
        }
      ]
    },
    {
      "cell_type": "code",
      "source": [
        "textual = Textual.from_url(\"https://gutenberg.org/cache/epub/40534/pg40534.txt\")\n",
        "textual"
      ],
      "metadata": {
        "colab": {
          "base_uri": "https://localhost:8080/"
        },
        "id": "gZf2GZXBI-BH",
        "outputId": "5979df07-054c-43f8-b349-78c8c38b05a3"
      },
      "execution_count": null,
      "outputs": [
        {
          "output_type": "execute_result",
          "data": {
            "text/plain": [
              "Text (305686 chars), textual(),\n",
              "    train_path, val_path = textual.create_train_val()"
            ]
          },
          "metadata": {},
          "execution_count": 18
        }
      ]
    },
    {
      "cell_type": "code",
      "source": [
        "textual = Textual.from_url(\"https://gutenberg.org/cache/epub/34885/pg34885.txt\")\n",
        "textual"
      ],
      "metadata": {
        "colab": {
          "base_uri": "https://localhost:8080/"
        },
        "id": "g4lUpx85I97m",
        "outputId": "1ac0e06d-c345-4164-9a60-a9886a70582b"
      },
      "execution_count": null,
      "outputs": [
        {
          "output_type": "execute_result",
          "data": {
            "text/plain": [
              "Text (200928 chars), textual(),\n",
              "    train_path, val_path = textual.create_train_val()"
            ]
          },
          "metadata": {},
          "execution_count": 19
        }
      ]
    },
    {
      "cell_type": "code",
      "source": [
        "textual = Textual.from_url(\"https://gutenberg.org/cache/epub/33955/pg33955.txt\")\n",
        "textual"
      ],
      "metadata": {
        "colab": {
          "base_uri": "https://localhost:8080/"
        },
        "id": "ebn6yAeAI9wm",
        "outputId": "82030e44-d703-4394-d571-1588d9039d8f"
      },
      "execution_count": null,
      "outputs": [
        {
          "output_type": "execute_result",
          "data": {
            "text/plain": [
              "Text (343848 chars), textual(),\n",
              "    train_path, val_path = textual.create_train_val()"
            ]
          },
          "metadata": {},
          "execution_count": 20
        }
      ]
    },
    {
      "cell_type": "code",
      "source": [
        "textual = Textual.from_url(\"https://gutenberg.org/files/59746/59746-0.txt\")\n",
        "textual"
      ],
      "metadata": {
        "colab": {
          "base_uri": "https://localhost:8080/"
        },
        "id": "ot_kJFvHLRnK",
        "outputId": "77685f73-8b6f-4e74-fc19-493e529c2afd"
      },
      "execution_count": null,
      "outputs": [
        {
          "output_type": "execute_result",
          "data": {
            "text/plain": [
              "Text (439720 chars), textual(),\n",
              "    train_path, val_path = textual.create_train_val()"
            ]
          },
          "metadata": {},
          "execution_count": 21
        }
      ]
    },
    {
      "cell_type": "code",
      "source": [
        "textual = Textual.from_url(\"https://gutenberg.org/files/59971/59971-0.txt\")\n",
        "textual"
      ],
      "metadata": {
        "colab": {
          "base_uri": "https://localhost:8080/"
        },
        "id": "asVGahBPLRi_",
        "outputId": "e67e1615-d95b-4bad-dcb1-883270e738c0"
      },
      "execution_count": null,
      "outputs": [
        {
          "output_type": "execute_result",
          "data": {
            "text/plain": [
              "Text (522737 chars), textual(),\n",
              "    train_path, val_path = textual.create_train_val()"
            ]
          },
          "metadata": {},
          "execution_count": 22
        }
      ]
    },
    {
      "cell_type": "code",
      "source": [
        "textual = Textual.from_url(\"https://gutenberg.org/cache/epub/10852/pg10852.txt\")\n",
        "textual"
      ],
      "metadata": {
        "colab": {
          "base_uri": "https://localhost:8080/"
        },
        "id": "72WBt2j1LRdM",
        "outputId": "16af5a03-9bfc-4df6-9bfc-91e80ae245f1"
      },
      "execution_count": null,
      "outputs": [
        {
          "output_type": "execute_result",
          "data": {
            "text/plain": [
              "Text (370515 chars), textual(),\n",
              "    train_path, val_path = textual.create_train_val()"
            ]
          },
          "metadata": {},
          "execution_count": 23
        }
      ]
    },
    {
      "cell_type": "markdown",
      "metadata": {
        "id": "I1iDa9dplr2h"
      },
      "source": [
        "### c. Is the size of your dataset large enough to build the baseline model to validate the usefulness and accuracy of the model predictions?\n"
      ]
    },
    {
      "cell_type": "markdown",
      "source": [
        "I have collected 22 books to build the baseline model; \n"
      ],
      "metadata": {
        "id": "-1cNON-aMei7"
      }
    },
    {
      "cell_type": "markdown",
      "metadata": {
        "id": "sYOIkqBuZAm5"
      },
      "source": [
        "### **4. Model Training**"
      ]
    },
    {
      "cell_type": "markdown",
      "metadata": {
        "id": "9z3TG7_8mZJU"
      },
      "source": [
        "We skip the Data Transformation as the Tokenization and Numericalisation happens during the Model Training."
      ]
    },
    {
      "cell_type": "code",
      "metadata": {
        "id": "pnzDFAZZZXCf",
        "colab": {
          "base_uri": "https://localhost:8080/",
          "height": 177,
          "referenced_widgets": [
            "922eceefed304b6096f32117c7281e4a",
            "7406126bbd2c4781bdd50690bc69d95d",
            "e8cd37a562e14a559c4b5dedd688624e",
            "f67431e7179742728358c164ab1d4458",
            "f8107b9d3f2548e88876daa34701b8aa",
            "faf9e94aae6041018bb6ec43e06f9a72",
            "62443fed553d4584858dd9f30da7ee73",
            "54707c14d00f4d22896fef449a06b812",
            "0cf1a9a821884c368ec0e4b7fece2763",
            "b8b35651eb074338b47e8ecb2b5cd4ac",
            "eb61cd8f0d16433da39e9679907d03e6",
            "3816ef3e81cb42a48c53ec16ed0d217c",
            "463ac3127f1544c48590367b2a99e35e",
            "74e6575be8144d7faaa97c70107b17e1",
            "e07e23f5b5db4d088c755deaeb4e4b30",
            "750307af90d44bbeb54f990c091a125a",
            "bcc57045ad7948f0bf3ca9ac817639eb",
            "d51874ba5163417ea739308549341f51",
            "27174062521842c0a66b089872186313",
            "7619001918e54ad18c7332682759a6e3",
            "9c6d4df7f78f478aab98d86c3f5c9381",
            "5e877246694e437f9b39aaa0319ff25b",
            "8f92b1a3dda74b67afecb51e98aee2bc",
            "b4fa79e9b34e4beb97991e7065a79f2c",
            "de01a7e6c1fb401b9ee1ce779d08f964",
            "9a17c080cbf84ace987fa4911a142e91",
            "a67ab598b1c44b7eab0a668842eea5df",
            "a7180be23737457f8a8e7914593260e8",
            "d4a7d44e933d4c3b8d86dbee48452c5b",
            "3be5840638b24c2eb294ecb0b6828c0c",
            "073113c7f8084eb79f885d532e5d11ab",
            "118cd5af554f467cbd968b80f72bba6b",
            "723af5c9cd54430c97afd12d0fe9ab0f",
            "21ce274edc8d4c608156160cee0751bd",
            "a891ee0b88ab41a1b88c1d22e34b5c2f",
            "02257a9f9d12430cb78c6731c726e4dd",
            "4d47fdc0b7bf4bc3a8b325d8cfa4e549",
            "d42ee47ce9714d4f9ac3fb0139563898",
            "10b3eeee6cc4449baa505a1172a22b39",
            "fde847816ac24c21afbc4acc7b9973f1",
            "3ebd809c58244504840d78ec1f442ac1",
            "0eb8dc195a2c4407b2ce5f9dfa249bb6",
            "0f754cbead3b407ebd5b3d6be8898084",
            "a72774fa595842abb1c50b50071aae7f",
            "cc187f90ef504bb28de4f69ff3e2c43f",
            "6f871291ffab4c18b04e974d7440d678",
            "f7769ef08ba04e6e970ac7c0cd4097bd",
            "a396454545314fb5baed41dd521b5d23",
            "1f95873feb4541f6895de2fb63fe88e1",
            "50dfd2f3023448a2ae2a47f940d4041c",
            "2065c289a92e48d789993ed0132abda4",
            "5f54e5a4f66445e7a743c38702a15870",
            "14b2312b41eb4a2dbf62377d5d7ca143",
            "33462eb635ec4374997cd93cd7ee694f",
            "8a2144608a954e89a064f88c0677a57c"
          ]
        },
        "outputId": "fa4c4834-117e-41f3-ee3f-41785a597867"
      },
      "source": [
        "pretrained_model = pipeline(\"text-generation\", model='gpt2')"
      ],
      "execution_count": null,
      "outputs": [
        {
          "output_type": "display_data",
          "data": {
            "text/plain": [
              "Downloading:   0%|          | 0.00/665 [00:00<?, ?B/s]"
            ],
            "application/vnd.jupyter.widget-view+json": {
              "version_major": 2,
              "version_minor": 0,
              "model_id": "922eceefed304b6096f32117c7281e4a"
            }
          },
          "metadata": {}
        },
        {
          "output_type": "display_data",
          "data": {
            "text/plain": [
              "Downloading:   0%|          | 0.00/548M [00:00<?, ?B/s]"
            ],
            "application/vnd.jupyter.widget-view+json": {
              "version_major": 2,
              "version_minor": 0,
              "model_id": "3816ef3e81cb42a48c53ec16ed0d217c"
            }
          },
          "metadata": {}
        },
        {
          "output_type": "display_data",
          "data": {
            "text/plain": [
              "Downloading:   0%|          | 0.00/1.04M [00:00<?, ?B/s]"
            ],
            "application/vnd.jupyter.widget-view+json": {
              "version_major": 2,
              "version_minor": 0,
              "model_id": "8f92b1a3dda74b67afecb51e98aee2bc"
            }
          },
          "metadata": {}
        },
        {
          "output_type": "display_data",
          "data": {
            "text/plain": [
              "Downloading:   0%|          | 0.00/456k [00:00<?, ?B/s]"
            ],
            "application/vnd.jupyter.widget-view+json": {
              "version_major": 2,
              "version_minor": 0,
              "model_id": "21ce274edc8d4c608156160cee0751bd"
            }
          },
          "metadata": {}
        },
        {
          "output_type": "display_data",
          "data": {
            "text/plain": [
              "Downloading:   0%|          | 0.00/1.36M [00:00<?, ?B/s]"
            ],
            "application/vnd.jupyter.widget-view+json": {
              "version_major": 2,
              "version_minor": 0,
              "model_id": "cc187f90ef504bb28de4f69ff3e2c43f"
            }
          },
          "metadata": {}
        }
      ]
    },
    {
      "cell_type": "markdown",
      "metadata": {
        "id": "hXFzPxONZGu1"
      },
      "source": [
        "### **5. Interpret the model and generate text.**"
      ]
    },
    {
      "cell_type": "code",
      "metadata": {
        "id": "mDmQ23JmZWrn"
      },
      "source": [
        "arguments = TrainingArguments(\n",
        "    output_dir=\"./write_style\",\n",
        "    overwrite_output_dir=True,  \n",
        "    num_train_epochs=3,\n",
        "    per_device_train_batch_size=24,\n",
        "    per_device_eval_batch_size=64,\n",
        "    )"
      ],
      "execution_count": null,
      "outputs": []
    },
    {
      "cell_type": "code",
      "source": [
        "trainer = textual.get_hf_trainer(\n",
        "    model=pretrained_model.model,\n",
        "    tokenizer = pretrained_model.tokenizer,\n",
        "    arguments = arguments\n",
        "    )"
      ],
      "metadata": {
        "colab": {
          "base_uri": "https://localhost:8080/"
        },
        "id": "kwUUSAVq1k52",
        "outputId": "aa9b8cff-28fc-4737-9a0b-d40d1916f390"
      },
      "execution_count": null,
      "outputs": [
        {
          "output_type": "stream",
          "name": "stderr",
          "text": [
            "/usr/local/lib/python3.7/dist-packages/transformers/data/datasets/language_modeling.py:58: FutureWarning: This dataset will be removed from the library soon, preprocessing should be handled with the 🤗 Datasets library. You can have a look at this example script for pointers: https://github.com/huggingface/transformers/blob/master/examples/pytorch/language-modeling/run_mlm.py\n",
            "  FutureWarning,\n",
            "Token indices sequence length is longer than the specified maximum sequence length for this model (80564 > 1024). Running this sequence through the model will result in indexing errors\n"
          ]
        }
      ]
    },
    {
      "cell_type": "code",
      "source": [
        "trainer.train()"
      ],
      "metadata": {
        "colab": {
          "base_uri": "https://localhost:8080/",
          "height": 318
        },
        "id": "jQYmFADe12YS",
        "outputId": "c4ac381c-4a94-496a-e0b7-0a42e96d2491"
      },
      "execution_count": null,
      "outputs": [
        {
          "output_type": "stream",
          "name": "stderr",
          "text": [
            "***** Running training *****\n",
            "  Num examples = 629\n",
            "  Num Epochs = 3\n",
            "  Instantaneous batch size per device = 24\n",
            "  Total train batch size (w. parallel, distributed & accumulation) = 24\n",
            "  Gradient Accumulation steps = 1\n",
            "  Total optimization steps = 81\n"
          ]
        },
        {
          "output_type": "display_data",
          "data": {
            "text/plain": [
              "<IPython.core.display.HTML object>"
            ],
            "text/html": [
              "\n",
              "    <div>\n",
              "      \n",
              "      <progress value='81' max='81' style='width:300px; height:20px; vertical-align: middle;'></progress>\n",
              "      [81/81 57:49, Epoch 3/3]\n",
              "    </div>\n",
              "    <table border=\"1\" class=\"dataframe\">\n",
              "  <thead>\n",
              "    <tr style=\"text-align: left;\">\n",
              "      <th>Step</th>\n",
              "      <th>Training Loss</th>\n",
              "    </tr>\n",
              "  </thead>\n",
              "  <tbody>\n",
              "  </tbody>\n",
              "</table><p>"
            ]
          },
          "metadata": {}
        },
        {
          "output_type": "stream",
          "name": "stderr",
          "text": [
            "\n",
            "\n",
            "Training completed. Do not forget to share your model on huggingface.co/models =)\n",
            "\n",
            "\n"
          ]
        },
        {
          "output_type": "execute_result",
          "data": {
            "text/plain": [
              "TrainOutput(global_step=81, training_loss=3.323629497010031, metrics={'train_runtime': 3522.504, 'train_samples_per_second': 0.536, 'train_steps_per_second': 0.023, 'total_flos': 123264516096000.0, 'train_loss': 3.323629497010031, 'epoch': 3.0})"
            ]
          },
          "metadata": {},
          "execution_count": 27
        }
      ]
    },
    {
      "cell_type": "code",
      "source": [
        "trainer.save_model()"
      ],
      "metadata": {
        "colab": {
          "base_uri": "https://localhost:8080/"
        },
        "id": "pnCZG4xy2whe",
        "outputId": "499b0e75-28e3-4cfb-914b-4321b071826f"
      },
      "execution_count": null,
      "outputs": [
        {
          "output_type": "stream",
          "name": "stderr",
          "text": [
            "Saving model checkpoint to ./write_style\n",
            "Configuration saved in ./write_style/config.json\n",
            "Model weights saved in ./write_style/pytorch_model.bin\n"
          ]
        }
      ]
    },
    {
      "cell_type": "code",
      "source": [
        "style_writer = pipeline('text-generation',\n",
        "                        model='./write_style',\n",
        "                        tokenizer=pretrained_model.tokenizer\n",
        "                        )"
      ],
      "metadata": {
        "colab": {
          "base_uri": "https://localhost:8080/"
        },
        "id": "ahuEatAN22ET",
        "outputId": "7cf1f8a6-f7d7-40a6-ee71-074b869183bc"
      },
      "execution_count": null,
      "outputs": [
        {
          "output_type": "stream",
          "name": "stderr",
          "text": [
            "loading configuration file ./write_style/config.json\n",
            "Model config GPT2Config {\n",
            "  \"_name_or_path\": \"gpt2\",\n",
            "  \"activation_function\": \"gelu_new\",\n",
            "  \"architectures\": [\n",
            "    \"GPT2LMHeadModel\"\n",
            "  ],\n",
            "  \"attn_pdrop\": 0.1,\n",
            "  \"bos_token_id\": 50256,\n",
            "  \"do_sample\": true,\n",
            "  \"embd_pdrop\": 0.1,\n",
            "  \"eos_token_id\": 50256,\n",
            "  \"gradient_checkpointing\": false,\n",
            "  \"initializer_range\": 0.02,\n",
            "  \"layer_norm_epsilon\": 1e-05,\n",
            "  \"max_length\": 50,\n",
            "  \"model_type\": \"gpt2\",\n",
            "  \"n_ctx\": 1024,\n",
            "  \"n_embd\": 768,\n",
            "  \"n_head\": 12,\n",
            "  \"n_inner\": null,\n",
            "  \"n_layer\": 12,\n",
            "  \"n_positions\": 1024,\n",
            "  \"resid_pdrop\": 0.1,\n",
            "  \"scale_attn_weights\": true,\n",
            "  \"summary_activation\": null,\n",
            "  \"summary_first_dropout\": 0.1,\n",
            "  \"summary_proj_to_labels\": true,\n",
            "  \"summary_type\": \"cls_index\",\n",
            "  \"summary_use_proj\": true,\n",
            "  \"task_specific_params\": {\n",
            "    \"text-generation\": {\n",
            "      \"do_sample\": true,\n",
            "      \"max_length\": 50\n",
            "    }\n",
            "  },\n",
            "  \"torch_dtype\": \"float32\",\n",
            "  \"transformers_version\": \"4.10.2\",\n",
            "  \"use_cache\": true,\n",
            "  \"vocab_size\": 50257\n",
            "}\n",
            "\n",
            "loading configuration file ./write_style/config.json\n",
            "Model config GPT2Config {\n",
            "  \"_name_or_path\": \"gpt2\",\n",
            "  \"activation_function\": \"gelu_new\",\n",
            "  \"architectures\": [\n",
            "    \"GPT2LMHeadModel\"\n",
            "  ],\n",
            "  \"attn_pdrop\": 0.1,\n",
            "  \"bos_token_id\": 50256,\n",
            "  \"do_sample\": true,\n",
            "  \"embd_pdrop\": 0.1,\n",
            "  \"eos_token_id\": 50256,\n",
            "  \"gradient_checkpointing\": false,\n",
            "  \"initializer_range\": 0.02,\n",
            "  \"layer_norm_epsilon\": 1e-05,\n",
            "  \"max_length\": 50,\n",
            "  \"model_type\": \"gpt2\",\n",
            "  \"n_ctx\": 1024,\n",
            "  \"n_embd\": 768,\n",
            "  \"n_head\": 12,\n",
            "  \"n_inner\": null,\n",
            "  \"n_layer\": 12,\n",
            "  \"n_positions\": 1024,\n",
            "  \"resid_pdrop\": 0.1,\n",
            "  \"scale_attn_weights\": true,\n",
            "  \"summary_activation\": null,\n",
            "  \"summary_first_dropout\": 0.1,\n",
            "  \"summary_proj_to_labels\": true,\n",
            "  \"summary_type\": \"cls_index\",\n",
            "  \"summary_use_proj\": true,\n",
            "  \"task_specific_params\": {\n",
            "    \"text-generation\": {\n",
            "      \"do_sample\": true,\n",
            "      \"max_length\": 50\n",
            "    }\n",
            "  },\n",
            "  \"torch_dtype\": \"float32\",\n",
            "  \"transformers_version\": \"4.10.2\",\n",
            "  \"use_cache\": true,\n",
            "  \"vocab_size\": 50257\n",
            "}\n",
            "\n",
            "loading weights file ./write_style/pytorch_model.bin\n",
            "All model checkpoint weights were used when initializing GPT2LMHeadModel.\n",
            "\n",
            "All the weights of GPT2LMHeadModel were initialized from the model checkpoint at ./write_style.\n",
            "If your task is similar to the task the model of the checkpoint was trained on, you can already use GPT2LMHeadModel for predictions without further training.\n"
          ]
        }
      ]
    },
    {
      "cell_type": "code",
      "source": [
        "style_writer(\"How to design botanical pattern?\",\n",
        "            max_length=150,\n",
        "            num_return_sequences=1)"
      ],
      "metadata": {
        "colab": {
          "base_uri": "https://localhost:8080/"
        },
        "id": "FcuHOsd23TO3",
        "outputId": "3d58e6bb-2e1f-4900-9fa1-0b4462deee64"
      },
      "execution_count": null,
      "outputs": [
        {
          "output_type": "stream",
          "name": "stderr",
          "text": [
            "Using pad_token, but it is not set yet.\n",
            "Setting `pad_token_id` to `eos_token_id`:50256 for open-end generation.\n"
          ]
        },
        {
          "output_type": "execute_result",
          "data": {
            "text/plain": [
              "[{'generated_text': 'How to design botanical pattern? This is the first book that directly addresses this subject.  This introduction provides a more technical, more elegant explanation than the usual work of the botanists, and, with its many references, is perhaps best produced in a form which will be freely available to the general public.  While the general method of the manufacture of flowers may be described in more detail elsewhere, in detail a description of how one plants leaves flowers with respect to their parent or object must still be given.  Although many useful tips and exercises are found in the preceding volumes, they should not be neglected if a suitable system are to be developed.  This book is being written for general purposes, not suited for those of ornamental design,'}]"
            ]
          },
          "metadata": {},
          "execution_count": 30
        }
      ]
    },
    {
      "cell_type": "code",
      "source": [
        "style_writer(\"How to design pattern in william morris style?\",\n",
        "            max_length=150,\n",
        "            num_return_sequences=1)"
      ],
      "metadata": {
        "id": "RFvXSwU7WWu-",
        "outputId": "56278bc5-6836-4dcd-abff-2e471d8073ea",
        "colab": {
          "base_uri": "https://localhost:8080/"
        }
      },
      "execution_count": null,
      "outputs": [
        {
          "output_type": "stream",
          "name": "stderr",
          "text": [
            "Using pad_token, but it is not set yet.\n",
            "Setting `pad_token_id` to `eos_token_id`:50256 for open-end generation.\n"
          ]
        },
        {
          "output_type": "execute_result",
          "data": {
            "text/plain": [
              "[{'generated_text': \"How to design pattern in william morris style? Flowers, with white heads and yellow-white berries, are produced from December till April in these beautiful forms. Each shoots four feet high, and grows from about one foot deep. They are very valuable early-growing varieties, and produced not only at our garden plants, but as also being of great value in the making of decorative shrubs, and in the growing centre of the walls of houses.  WILLIAM HUGBETTS (_syn Japonica_).--Common Willingham's Cabbage. North America. 2 vols., London. 416 or 417 c.  WILLIAM HUGBETTS (_syn Japonica_).--Japanese Green\"}]"
            ]
          },
          "metadata": {},
          "execution_count": 31
        }
      ]
    },
    {
      "cell_type": "code",
      "source": [
        "style_writer(\"How to decorate the wall in living room with Botanical pattern in william morris style?\",\n",
        "            max_length=150,\n",
        "            num_return_sequences=1)"
      ],
      "metadata": {
        "id": "5HoS8FVUX0qf",
        "outputId": "8fa3891c-cd45-40d9-dc60-b706526fa653",
        "colab": {
          "base_uri": "https://localhost:8080/"
        }
      },
      "execution_count": null,
      "outputs": [
        {
          "output_type": "stream",
          "name": "stderr",
          "text": [
            "Using pad_token, but it is not set yet.\n",
            "Setting `pad_token_id` to `eos_token_id`:50256 for open-end generation.\n"
          ]
        },
        {
          "output_type": "execute_result",
          "data": {
            "text/plain": [
              "[{'generated_text': 'How to decorate the wall in living room with Botanical pattern in william morris style?  The only practical way to do this is by hanging it onto a wall. The larger the wall, the more interesting the flowers will become.  For the younger generations, these flowers should be planted to the inside of a window sill or hanging box.  The decorative flowers are arranged in clusters. The leaves of the flower-bearing flowers are produced in clusters.  Flowers that are larger are usually well-known shrubs like The Botanical Nursery of Wales, or the Almond Tree of the Isles, where they are produced in clusters.   A large number of ornamental flowers usually fall into the branches of this family, but not'}]"
            ]
          },
          "metadata": {},
          "execution_count": 32
        }
      ]
    },
    {
      "cell_type": "markdown",
      "source": [
        "### **6. Model's input and output**"
      ],
      "metadata": {
        "id": "-df_Q4iAhhKK"
      }
    },
    {
      "cell_type": "markdown",
      "source": [
        "Your ML model's output comes back to what machine learning task you initially selected. Supervised machine learning tasks require labeled datasets (x and y) for the ML model to learn how to map your data (x) to the desired output/label (y).\n",
        "Please describe your data labels (you can also insert the actual example of the label) and discuss if the model output satisfies the project's objective. "
      ],
      "metadata": {
        "id": "Zx1lgipThnt8"
      }
    },
    {
      "cell_type": "markdown",
      "source": [
        "What data type and format (e.g. jpeg images, csv file, pdf file) will you utilize for data pre-processing before you feed them for model training? <br>\n",
        "The data type and format I'm using for the pre-processing is .txt file; <br>\n",
        "x=\"How to design botanical pattern?\" <br>\n",
        "x=\"How to design pattern in william morris style?\" <br>\n",
        "x=\"How to decorate the wall in living room with Botanical pattern in william morris style?\" <br>\n"
      ],
      "metadata": {
        "id": "gzxhkQxkhscJ"
      }
    },
    {
      "cell_type": "markdown",
      "source": [
        "What's your data label? What do you want to predict? <br>\n",
        "I want to predict that the trained text geneator can answer user's questions or predict what they're looking for by user's inputed keywords; <br>\n",
        "y= \"max_length=150\""
      ],
      "metadata": {
        "id": "YunkX5SLhxGb"
      }
    },
    {
      "cell_type": "markdown",
      "source": [
        "### 7. What metrics explain your model performance?"
      ],
      "metadata": {
        "id": "GzZOM_emh0xc"
      }
    },
    {
      "cell_type": "markdown",
      "source": [
        "First think in terms of \"Business Metrics\" or business/practical objectives, not technical metrics. Then apply this thinking to figuring out one or a combination of ML evaluation metrics and human readable metrics that match the business objectives. <br>\n",
        "For example, for an image classification model to evaluate its prediction results you could use error rate or accuracy, while confusion matrix can be better in explaining how model performs on a particular class. <br>\n",
        "To learn about the metrics for NLP-related problems, please check: Hugging Face <br>\n",
        "For general classification and regression problems, please check: neptune.ai's blog <br>"
      ],
      "metadata": {
        "id": "GoI7vAe8h9Nc"
      }
    },
    {
      "cell_type": "markdown",
      "source": [
        "1. What are non-ML baselines you can consider as reference for a model performance?"
      ],
      "metadata": {
        "id": "sKM8s5RIiEAg"
      }
    },
    {
      "cell_type": "markdown",
      "source": [
        "2. What are your model evaluation metrics and why?\n",
        "\n",
        "Metrics: <br>\n",
        "bleurt <br>\n",
        "https://huggingface.co/spaces/evaluate-metric/bleurt <br>\n",
        "bert_score <br>\n",
        "https://huggingface.co/spaces/evaluate-metric/bertscore <br>\n",
        "glue <br>\n",
        "https://huggingface.co/spaces/evaluate-metric/glue\n",
        "\n",
        "why?\n",
        "\n",
        "Is this sentence syntactically correct?"
      ],
      "metadata": {
        "id": "b_qCC5NfiG3n"
      }
    },
    {
      "cell_type": "markdown",
      "source": [
        "3. Is the metric you selected intuitive enough to communicate the results of the model training to non-ML guys? <br>\n",
        "I'm not sure as I think the result so far is not bad, but it can be better with more data;"
      ],
      "metadata": {
        "id": "VFF3oUopiJnc"
      }
    },
    {
      "cell_type": "markdown",
      "source": [
        "4. Can your metric explain model's biases? <br>\n",
        "It defintelly can, as the data I've been feeding only covers certain styles of the design; more comprehensive data is needed to make the output more neutral and no biases;\n"
      ],
      "metadata": {
        "id": "clonmgRGiKex"
      }
    }
  ]
}