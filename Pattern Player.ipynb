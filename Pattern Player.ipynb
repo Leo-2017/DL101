{
  "nbformat": 4,
  "nbformat_minor": 0,
  "metadata": {
    "colab": {
      "name": "Copy of Pattern Player.ipynb",
      "provenance": [],
      "collapsed_sections": [],
      "include_colab_link": true
    },
    "jupytext": {
      "split_at_heading": true
    },
    "kernelspec": {
      "display_name": "Python 3",
      "language": "python",
      "name": "python3"
    },
    "gpuClass": "standard",
    "widgets": {
      "application/vnd.jupyter.widget-state+json": {
        "e7a5c3fc993d44b89724c02d10725717": {
          "model_module": "@jupyter-widgets/controls",
          "model_name": "HBoxModel",
          "model_module_version": "1.5.0",
          "state": {
            "_dom_classes": [],
            "_model_module": "@jupyter-widgets/controls",
            "_model_module_version": "1.5.0",
            "_model_name": "HBoxModel",
            "_view_count": null,
            "_view_module": "@jupyter-widgets/controls",
            "_view_module_version": "1.5.0",
            "_view_name": "HBoxView",
            "box_style": "",
            "children": [
              "IPY_MODEL_10309db26ede4b3087121d8a94a9cffd",
              "IPY_MODEL_574e962f853848098662c701f2a08965",
              "IPY_MODEL_b894262ba39d42cdb224dbe210ebfcaf"
            ],
            "layout": "IPY_MODEL_f83001b3fac9463aa49ba9112450a90d"
          }
        },
        "10309db26ede4b3087121d8a94a9cffd": {
          "model_module": "@jupyter-widgets/controls",
          "model_name": "HTMLModel",
          "model_module_version": "1.5.0",
          "state": {
            "_dom_classes": [],
            "_model_module": "@jupyter-widgets/controls",
            "_model_module_version": "1.5.0",
            "_model_name": "HTMLModel",
            "_view_count": null,
            "_view_module": "@jupyter-widgets/controls",
            "_view_module_version": "1.5.0",
            "_view_name": "HTMLView",
            "description": "",
            "description_tooltip": null,
            "layout": "IPY_MODEL_d4b8bc0b46ff42e596a8aea7a4445819",
            "placeholder": "​",
            "style": "IPY_MODEL_fff6a2386cf54b4f8c3cb8f369babe43",
            "value": "Downloading: 100%"
          }
        },
        "574e962f853848098662c701f2a08965": {
          "model_module": "@jupyter-widgets/controls",
          "model_name": "FloatProgressModel",
          "model_module_version": "1.5.0",
          "state": {
            "_dom_classes": [],
            "_model_module": "@jupyter-widgets/controls",
            "_model_module_version": "1.5.0",
            "_model_name": "FloatProgressModel",
            "_view_count": null,
            "_view_module": "@jupyter-widgets/controls",
            "_view_module_version": "1.5.0",
            "_view_name": "ProgressView",
            "bar_style": "success",
            "description": "",
            "description_tooltip": null,
            "layout": "IPY_MODEL_e4b04a5ab8f24974ad619f07ff8ccdc3",
            "max": 665,
            "min": 0,
            "orientation": "horizontal",
            "style": "IPY_MODEL_2597a79e92da4b7a896110a05cb6c692",
            "value": 665
          }
        },
        "b894262ba39d42cdb224dbe210ebfcaf": {
          "model_module": "@jupyter-widgets/controls",
          "model_name": "HTMLModel",
          "model_module_version": "1.5.0",
          "state": {
            "_dom_classes": [],
            "_model_module": "@jupyter-widgets/controls",
            "_model_module_version": "1.5.0",
            "_model_name": "HTMLModel",
            "_view_count": null,
            "_view_module": "@jupyter-widgets/controls",
            "_view_module_version": "1.5.0",
            "_view_name": "HTMLView",
            "description": "",
            "description_tooltip": null,
            "layout": "IPY_MODEL_9d31c8d18e7a4668ac71241554f19555",
            "placeholder": "​",
            "style": "IPY_MODEL_25374018cef343e88e49193c71538aad",
            "value": " 665/665 [00:00&lt;00:00, 16.2kB/s]"
          }
        },
        "f83001b3fac9463aa49ba9112450a90d": {
          "model_module": "@jupyter-widgets/base",
          "model_name": "LayoutModel",
          "model_module_version": "1.2.0",
          "state": {
            "_model_module": "@jupyter-widgets/base",
            "_model_module_version": "1.2.0",
            "_model_name": "LayoutModel",
            "_view_count": null,
            "_view_module": "@jupyter-widgets/base",
            "_view_module_version": "1.2.0",
            "_view_name": "LayoutView",
            "align_content": null,
            "align_items": null,
            "align_self": null,
            "border": null,
            "bottom": null,
            "display": null,
            "flex": null,
            "flex_flow": null,
            "grid_area": null,
            "grid_auto_columns": null,
            "grid_auto_flow": null,
            "grid_auto_rows": null,
            "grid_column": null,
            "grid_gap": null,
            "grid_row": null,
            "grid_template_areas": null,
            "grid_template_columns": null,
            "grid_template_rows": null,
            "height": null,
            "justify_content": null,
            "justify_items": null,
            "left": null,
            "margin": null,
            "max_height": null,
            "max_width": null,
            "min_height": null,
            "min_width": null,
            "object_fit": null,
            "object_position": null,
            "order": null,
            "overflow": null,
            "overflow_x": null,
            "overflow_y": null,
            "padding": null,
            "right": null,
            "top": null,
            "visibility": null,
            "width": null
          }
        },
        "d4b8bc0b46ff42e596a8aea7a4445819": {
          "model_module": "@jupyter-widgets/base",
          "model_name": "LayoutModel",
          "model_module_version": "1.2.0",
          "state": {
            "_model_module": "@jupyter-widgets/base",
            "_model_module_version": "1.2.0",
            "_model_name": "LayoutModel",
            "_view_count": null,
            "_view_module": "@jupyter-widgets/base",
            "_view_module_version": "1.2.0",
            "_view_name": "LayoutView",
            "align_content": null,
            "align_items": null,
            "align_self": null,
            "border": null,
            "bottom": null,
            "display": null,
            "flex": null,
            "flex_flow": null,
            "grid_area": null,
            "grid_auto_columns": null,
            "grid_auto_flow": null,
            "grid_auto_rows": null,
            "grid_column": null,
            "grid_gap": null,
            "grid_row": null,
            "grid_template_areas": null,
            "grid_template_columns": null,
            "grid_template_rows": null,
            "height": null,
            "justify_content": null,
            "justify_items": null,
            "left": null,
            "margin": null,
            "max_height": null,
            "max_width": null,
            "min_height": null,
            "min_width": null,
            "object_fit": null,
            "object_position": null,
            "order": null,
            "overflow": null,
            "overflow_x": null,
            "overflow_y": null,
            "padding": null,
            "right": null,
            "top": null,
            "visibility": null,
            "width": null
          }
        },
        "fff6a2386cf54b4f8c3cb8f369babe43": {
          "model_module": "@jupyter-widgets/controls",
          "model_name": "DescriptionStyleModel",
          "model_module_version": "1.5.0",
          "state": {
            "_model_module": "@jupyter-widgets/controls",
            "_model_module_version": "1.5.0",
            "_model_name": "DescriptionStyleModel",
            "_view_count": null,
            "_view_module": "@jupyter-widgets/base",
            "_view_module_version": "1.2.0",
            "_view_name": "StyleView",
            "description_width": ""
          }
        },
        "e4b04a5ab8f24974ad619f07ff8ccdc3": {
          "model_module": "@jupyter-widgets/base",
          "model_name": "LayoutModel",
          "model_module_version": "1.2.0",
          "state": {
            "_model_module": "@jupyter-widgets/base",
            "_model_module_version": "1.2.0",
            "_model_name": "LayoutModel",
            "_view_count": null,
            "_view_module": "@jupyter-widgets/base",
            "_view_module_version": "1.2.0",
            "_view_name": "LayoutView",
            "align_content": null,
            "align_items": null,
            "align_self": null,
            "border": null,
            "bottom": null,
            "display": null,
            "flex": null,
            "flex_flow": null,
            "grid_area": null,
            "grid_auto_columns": null,
            "grid_auto_flow": null,
            "grid_auto_rows": null,
            "grid_column": null,
            "grid_gap": null,
            "grid_row": null,
            "grid_template_areas": null,
            "grid_template_columns": null,
            "grid_template_rows": null,
            "height": null,
            "justify_content": null,
            "justify_items": null,
            "left": null,
            "margin": null,
            "max_height": null,
            "max_width": null,
            "min_height": null,
            "min_width": null,
            "object_fit": null,
            "object_position": null,
            "order": null,
            "overflow": null,
            "overflow_x": null,
            "overflow_y": null,
            "padding": null,
            "right": null,
            "top": null,
            "visibility": null,
            "width": null
          }
        },
        "2597a79e92da4b7a896110a05cb6c692": {
          "model_module": "@jupyter-widgets/controls",
          "model_name": "ProgressStyleModel",
          "model_module_version": "1.5.0",
          "state": {
            "_model_module": "@jupyter-widgets/controls",
            "_model_module_version": "1.5.0",
            "_model_name": "ProgressStyleModel",
            "_view_count": null,
            "_view_module": "@jupyter-widgets/base",
            "_view_module_version": "1.2.0",
            "_view_name": "StyleView",
            "bar_color": null,
            "description_width": ""
          }
        },
        "9d31c8d18e7a4668ac71241554f19555": {
          "model_module": "@jupyter-widgets/base",
          "model_name": "LayoutModel",
          "model_module_version": "1.2.0",
          "state": {
            "_model_module": "@jupyter-widgets/base",
            "_model_module_version": "1.2.0",
            "_model_name": "LayoutModel",
            "_view_count": null,
            "_view_module": "@jupyter-widgets/base",
            "_view_module_version": "1.2.0",
            "_view_name": "LayoutView",
            "align_content": null,
            "align_items": null,
            "align_self": null,
            "border": null,
            "bottom": null,
            "display": null,
            "flex": null,
            "flex_flow": null,
            "grid_area": null,
            "grid_auto_columns": null,
            "grid_auto_flow": null,
            "grid_auto_rows": null,
            "grid_column": null,
            "grid_gap": null,
            "grid_row": null,
            "grid_template_areas": null,
            "grid_template_columns": null,
            "grid_template_rows": null,
            "height": null,
            "justify_content": null,
            "justify_items": null,
            "left": null,
            "margin": null,
            "max_height": null,
            "max_width": null,
            "min_height": null,
            "min_width": null,
            "object_fit": null,
            "object_position": null,
            "order": null,
            "overflow": null,
            "overflow_x": null,
            "overflow_y": null,
            "padding": null,
            "right": null,
            "top": null,
            "visibility": null,
            "width": null
          }
        },
        "25374018cef343e88e49193c71538aad": {
          "model_module": "@jupyter-widgets/controls",
          "model_name": "DescriptionStyleModel",
          "model_module_version": "1.5.0",
          "state": {
            "_model_module": "@jupyter-widgets/controls",
            "_model_module_version": "1.5.0",
            "_model_name": "DescriptionStyleModel",
            "_view_count": null,
            "_view_module": "@jupyter-widgets/base",
            "_view_module_version": "1.2.0",
            "_view_name": "StyleView",
            "description_width": ""
          }
        },
        "f7a681c8a9ec427d87582d6c34fc3785": {
          "model_module": "@jupyter-widgets/controls",
          "model_name": "HBoxModel",
          "model_module_version": "1.5.0",
          "state": {
            "_dom_classes": [],
            "_model_module": "@jupyter-widgets/controls",
            "_model_module_version": "1.5.0",
            "_model_name": "HBoxModel",
            "_view_count": null,
            "_view_module": "@jupyter-widgets/controls",
            "_view_module_version": "1.5.0",
            "_view_name": "HBoxView",
            "box_style": "",
            "children": [
              "IPY_MODEL_59638a5bcceb46e2a94490572f7d8e16",
              "IPY_MODEL_f0ee688f0a614c34a54203e45797781d",
              "IPY_MODEL_17a2ec985f644cd3abe6f8ab14da899f"
            ],
            "layout": "IPY_MODEL_9ab0cfc1bb914677b29a5d73b6e60f0d"
          }
        },
        "59638a5bcceb46e2a94490572f7d8e16": {
          "model_module": "@jupyter-widgets/controls",
          "model_name": "HTMLModel",
          "model_module_version": "1.5.0",
          "state": {
            "_dom_classes": [],
            "_model_module": "@jupyter-widgets/controls",
            "_model_module_version": "1.5.0",
            "_model_name": "HTMLModel",
            "_view_count": null,
            "_view_module": "@jupyter-widgets/controls",
            "_view_module_version": "1.5.0",
            "_view_name": "HTMLView",
            "description": "",
            "description_tooltip": null,
            "layout": "IPY_MODEL_3e3049b9a9ac48afbcdb066c171e9e8c",
            "placeholder": "​",
            "style": "IPY_MODEL_6e684c2eb4a84bbc96c6cec002cca7f1",
            "value": "Downloading: 100%"
          }
        },
        "f0ee688f0a614c34a54203e45797781d": {
          "model_module": "@jupyter-widgets/controls",
          "model_name": "FloatProgressModel",
          "model_module_version": "1.5.0",
          "state": {
            "_dom_classes": [],
            "_model_module": "@jupyter-widgets/controls",
            "_model_module_version": "1.5.0",
            "_model_name": "FloatProgressModel",
            "_view_count": null,
            "_view_module": "@jupyter-widgets/controls",
            "_view_module_version": "1.5.0",
            "_view_name": "ProgressView",
            "bar_style": "success",
            "description": "",
            "description_tooltip": null,
            "layout": "IPY_MODEL_0a57d82b180b4454bd987b6989c78aad",
            "max": 548118077,
            "min": 0,
            "orientation": "horizontal",
            "style": "IPY_MODEL_03550082a267453f960518a5b96a4994",
            "value": 548118077
          }
        },
        "17a2ec985f644cd3abe6f8ab14da899f": {
          "model_module": "@jupyter-widgets/controls",
          "model_name": "HTMLModel",
          "model_module_version": "1.5.0",
          "state": {
            "_dom_classes": [],
            "_model_module": "@jupyter-widgets/controls",
            "_model_module_version": "1.5.0",
            "_model_name": "HTMLModel",
            "_view_count": null,
            "_view_module": "@jupyter-widgets/controls",
            "_view_module_version": "1.5.0",
            "_view_name": "HTMLView",
            "description": "",
            "description_tooltip": null,
            "layout": "IPY_MODEL_1564c169963f40a7b90b899beced9705",
            "placeholder": "​",
            "style": "IPY_MODEL_9b825652c30b4153b911354e55336568",
            "value": " 548M/548M [00:12&lt;00:00, 40.9MB/s]"
          }
        },
        "9ab0cfc1bb914677b29a5d73b6e60f0d": {
          "model_module": "@jupyter-widgets/base",
          "model_name": "LayoutModel",
          "model_module_version": "1.2.0",
          "state": {
            "_model_module": "@jupyter-widgets/base",
            "_model_module_version": "1.2.0",
            "_model_name": "LayoutModel",
            "_view_count": null,
            "_view_module": "@jupyter-widgets/base",
            "_view_module_version": "1.2.0",
            "_view_name": "LayoutView",
            "align_content": null,
            "align_items": null,
            "align_self": null,
            "border": null,
            "bottom": null,
            "display": null,
            "flex": null,
            "flex_flow": null,
            "grid_area": null,
            "grid_auto_columns": null,
            "grid_auto_flow": null,
            "grid_auto_rows": null,
            "grid_column": null,
            "grid_gap": null,
            "grid_row": null,
            "grid_template_areas": null,
            "grid_template_columns": null,
            "grid_template_rows": null,
            "height": null,
            "justify_content": null,
            "justify_items": null,
            "left": null,
            "margin": null,
            "max_height": null,
            "max_width": null,
            "min_height": null,
            "min_width": null,
            "object_fit": null,
            "object_position": null,
            "order": null,
            "overflow": null,
            "overflow_x": null,
            "overflow_y": null,
            "padding": null,
            "right": null,
            "top": null,
            "visibility": null,
            "width": null
          }
        },
        "3e3049b9a9ac48afbcdb066c171e9e8c": {
          "model_module": "@jupyter-widgets/base",
          "model_name": "LayoutModel",
          "model_module_version": "1.2.0",
          "state": {
            "_model_module": "@jupyter-widgets/base",
            "_model_module_version": "1.2.0",
            "_model_name": "LayoutModel",
            "_view_count": null,
            "_view_module": "@jupyter-widgets/base",
            "_view_module_version": "1.2.0",
            "_view_name": "LayoutView",
            "align_content": null,
            "align_items": null,
            "align_self": null,
            "border": null,
            "bottom": null,
            "display": null,
            "flex": null,
            "flex_flow": null,
            "grid_area": null,
            "grid_auto_columns": null,
            "grid_auto_flow": null,
            "grid_auto_rows": null,
            "grid_column": null,
            "grid_gap": null,
            "grid_row": null,
            "grid_template_areas": null,
            "grid_template_columns": null,
            "grid_template_rows": null,
            "height": null,
            "justify_content": null,
            "justify_items": null,
            "left": null,
            "margin": null,
            "max_height": null,
            "max_width": null,
            "min_height": null,
            "min_width": null,
            "object_fit": null,
            "object_position": null,
            "order": null,
            "overflow": null,
            "overflow_x": null,
            "overflow_y": null,
            "padding": null,
            "right": null,
            "top": null,
            "visibility": null,
            "width": null
          }
        },
        "6e684c2eb4a84bbc96c6cec002cca7f1": {
          "model_module": "@jupyter-widgets/controls",
          "model_name": "DescriptionStyleModel",
          "model_module_version": "1.5.0",
          "state": {
            "_model_module": "@jupyter-widgets/controls",
            "_model_module_version": "1.5.0",
            "_model_name": "DescriptionStyleModel",
            "_view_count": null,
            "_view_module": "@jupyter-widgets/base",
            "_view_module_version": "1.2.0",
            "_view_name": "StyleView",
            "description_width": ""
          }
        },
        "0a57d82b180b4454bd987b6989c78aad": {
          "model_module": "@jupyter-widgets/base",
          "model_name": "LayoutModel",
          "model_module_version": "1.2.0",
          "state": {
            "_model_module": "@jupyter-widgets/base",
            "_model_module_version": "1.2.0",
            "_model_name": "LayoutModel",
            "_view_count": null,
            "_view_module": "@jupyter-widgets/base",
            "_view_module_version": "1.2.0",
            "_view_name": "LayoutView",
            "align_content": null,
            "align_items": null,
            "align_self": null,
            "border": null,
            "bottom": null,
            "display": null,
            "flex": null,
            "flex_flow": null,
            "grid_area": null,
            "grid_auto_columns": null,
            "grid_auto_flow": null,
            "grid_auto_rows": null,
            "grid_column": null,
            "grid_gap": null,
            "grid_row": null,
            "grid_template_areas": null,
            "grid_template_columns": null,
            "grid_template_rows": null,
            "height": null,
            "justify_content": null,
            "justify_items": null,
            "left": null,
            "margin": null,
            "max_height": null,
            "max_width": null,
            "min_height": null,
            "min_width": null,
            "object_fit": null,
            "object_position": null,
            "order": null,
            "overflow": null,
            "overflow_x": null,
            "overflow_y": null,
            "padding": null,
            "right": null,
            "top": null,
            "visibility": null,
            "width": null
          }
        },
        "03550082a267453f960518a5b96a4994": {
          "model_module": "@jupyter-widgets/controls",
          "model_name": "ProgressStyleModel",
          "model_module_version": "1.5.0",
          "state": {
            "_model_module": "@jupyter-widgets/controls",
            "_model_module_version": "1.5.0",
            "_model_name": "ProgressStyleModel",
            "_view_count": null,
            "_view_module": "@jupyter-widgets/base",
            "_view_module_version": "1.2.0",
            "_view_name": "StyleView",
            "bar_color": null,
            "description_width": ""
          }
        },
        "1564c169963f40a7b90b899beced9705": {
          "model_module": "@jupyter-widgets/base",
          "model_name": "LayoutModel",
          "model_module_version": "1.2.0",
          "state": {
            "_model_module": "@jupyter-widgets/base",
            "_model_module_version": "1.2.0",
            "_model_name": "LayoutModel",
            "_view_count": null,
            "_view_module": "@jupyter-widgets/base",
            "_view_module_version": "1.2.0",
            "_view_name": "LayoutView",
            "align_content": null,
            "align_items": null,
            "align_self": null,
            "border": null,
            "bottom": null,
            "display": null,
            "flex": null,
            "flex_flow": null,
            "grid_area": null,
            "grid_auto_columns": null,
            "grid_auto_flow": null,
            "grid_auto_rows": null,
            "grid_column": null,
            "grid_gap": null,
            "grid_row": null,
            "grid_template_areas": null,
            "grid_template_columns": null,
            "grid_template_rows": null,
            "height": null,
            "justify_content": null,
            "justify_items": null,
            "left": null,
            "margin": null,
            "max_height": null,
            "max_width": null,
            "min_height": null,
            "min_width": null,
            "object_fit": null,
            "object_position": null,
            "order": null,
            "overflow": null,
            "overflow_x": null,
            "overflow_y": null,
            "padding": null,
            "right": null,
            "top": null,
            "visibility": null,
            "width": null
          }
        },
        "9b825652c30b4153b911354e55336568": {
          "model_module": "@jupyter-widgets/controls",
          "model_name": "DescriptionStyleModel",
          "model_module_version": "1.5.0",
          "state": {
            "_model_module": "@jupyter-widgets/controls",
            "_model_module_version": "1.5.0",
            "_model_name": "DescriptionStyleModel",
            "_view_count": null,
            "_view_module": "@jupyter-widgets/base",
            "_view_module_version": "1.2.0",
            "_view_name": "StyleView",
            "description_width": ""
          }
        },
        "e22c86e8dcfe451dbece119db452e884": {
          "model_module": "@jupyter-widgets/controls",
          "model_name": "HBoxModel",
          "model_module_version": "1.5.0",
          "state": {
            "_dom_classes": [],
            "_model_module": "@jupyter-widgets/controls",
            "_model_module_version": "1.5.0",
            "_model_name": "HBoxModel",
            "_view_count": null,
            "_view_module": "@jupyter-widgets/controls",
            "_view_module_version": "1.5.0",
            "_view_name": "HBoxView",
            "box_style": "",
            "children": [
              "IPY_MODEL_e69a932b5ec049a48e52742f70744e75",
              "IPY_MODEL_b8ba1ffe01c04c1cb6d29b8d94becbe8",
              "IPY_MODEL_6decc2e06d544414a2f9af384ce037f7"
            ],
            "layout": "IPY_MODEL_391974e3417f406fa65772d973025551"
          }
        },
        "e69a932b5ec049a48e52742f70744e75": {
          "model_module": "@jupyter-widgets/controls",
          "model_name": "HTMLModel",
          "model_module_version": "1.5.0",
          "state": {
            "_dom_classes": [],
            "_model_module": "@jupyter-widgets/controls",
            "_model_module_version": "1.5.0",
            "_model_name": "HTMLModel",
            "_view_count": null,
            "_view_module": "@jupyter-widgets/controls",
            "_view_module_version": "1.5.0",
            "_view_name": "HTMLView",
            "description": "",
            "description_tooltip": null,
            "layout": "IPY_MODEL_4c12b947224b4088aecfd4137072590a",
            "placeholder": "​",
            "style": "IPY_MODEL_2ae4f6c515a44f1f96aef3c408d58c4b",
            "value": "Downloading: 100%"
          }
        },
        "b8ba1ffe01c04c1cb6d29b8d94becbe8": {
          "model_module": "@jupyter-widgets/controls",
          "model_name": "FloatProgressModel",
          "model_module_version": "1.5.0",
          "state": {
            "_dom_classes": [],
            "_model_module": "@jupyter-widgets/controls",
            "_model_module_version": "1.5.0",
            "_model_name": "FloatProgressModel",
            "_view_count": null,
            "_view_module": "@jupyter-widgets/controls",
            "_view_module_version": "1.5.0",
            "_view_name": "ProgressView",
            "bar_style": "success",
            "description": "",
            "description_tooltip": null,
            "layout": "IPY_MODEL_b2b7b18625014b64a644c1e68e8a85d0",
            "max": 1042301,
            "min": 0,
            "orientation": "horizontal",
            "style": "IPY_MODEL_a37d759c41084d67a76ef118dd6e8661",
            "value": 1042301
          }
        },
        "6decc2e06d544414a2f9af384ce037f7": {
          "model_module": "@jupyter-widgets/controls",
          "model_name": "HTMLModel",
          "model_module_version": "1.5.0",
          "state": {
            "_dom_classes": [],
            "_model_module": "@jupyter-widgets/controls",
            "_model_module_version": "1.5.0",
            "_model_name": "HTMLModel",
            "_view_count": null,
            "_view_module": "@jupyter-widgets/controls",
            "_view_module_version": "1.5.0",
            "_view_name": "HTMLView",
            "description": "",
            "description_tooltip": null,
            "layout": "IPY_MODEL_2e07f6dbf18742a4ad13ab859d6a0426",
            "placeholder": "​",
            "style": "IPY_MODEL_0499edd02d314c3bae63697b0b900544",
            "value": " 1.04M/1.04M [00:00&lt;00:00, 3.01MB/s]"
          }
        },
        "391974e3417f406fa65772d973025551": {
          "model_module": "@jupyter-widgets/base",
          "model_name": "LayoutModel",
          "model_module_version": "1.2.0",
          "state": {
            "_model_module": "@jupyter-widgets/base",
            "_model_module_version": "1.2.0",
            "_model_name": "LayoutModel",
            "_view_count": null,
            "_view_module": "@jupyter-widgets/base",
            "_view_module_version": "1.2.0",
            "_view_name": "LayoutView",
            "align_content": null,
            "align_items": null,
            "align_self": null,
            "border": null,
            "bottom": null,
            "display": null,
            "flex": null,
            "flex_flow": null,
            "grid_area": null,
            "grid_auto_columns": null,
            "grid_auto_flow": null,
            "grid_auto_rows": null,
            "grid_column": null,
            "grid_gap": null,
            "grid_row": null,
            "grid_template_areas": null,
            "grid_template_columns": null,
            "grid_template_rows": null,
            "height": null,
            "justify_content": null,
            "justify_items": null,
            "left": null,
            "margin": null,
            "max_height": null,
            "max_width": null,
            "min_height": null,
            "min_width": null,
            "object_fit": null,
            "object_position": null,
            "order": null,
            "overflow": null,
            "overflow_x": null,
            "overflow_y": null,
            "padding": null,
            "right": null,
            "top": null,
            "visibility": null,
            "width": null
          }
        },
        "4c12b947224b4088aecfd4137072590a": {
          "model_module": "@jupyter-widgets/base",
          "model_name": "LayoutModel",
          "model_module_version": "1.2.0",
          "state": {
            "_model_module": "@jupyter-widgets/base",
            "_model_module_version": "1.2.0",
            "_model_name": "LayoutModel",
            "_view_count": null,
            "_view_module": "@jupyter-widgets/base",
            "_view_module_version": "1.2.0",
            "_view_name": "LayoutView",
            "align_content": null,
            "align_items": null,
            "align_self": null,
            "border": null,
            "bottom": null,
            "display": null,
            "flex": null,
            "flex_flow": null,
            "grid_area": null,
            "grid_auto_columns": null,
            "grid_auto_flow": null,
            "grid_auto_rows": null,
            "grid_column": null,
            "grid_gap": null,
            "grid_row": null,
            "grid_template_areas": null,
            "grid_template_columns": null,
            "grid_template_rows": null,
            "height": null,
            "justify_content": null,
            "justify_items": null,
            "left": null,
            "margin": null,
            "max_height": null,
            "max_width": null,
            "min_height": null,
            "min_width": null,
            "object_fit": null,
            "object_position": null,
            "order": null,
            "overflow": null,
            "overflow_x": null,
            "overflow_y": null,
            "padding": null,
            "right": null,
            "top": null,
            "visibility": null,
            "width": null
          }
        },
        "2ae4f6c515a44f1f96aef3c408d58c4b": {
          "model_module": "@jupyter-widgets/controls",
          "model_name": "DescriptionStyleModel",
          "model_module_version": "1.5.0",
          "state": {
            "_model_module": "@jupyter-widgets/controls",
            "_model_module_version": "1.5.0",
            "_model_name": "DescriptionStyleModel",
            "_view_count": null,
            "_view_module": "@jupyter-widgets/base",
            "_view_module_version": "1.2.0",
            "_view_name": "StyleView",
            "description_width": ""
          }
        },
        "b2b7b18625014b64a644c1e68e8a85d0": {
          "model_module": "@jupyter-widgets/base",
          "model_name": "LayoutModel",
          "model_module_version": "1.2.0",
          "state": {
            "_model_module": "@jupyter-widgets/base",
            "_model_module_version": "1.2.0",
            "_model_name": "LayoutModel",
            "_view_count": null,
            "_view_module": "@jupyter-widgets/base",
            "_view_module_version": "1.2.0",
            "_view_name": "LayoutView",
            "align_content": null,
            "align_items": null,
            "align_self": null,
            "border": null,
            "bottom": null,
            "display": null,
            "flex": null,
            "flex_flow": null,
            "grid_area": null,
            "grid_auto_columns": null,
            "grid_auto_flow": null,
            "grid_auto_rows": null,
            "grid_column": null,
            "grid_gap": null,
            "grid_row": null,
            "grid_template_areas": null,
            "grid_template_columns": null,
            "grid_template_rows": null,
            "height": null,
            "justify_content": null,
            "justify_items": null,
            "left": null,
            "margin": null,
            "max_height": null,
            "max_width": null,
            "min_height": null,
            "min_width": null,
            "object_fit": null,
            "object_position": null,
            "order": null,
            "overflow": null,
            "overflow_x": null,
            "overflow_y": null,
            "padding": null,
            "right": null,
            "top": null,
            "visibility": null,
            "width": null
          }
        },
        "a37d759c41084d67a76ef118dd6e8661": {
          "model_module": "@jupyter-widgets/controls",
          "model_name": "ProgressStyleModel",
          "model_module_version": "1.5.0",
          "state": {
            "_model_module": "@jupyter-widgets/controls",
            "_model_module_version": "1.5.0",
            "_model_name": "ProgressStyleModel",
            "_view_count": null,
            "_view_module": "@jupyter-widgets/base",
            "_view_module_version": "1.2.0",
            "_view_name": "StyleView",
            "bar_color": null,
            "description_width": ""
          }
        },
        "2e07f6dbf18742a4ad13ab859d6a0426": {
          "model_module": "@jupyter-widgets/base",
          "model_name": "LayoutModel",
          "model_module_version": "1.2.0",
          "state": {
            "_model_module": "@jupyter-widgets/base",
            "_model_module_version": "1.2.0",
            "_model_name": "LayoutModel",
            "_view_count": null,
            "_view_module": "@jupyter-widgets/base",
            "_view_module_version": "1.2.0",
            "_view_name": "LayoutView",
            "align_content": null,
            "align_items": null,
            "align_self": null,
            "border": null,
            "bottom": null,
            "display": null,
            "flex": null,
            "flex_flow": null,
            "grid_area": null,
            "grid_auto_columns": null,
            "grid_auto_flow": null,
            "grid_auto_rows": null,
            "grid_column": null,
            "grid_gap": null,
            "grid_row": null,
            "grid_template_areas": null,
            "grid_template_columns": null,
            "grid_template_rows": null,
            "height": null,
            "justify_content": null,
            "justify_items": null,
            "left": null,
            "margin": null,
            "max_height": null,
            "max_width": null,
            "min_height": null,
            "min_width": null,
            "object_fit": null,
            "object_position": null,
            "order": null,
            "overflow": null,
            "overflow_x": null,
            "overflow_y": null,
            "padding": null,
            "right": null,
            "top": null,
            "visibility": null,
            "width": null
          }
        },
        "0499edd02d314c3bae63697b0b900544": {
          "model_module": "@jupyter-widgets/controls",
          "model_name": "DescriptionStyleModel",
          "model_module_version": "1.5.0",
          "state": {
            "_model_module": "@jupyter-widgets/controls",
            "_model_module_version": "1.5.0",
            "_model_name": "DescriptionStyleModel",
            "_view_count": null,
            "_view_module": "@jupyter-widgets/base",
            "_view_module_version": "1.2.0",
            "_view_name": "StyleView",
            "description_width": ""
          }
        },
        "d7b816ee778e4ad79861bb6bd2dc530a": {
          "model_module": "@jupyter-widgets/controls",
          "model_name": "HBoxModel",
          "model_module_version": "1.5.0",
          "state": {
            "_dom_classes": [],
            "_model_module": "@jupyter-widgets/controls",
            "_model_module_version": "1.5.0",
            "_model_name": "HBoxModel",
            "_view_count": null,
            "_view_module": "@jupyter-widgets/controls",
            "_view_module_version": "1.5.0",
            "_view_name": "HBoxView",
            "box_style": "",
            "children": [
              "IPY_MODEL_90e8859d6c5d40fba242b7b6bda7cbee",
              "IPY_MODEL_81dabf0c690e4b06a1fbeb2a1326652e",
              "IPY_MODEL_d6ec5c2f0e2541e79a1d97f05e3d8ca2"
            ],
            "layout": "IPY_MODEL_448fdfedc10c4480869152e18b79cb7e"
          }
        },
        "90e8859d6c5d40fba242b7b6bda7cbee": {
          "model_module": "@jupyter-widgets/controls",
          "model_name": "HTMLModel",
          "model_module_version": "1.5.0",
          "state": {
            "_dom_classes": [],
            "_model_module": "@jupyter-widgets/controls",
            "_model_module_version": "1.5.0",
            "_model_name": "HTMLModel",
            "_view_count": null,
            "_view_module": "@jupyter-widgets/controls",
            "_view_module_version": "1.5.0",
            "_view_name": "HTMLView",
            "description": "",
            "description_tooltip": null,
            "layout": "IPY_MODEL_85728252177f4036bd0de4e54f2e8856",
            "placeholder": "​",
            "style": "IPY_MODEL_3553908d92164b579ec7ed2322de021e",
            "value": "Downloading: 100%"
          }
        },
        "81dabf0c690e4b06a1fbeb2a1326652e": {
          "model_module": "@jupyter-widgets/controls",
          "model_name": "FloatProgressModel",
          "model_module_version": "1.5.0",
          "state": {
            "_dom_classes": [],
            "_model_module": "@jupyter-widgets/controls",
            "_model_module_version": "1.5.0",
            "_model_name": "FloatProgressModel",
            "_view_count": null,
            "_view_module": "@jupyter-widgets/controls",
            "_view_module_version": "1.5.0",
            "_view_name": "ProgressView",
            "bar_style": "success",
            "description": "",
            "description_tooltip": null,
            "layout": "IPY_MODEL_c6c8552741a84f9681d8f65dae61efc9",
            "max": 456318,
            "min": 0,
            "orientation": "horizontal",
            "style": "IPY_MODEL_6a180bd3dd9445e780e1918cd080dbe2",
            "value": 456318
          }
        },
        "d6ec5c2f0e2541e79a1d97f05e3d8ca2": {
          "model_module": "@jupyter-widgets/controls",
          "model_name": "HTMLModel",
          "model_module_version": "1.5.0",
          "state": {
            "_dom_classes": [],
            "_model_module": "@jupyter-widgets/controls",
            "_model_module_version": "1.5.0",
            "_model_name": "HTMLModel",
            "_view_count": null,
            "_view_module": "@jupyter-widgets/controls",
            "_view_module_version": "1.5.0",
            "_view_name": "HTMLView",
            "description": "",
            "description_tooltip": null,
            "layout": "IPY_MODEL_0d190de09f8043368ee68150b73072d7",
            "placeholder": "​",
            "style": "IPY_MODEL_a7a437bf054a41848f64438446760ade",
            "value": " 456k/456k [00:00&lt;00:00, 1.56MB/s]"
          }
        },
        "448fdfedc10c4480869152e18b79cb7e": {
          "model_module": "@jupyter-widgets/base",
          "model_name": "LayoutModel",
          "model_module_version": "1.2.0",
          "state": {
            "_model_module": "@jupyter-widgets/base",
            "_model_module_version": "1.2.0",
            "_model_name": "LayoutModel",
            "_view_count": null,
            "_view_module": "@jupyter-widgets/base",
            "_view_module_version": "1.2.0",
            "_view_name": "LayoutView",
            "align_content": null,
            "align_items": null,
            "align_self": null,
            "border": null,
            "bottom": null,
            "display": null,
            "flex": null,
            "flex_flow": null,
            "grid_area": null,
            "grid_auto_columns": null,
            "grid_auto_flow": null,
            "grid_auto_rows": null,
            "grid_column": null,
            "grid_gap": null,
            "grid_row": null,
            "grid_template_areas": null,
            "grid_template_columns": null,
            "grid_template_rows": null,
            "height": null,
            "justify_content": null,
            "justify_items": null,
            "left": null,
            "margin": null,
            "max_height": null,
            "max_width": null,
            "min_height": null,
            "min_width": null,
            "object_fit": null,
            "object_position": null,
            "order": null,
            "overflow": null,
            "overflow_x": null,
            "overflow_y": null,
            "padding": null,
            "right": null,
            "top": null,
            "visibility": null,
            "width": null
          }
        },
        "85728252177f4036bd0de4e54f2e8856": {
          "model_module": "@jupyter-widgets/base",
          "model_name": "LayoutModel",
          "model_module_version": "1.2.0",
          "state": {
            "_model_module": "@jupyter-widgets/base",
            "_model_module_version": "1.2.0",
            "_model_name": "LayoutModel",
            "_view_count": null,
            "_view_module": "@jupyter-widgets/base",
            "_view_module_version": "1.2.0",
            "_view_name": "LayoutView",
            "align_content": null,
            "align_items": null,
            "align_self": null,
            "border": null,
            "bottom": null,
            "display": null,
            "flex": null,
            "flex_flow": null,
            "grid_area": null,
            "grid_auto_columns": null,
            "grid_auto_flow": null,
            "grid_auto_rows": null,
            "grid_column": null,
            "grid_gap": null,
            "grid_row": null,
            "grid_template_areas": null,
            "grid_template_columns": null,
            "grid_template_rows": null,
            "height": null,
            "justify_content": null,
            "justify_items": null,
            "left": null,
            "margin": null,
            "max_height": null,
            "max_width": null,
            "min_height": null,
            "min_width": null,
            "object_fit": null,
            "object_position": null,
            "order": null,
            "overflow": null,
            "overflow_x": null,
            "overflow_y": null,
            "padding": null,
            "right": null,
            "top": null,
            "visibility": null,
            "width": null
          }
        },
        "3553908d92164b579ec7ed2322de021e": {
          "model_module": "@jupyter-widgets/controls",
          "model_name": "DescriptionStyleModel",
          "model_module_version": "1.5.0",
          "state": {
            "_model_module": "@jupyter-widgets/controls",
            "_model_module_version": "1.5.0",
            "_model_name": "DescriptionStyleModel",
            "_view_count": null,
            "_view_module": "@jupyter-widgets/base",
            "_view_module_version": "1.2.0",
            "_view_name": "StyleView",
            "description_width": ""
          }
        },
        "c6c8552741a84f9681d8f65dae61efc9": {
          "model_module": "@jupyter-widgets/base",
          "model_name": "LayoutModel",
          "model_module_version": "1.2.0",
          "state": {
            "_model_module": "@jupyter-widgets/base",
            "_model_module_version": "1.2.0",
            "_model_name": "LayoutModel",
            "_view_count": null,
            "_view_module": "@jupyter-widgets/base",
            "_view_module_version": "1.2.0",
            "_view_name": "LayoutView",
            "align_content": null,
            "align_items": null,
            "align_self": null,
            "border": null,
            "bottom": null,
            "display": null,
            "flex": null,
            "flex_flow": null,
            "grid_area": null,
            "grid_auto_columns": null,
            "grid_auto_flow": null,
            "grid_auto_rows": null,
            "grid_column": null,
            "grid_gap": null,
            "grid_row": null,
            "grid_template_areas": null,
            "grid_template_columns": null,
            "grid_template_rows": null,
            "height": null,
            "justify_content": null,
            "justify_items": null,
            "left": null,
            "margin": null,
            "max_height": null,
            "max_width": null,
            "min_height": null,
            "min_width": null,
            "object_fit": null,
            "object_position": null,
            "order": null,
            "overflow": null,
            "overflow_x": null,
            "overflow_y": null,
            "padding": null,
            "right": null,
            "top": null,
            "visibility": null,
            "width": null
          }
        },
        "6a180bd3dd9445e780e1918cd080dbe2": {
          "model_module": "@jupyter-widgets/controls",
          "model_name": "ProgressStyleModel",
          "model_module_version": "1.5.0",
          "state": {
            "_model_module": "@jupyter-widgets/controls",
            "_model_module_version": "1.5.0",
            "_model_name": "ProgressStyleModel",
            "_view_count": null,
            "_view_module": "@jupyter-widgets/base",
            "_view_module_version": "1.2.0",
            "_view_name": "StyleView",
            "bar_color": null,
            "description_width": ""
          }
        },
        "0d190de09f8043368ee68150b73072d7": {
          "model_module": "@jupyter-widgets/base",
          "model_name": "LayoutModel",
          "model_module_version": "1.2.0",
          "state": {
            "_model_module": "@jupyter-widgets/base",
            "_model_module_version": "1.2.0",
            "_model_name": "LayoutModel",
            "_view_count": null,
            "_view_module": "@jupyter-widgets/base",
            "_view_module_version": "1.2.0",
            "_view_name": "LayoutView",
            "align_content": null,
            "align_items": null,
            "align_self": null,
            "border": null,
            "bottom": null,
            "display": null,
            "flex": null,
            "flex_flow": null,
            "grid_area": null,
            "grid_auto_columns": null,
            "grid_auto_flow": null,
            "grid_auto_rows": null,
            "grid_column": null,
            "grid_gap": null,
            "grid_row": null,
            "grid_template_areas": null,
            "grid_template_columns": null,
            "grid_template_rows": null,
            "height": null,
            "justify_content": null,
            "justify_items": null,
            "left": null,
            "margin": null,
            "max_height": null,
            "max_width": null,
            "min_height": null,
            "min_width": null,
            "object_fit": null,
            "object_position": null,
            "order": null,
            "overflow": null,
            "overflow_x": null,
            "overflow_y": null,
            "padding": null,
            "right": null,
            "top": null,
            "visibility": null,
            "width": null
          }
        },
        "a7a437bf054a41848f64438446760ade": {
          "model_module": "@jupyter-widgets/controls",
          "model_name": "DescriptionStyleModel",
          "model_module_version": "1.5.0",
          "state": {
            "_model_module": "@jupyter-widgets/controls",
            "_model_module_version": "1.5.0",
            "_model_name": "DescriptionStyleModel",
            "_view_count": null,
            "_view_module": "@jupyter-widgets/base",
            "_view_module_version": "1.2.0",
            "_view_name": "StyleView",
            "description_width": ""
          }
        },
        "779e9a57f08949efa23abcc10e503212": {
          "model_module": "@jupyter-widgets/controls",
          "model_name": "HBoxModel",
          "model_module_version": "1.5.0",
          "state": {
            "_dom_classes": [],
            "_model_module": "@jupyter-widgets/controls",
            "_model_module_version": "1.5.0",
            "_model_name": "HBoxModel",
            "_view_count": null,
            "_view_module": "@jupyter-widgets/controls",
            "_view_module_version": "1.5.0",
            "_view_name": "HBoxView",
            "box_style": "",
            "children": [
              "IPY_MODEL_c793de5c8be84c05b00c9275ae1f97a4",
              "IPY_MODEL_db88bc65d4c14d5987ee119096509cef",
              "IPY_MODEL_256dd1e0069f44349277e4a023d595df"
            ],
            "layout": "IPY_MODEL_071c064092344fb0ad67c20329eb78a6"
          }
        },
        "c793de5c8be84c05b00c9275ae1f97a4": {
          "model_module": "@jupyter-widgets/controls",
          "model_name": "HTMLModel",
          "model_module_version": "1.5.0",
          "state": {
            "_dom_classes": [],
            "_model_module": "@jupyter-widgets/controls",
            "_model_module_version": "1.5.0",
            "_model_name": "HTMLModel",
            "_view_count": null,
            "_view_module": "@jupyter-widgets/controls",
            "_view_module_version": "1.5.0",
            "_view_name": "HTMLView",
            "description": "",
            "description_tooltip": null,
            "layout": "IPY_MODEL_b81cf192d1884ffcb69758c4d8f09fe0",
            "placeholder": "​",
            "style": "IPY_MODEL_55f576d7a02747d3b872f5507d229aff",
            "value": "Downloading: 100%"
          }
        },
        "db88bc65d4c14d5987ee119096509cef": {
          "model_module": "@jupyter-widgets/controls",
          "model_name": "FloatProgressModel",
          "model_module_version": "1.5.0",
          "state": {
            "_dom_classes": [],
            "_model_module": "@jupyter-widgets/controls",
            "_model_module_version": "1.5.0",
            "_model_name": "FloatProgressModel",
            "_view_count": null,
            "_view_module": "@jupyter-widgets/controls",
            "_view_module_version": "1.5.0",
            "_view_name": "ProgressView",
            "bar_style": "success",
            "description": "",
            "description_tooltip": null,
            "layout": "IPY_MODEL_6229c05bd8b44f2690c99d7fbeb44bfd",
            "max": 1355256,
            "min": 0,
            "orientation": "horizontal",
            "style": "IPY_MODEL_1aaace0a86eb436ebc36203f92a1a85c",
            "value": 1355256
          }
        },
        "256dd1e0069f44349277e4a023d595df": {
          "model_module": "@jupyter-widgets/controls",
          "model_name": "HTMLModel",
          "model_module_version": "1.5.0",
          "state": {
            "_dom_classes": [],
            "_model_module": "@jupyter-widgets/controls",
            "_model_module_version": "1.5.0",
            "_model_name": "HTMLModel",
            "_view_count": null,
            "_view_module": "@jupyter-widgets/controls",
            "_view_module_version": "1.5.0",
            "_view_name": "HTMLView",
            "description": "",
            "description_tooltip": null,
            "layout": "IPY_MODEL_1e10dec2ee6c458e90e620dc725ed7b6",
            "placeholder": "​",
            "style": "IPY_MODEL_e4d0e2eb284d409eab96388bba1c7c7f",
            "value": " 1.36M/1.36M [00:00&lt;00:00, 2.05MB/s]"
          }
        },
        "071c064092344fb0ad67c20329eb78a6": {
          "model_module": "@jupyter-widgets/base",
          "model_name": "LayoutModel",
          "model_module_version": "1.2.0",
          "state": {
            "_model_module": "@jupyter-widgets/base",
            "_model_module_version": "1.2.0",
            "_model_name": "LayoutModel",
            "_view_count": null,
            "_view_module": "@jupyter-widgets/base",
            "_view_module_version": "1.2.0",
            "_view_name": "LayoutView",
            "align_content": null,
            "align_items": null,
            "align_self": null,
            "border": null,
            "bottom": null,
            "display": null,
            "flex": null,
            "flex_flow": null,
            "grid_area": null,
            "grid_auto_columns": null,
            "grid_auto_flow": null,
            "grid_auto_rows": null,
            "grid_column": null,
            "grid_gap": null,
            "grid_row": null,
            "grid_template_areas": null,
            "grid_template_columns": null,
            "grid_template_rows": null,
            "height": null,
            "justify_content": null,
            "justify_items": null,
            "left": null,
            "margin": null,
            "max_height": null,
            "max_width": null,
            "min_height": null,
            "min_width": null,
            "object_fit": null,
            "object_position": null,
            "order": null,
            "overflow": null,
            "overflow_x": null,
            "overflow_y": null,
            "padding": null,
            "right": null,
            "top": null,
            "visibility": null,
            "width": null
          }
        },
        "b81cf192d1884ffcb69758c4d8f09fe0": {
          "model_module": "@jupyter-widgets/base",
          "model_name": "LayoutModel",
          "model_module_version": "1.2.0",
          "state": {
            "_model_module": "@jupyter-widgets/base",
            "_model_module_version": "1.2.0",
            "_model_name": "LayoutModel",
            "_view_count": null,
            "_view_module": "@jupyter-widgets/base",
            "_view_module_version": "1.2.0",
            "_view_name": "LayoutView",
            "align_content": null,
            "align_items": null,
            "align_self": null,
            "border": null,
            "bottom": null,
            "display": null,
            "flex": null,
            "flex_flow": null,
            "grid_area": null,
            "grid_auto_columns": null,
            "grid_auto_flow": null,
            "grid_auto_rows": null,
            "grid_column": null,
            "grid_gap": null,
            "grid_row": null,
            "grid_template_areas": null,
            "grid_template_columns": null,
            "grid_template_rows": null,
            "height": null,
            "justify_content": null,
            "justify_items": null,
            "left": null,
            "margin": null,
            "max_height": null,
            "max_width": null,
            "min_height": null,
            "min_width": null,
            "object_fit": null,
            "object_position": null,
            "order": null,
            "overflow": null,
            "overflow_x": null,
            "overflow_y": null,
            "padding": null,
            "right": null,
            "top": null,
            "visibility": null,
            "width": null
          }
        },
        "55f576d7a02747d3b872f5507d229aff": {
          "model_module": "@jupyter-widgets/controls",
          "model_name": "DescriptionStyleModel",
          "model_module_version": "1.5.0",
          "state": {
            "_model_module": "@jupyter-widgets/controls",
            "_model_module_version": "1.5.0",
            "_model_name": "DescriptionStyleModel",
            "_view_count": null,
            "_view_module": "@jupyter-widgets/base",
            "_view_module_version": "1.2.0",
            "_view_name": "StyleView",
            "description_width": ""
          }
        },
        "6229c05bd8b44f2690c99d7fbeb44bfd": {
          "model_module": "@jupyter-widgets/base",
          "model_name": "LayoutModel",
          "model_module_version": "1.2.0",
          "state": {
            "_model_module": "@jupyter-widgets/base",
            "_model_module_version": "1.2.0",
            "_model_name": "LayoutModel",
            "_view_count": null,
            "_view_module": "@jupyter-widgets/base",
            "_view_module_version": "1.2.0",
            "_view_name": "LayoutView",
            "align_content": null,
            "align_items": null,
            "align_self": null,
            "border": null,
            "bottom": null,
            "display": null,
            "flex": null,
            "flex_flow": null,
            "grid_area": null,
            "grid_auto_columns": null,
            "grid_auto_flow": null,
            "grid_auto_rows": null,
            "grid_column": null,
            "grid_gap": null,
            "grid_row": null,
            "grid_template_areas": null,
            "grid_template_columns": null,
            "grid_template_rows": null,
            "height": null,
            "justify_content": null,
            "justify_items": null,
            "left": null,
            "margin": null,
            "max_height": null,
            "max_width": null,
            "min_height": null,
            "min_width": null,
            "object_fit": null,
            "object_position": null,
            "order": null,
            "overflow": null,
            "overflow_x": null,
            "overflow_y": null,
            "padding": null,
            "right": null,
            "top": null,
            "visibility": null,
            "width": null
          }
        },
        "1aaace0a86eb436ebc36203f92a1a85c": {
          "model_module": "@jupyter-widgets/controls",
          "model_name": "ProgressStyleModel",
          "model_module_version": "1.5.0",
          "state": {
            "_model_module": "@jupyter-widgets/controls",
            "_model_module_version": "1.5.0",
            "_model_name": "ProgressStyleModel",
            "_view_count": null,
            "_view_module": "@jupyter-widgets/base",
            "_view_module_version": "1.2.0",
            "_view_name": "StyleView",
            "bar_color": null,
            "description_width": ""
          }
        },
        "1e10dec2ee6c458e90e620dc725ed7b6": {
          "model_module": "@jupyter-widgets/base",
          "model_name": "LayoutModel",
          "model_module_version": "1.2.0",
          "state": {
            "_model_module": "@jupyter-widgets/base",
            "_model_module_version": "1.2.0",
            "_model_name": "LayoutModel",
            "_view_count": null,
            "_view_module": "@jupyter-widgets/base",
            "_view_module_version": "1.2.0",
            "_view_name": "LayoutView",
            "align_content": null,
            "align_items": null,
            "align_self": null,
            "border": null,
            "bottom": null,
            "display": null,
            "flex": null,
            "flex_flow": null,
            "grid_area": null,
            "grid_auto_columns": null,
            "grid_auto_flow": null,
            "grid_auto_rows": null,
            "grid_column": null,
            "grid_gap": null,
            "grid_row": null,
            "grid_template_areas": null,
            "grid_template_columns": null,
            "grid_template_rows": null,
            "height": null,
            "justify_content": null,
            "justify_items": null,
            "left": null,
            "margin": null,
            "max_height": null,
            "max_width": null,
            "min_height": null,
            "min_width": null,
            "object_fit": null,
            "object_position": null,
            "order": null,
            "overflow": null,
            "overflow_x": null,
            "overflow_y": null,
            "padding": null,
            "right": null,
            "top": null,
            "visibility": null,
            "width": null
          }
        },
        "e4d0e2eb284d409eab96388bba1c7c7f": {
          "model_module": "@jupyter-widgets/controls",
          "model_name": "DescriptionStyleModel",
          "model_module_version": "1.5.0",
          "state": {
            "_model_module": "@jupyter-widgets/controls",
            "_model_module_version": "1.5.0",
            "_model_name": "DescriptionStyleModel",
            "_view_count": null,
            "_view_module": "@jupyter-widgets/base",
            "_view_module_version": "1.2.0",
            "_view_name": "StyleView",
            "description_width": ""
          }
        }
      }
    }
  },
  "cells": [
    {
      "cell_type": "markdown",
      "metadata": {
        "id": "view-in-github",
        "colab_type": "text"
      },
      "source": [
        "<a href=\"https://colab.research.google.com/github/Leo-2017/DL101/blob/main/Pattern%20Player.ipynb\" target=\"_parent\"><img src=\"https://colab.research.google.com/assets/colab-badge.svg\" alt=\"Open In Colab\"/></a>"
      ]
    },
    {
      "cell_type": "markdown",
      "metadata": {
        "id": "7j04QL-TPJy1"
      },
      "source": [
        "# Pattern Player 🎹"
      ]
    },
    {
      "cell_type": "markdown",
      "source": [
        "## **1. Introduction**"
      ],
      "metadata": {
        "id": "mHvkbz5e85md"
      }
    },
    {
      "cell_type": "markdown",
      "source": [
        "## a. What business problem are you solving?\n",
        "\n",
        "A simple tool for non-design professionals to design wallpaper for their homes by themselves."
      ],
      "metadata": {
        "id": "lb8S7bqY3na3"
      }
    },
    {
      "cell_type": "markdown",
      "source": [
        "## b. How can AI/ML technology help to solve that?\n",
        "\n",
        "The AI/ML technology can help to slove it by using the GPT-2 model (pretrained on a dataset of 8 million web pages) as a foundation, and using dataset from Gutenberg Project to fine-tune the model using Text Generation to make it more applicable for the use case."
      ],
      "metadata": {
        "id": "vF6Jt_Re4Vzj"
      }
    },
    {
      "cell_type": "markdown",
      "metadata": {
        "id": "f0joGgV0POOt"
      },
      "source": [
        "## c. What is your AI project's objective?\n",
        "\n",
        "The objective is to build a language model as a pattern design generator that helps user to predict the probability of what kind of wallpaper user would like to have."
      ]
    },
    {
      "cell_type": "markdown",
      "source": [
        "## d. Who are the users of your AI application and how will they interact with it? \n",
        "\n",
        "The user of the AI application will be the non-design professionals who have a needs in design & decorating the wallpaper at their e.g. homes by themselves; \n",
        "<br>\n",
        "<br>\n",
        "User can simply input the **keywords** or **short description** such as **\"How to decorate the wall in living room with Botanical pattern in william morris style?\"** The application will predict the output as a suggestion based on the dataset;"
      ],
      "metadata": {
        "id": "K1swq9pu4gPk"
      }
    },
    {
      "cell_type": "markdown",
      "source": [
        "## **2. Benchmark Study**"
      ],
      "metadata": {
        "id": "0oEKZdvo90SL"
      }
    },
    {
      "cell_type": "markdown",
      "source": [
        "**Similar existing AI solutions** <br>\n",
        "\n",
        "Below are the pattern generator I found online; for most of them the way how it works is to: <br>\n",
        "A. require user to upload an asset (image/illustration, etc.), the application will generator a pattern based on it; or <br>\n",
        "B. Let user pre-select the pattern from their dataset and then upload their homeliving photo to see the model; \n",
        "\n",
        "**Picsart** <br>\n",
        "https://picsart.com/pattern-generator <br>\n",
        "\n",
        "**Patternico** <br>\n",
        "https://patternico.com/\n",
        "\n",
        "**Wowpatterns** <br>\n",
        "https://www.wowpatterns.com/pattern-generator\n",
        "\n",
        "**Laurentvw** <br>\n",
        "https://www.laurentvw.com/tools/seamless-pattern-generator/\n",
        "\n",
        "**Designhill** <br>\n",
        "https://www.designhill.com/tools/wallpaper-maker\n",
        "\n",
        "**Patterncooler** <br>\n",
        "https://www.patterncooler.com/\n",
        "\n",
        "**Astreetprints** <br>\n",
        "https://www.astreetprints.com/room-previewer\n",
        "\n",
        "---\n",
        "All the applications I could find above is not exactly what I'm looking for; <br>\n",
        "Below is the usecase which is very similar with what I would like to build for my model:\n",
        "\n",
        "**Delle-mini** <br> \n",
        "https://huggingface.co/spaces/dalle-mini/dalle-mini <br>\n",
        "https://www.craiyon.com/ <br>\n",
        "<img src=\"https://drive.google.com/file/d/1Sy2Zzs8vZOjtu3WeWhsC7B-V5r6cHm4V/view?usp=sharing\" alt=\"dallemini\" width=\"300\"/> <br>\n",
        "**Imagen** <br>\n",
        "https://imagen.research.google/ <br>\n",
        "\n",
        "---\n",
        "Due to the limited time and my limited knowledges for the MVP I will only build a text generator;"
      ],
      "metadata": {
        "id": "Q-tCbRD5-V9j"
      }
    },
    {
      "cell_type": "markdown",
      "source": [
        "# **3. Data**"
      ],
      "metadata": {
        "id": "BSuva5jzIbIL"
      }
    },
    {
      "cell_type": "markdown",
      "metadata": {
        "id": "lJvIFM7zjGnj"
      },
      "source": [
        "## a. Libraries & Dependencies needed"
      ]
    },
    {
      "cell_type": "code",
      "metadata": {
        "colab": {
          "base_uri": "https://localhost:8080/"
        },
        "id": "azcl-ikfOQJR",
        "outputId": "f958977c-4e8a-4555-b0a2-588da23406ce"
      },
      "source": [
        "!pip install -Uqq unpackai\n",
        "# !pip install -q git+https://github.com/unpackai/unpackai\n",
        "!pip install -Uqq transformers==4.10.2\n",
        "!pip install -q datasets transformers[sentencepiece]"
      ],
      "execution_count": 2,
      "outputs": [
        {
          "output_type": "stream",
          "name": "stdout",
          "text": [
            "\u001b[K     |████████████████████████████████| 73 kB 2.0 MB/s \n",
            "\u001b[K     |████████████████████████████████| 42 kB 1.1 MB/s \n",
            "\u001b[K     |████████████████████████████████| 976 kB 26.2 MB/s \n",
            "\u001b[K     |████████████████████████████████| 2.8 MB 5.3 MB/s \n",
            "\u001b[K     |████████████████████████████████| 3.3 MB 37.3 MB/s \n",
            "\u001b[K     |████████████████████████████████| 880 kB 58.1 MB/s \n",
            "\u001b[K     |████████████████████████████████| 596 kB 54.2 MB/s \n",
            "\u001b[K     |████████████████████████████████| 101 kB 12.2 MB/s \n",
            "\u001b[?25h  Building wheel for sacremoses (setup.py) ... \u001b[?25l\u001b[?25hdone\n",
            "\u001b[K     |████████████████████████████████| 362 kB 5.2 MB/s \n",
            "\u001b[K     |████████████████████████████████| 212 kB 55.9 MB/s \n",
            "\u001b[K     |████████████████████████████████| 1.1 MB 57.4 MB/s \n",
            "\u001b[K     |████████████████████████████████| 140 kB 58.8 MB/s \n",
            "\u001b[K     |████████████████████████████████| 127 kB 77.3 MB/s \n",
            "\u001b[K     |████████████████████████████████| 94 kB 3.7 MB/s \n",
            "\u001b[K     |████████████████████████████████| 271 kB 75.6 MB/s \n",
            "\u001b[K     |████████████████████████████████| 144 kB 73.2 MB/s \n",
            "\u001b[K     |████████████████████████████████| 1.1 MB 52.0 MB/s \n",
            "\u001b[31mERROR: pip's dependency resolver does not currently take into account all the packages that are installed. This behaviour is the source of the following dependency conflicts.\n",
            "datascience 0.10.6 requires folium==0.2.1, but you have folium 0.8.3 which is incompatible.\u001b[0m\n",
            "\u001b[?25h"
          ]
        }
      ]
    },
    {
      "cell_type": "code",
      "metadata": {
        "id": "ynOZVJ0HfD2Q"
      },
      "source": [
        "import torch\n",
        "import numpy as np\n",
        "from transformers import (\n",
        "    AutoTokenizer,\n",
        "    AutoModel,\n",
        "    pipeline,\n",
        "    set_seed,\n",
        "    Trainer,\n",
        "    TextDataset,\n",
        "    DataCollatorForLanguageModeling,\n",
        "    TrainingArguments,\n",
        "    AutoModelForSequenceClassification,\n",
        ")\n",
        "from unpackai.nlp import Textual, InterpEmbeddingsTokenizer\n",
        "from ipywidgets import interact\n",
        "import logging\n",
        "from fastai import *"
      ],
      "execution_count": 3,
      "outputs": []
    },
    {
      "cell_type": "markdown",
      "metadata": {
        "id": "QUbu_n7fiITe"
      },
      "source": [
        "## 2. Build an Language Model"
      ]
    },
    {
      "cell_type": "markdown",
      "metadata": {
        "id": "X1PTaXRGQKxS"
      },
      "source": [
        "### a. What's your data? Is it relevant to AI project you are intending to build? Is it inclusive, complete and unbiased?"
      ]
    },
    {
      "cell_type": "markdown",
      "metadata": {
        "id": "ZDEouac7xN1v"
      },
      "source": [
        "\n",
        "#### The dataset I'm using for this model training is collected from [Gutenberg Project](https://gutenberg.org/); a source which is a collection of over 60,000 free eBooks.\n",
        "**Dataset:** \n",
        "<br>\n",
        "1. [Arts and Crafts Essays by members of Arts and Crafts Exhibition Society](https://gutenberg.org/ebooks/36250) Subject: Decorative arts <br>\n",
        "2. [Principles of Decorative Design by Christopher Dresser](https://gutenberg.org/ebooks/39749) Subject: Decorative arts Decoration and ornament -- Victorian style<br>\n",
        "3. [The Botanical Magazine, Vol. 02 by William Curtis](https://gutenberg.org/ebooks/17531) Subject: Plants, Cultivated/Ornamental/ Botanical illustration/Periodicals <br>\n",
        "4. [The Principles of Ornament by James Ward](https://gutenberg.org/ebooks/60034) Subject: Decoration and ornament <br>\n",
        "5. [The Botanical Magazine, Vol. 08 by William Curtis](https://gutenberg.org/ebooks/24670) Subject: Plants, Cultivated/Ornamental/ Botanical illustration/Periodicals\n",
        "6. [Evolution in Art: As Illustrated by the Life-histories of Designs by Haddon](https://gutenberg.org/ebooks/46079) Subject: Decoration and ornament, Primitive <br>\n",
        "7. [Hardy Ornamental Flowering Trees and Shrubs by Angus D. Webster](https://gutenberg.org/ebooks/10852) Subject: Flowering shrubs <br>\n",
        "8. [Origin and Development of Form and Ornament in Ceramic Art. by William Henry Holmes](https://gutenberg.org/ebooks/19953) Subject: \tDecoration and ornament -- History, Indian art -- North America <br>\n",
        "9.  [Talks About Flowers. by Mrs. M. D. Wellcome](https://gutenberg.org/ebooks/40534) Subject: Flowers <br>\n",
        "10.  [Historic Ornament, Vol. 1 (of 2) by James Ward](https://gutenberg.org/ebooks/59746) Subject: Decorative arts -- History<br>\n",
        "11.  [Historic Ornament, Vol. 2 (of 2) by James Ward](https://gutenberg.org/ebooks/59971) Subject: Decorative arts -- History<br>\n",
        "---\n",
        "\n",
        "#### Most of the books collected are relevant to AI project I'm intending to build; As if it's inclusive, complete and unbiased, I cannot genature as many books I've found online are not Free of use; Therefore I have included all the books/dataset I could find from  Gutenberg;"
      ]
    },
    {
      "cell_type": "markdown",
      "metadata": {
        "id": "U5QZmieCYbZ2"
      },
      "source": [
        "### b. Collect and construct your dataset\n",
        "\n",
        "In order to collect and design my dataset I'm using `Textual` scraping tool below."
      ]
    },
    {
      "cell_type": "markdown",
      "metadata": {
        "id": "T5Uma7pnjrm5"
      },
      "source": [
        "**Collect text from an URL.**\n",
        "\n",
        "\n",
        "Below are all the URL I've collected from [Gutenberg Project] https://gutenberg.org/; a source which is a collection of over 60,000 free eBooks. \n"
      ]
    },
    {
      "cell_type": "code",
      "metadata": {
        "id": "zCWwVhIAjjBK",
        "colab": {
          "base_uri": "https://localhost:8080/"
        },
        "outputId": "cf6e2ad9-c453-4dcc-d687-4e3808f56801"
      },
      "source": [
        "ArtsandCraftsEssays = Textual.from_url(\"https://gutenberg.org/cache/epub/36250/pg36250.txt\")\n",
        "ArtsandCraftsEssays"
      ],
      "execution_count": 7,
      "outputs": [
        {
          "output_type": "execute_result",
          "data": {
            "text/plain": [
              "Text (393777 chars), textual(),\n",
              "    train_path, val_path = textual.create_train_val()"
            ]
          },
          "metadata": {},
          "execution_count": 7
        }
      ]
    },
    {
      "cell_type": "code",
      "source": [
        "PrinciplesofDecorativeDesignbyChristopherDresser = Textual.from_url(\"https://gutenberg.org/cache/epub/39749/pg39749.txt\")\n",
        "PrinciplesofDecorativeDesignbyChristopherDresser"
      ],
      "metadata": {
        "id": "kCmdqDOKT7cs",
        "outputId": "60205284-1e2a-4c75-e42b-0da4f4a6582b",
        "colab": {
          "base_uri": "https://localhost:8080/"
        }
      },
      "execution_count": 8,
      "outputs": [
        {
          "output_type": "execute_result",
          "data": {
            "text/plain": [
              "Text (414489 chars), textual(),\n",
              "    train_path, val_path = textual.create_train_val()"
            ]
          },
          "metadata": {},
          "execution_count": 8
        }
      ]
    },
    {
      "cell_type": "code",
      "source": [
        "TheBotanicalMagazineVol02byWilliamCurtis = Textual.from_url(\"https://gutenberg.org/cache/epub/17531/pg17531.txt\")\n",
        "TheBotanicalMagazineVol02byWilliamCurtis"
      ],
      "metadata": {
        "id": "DVd2OsqmUng9",
        "outputId": "bad366bb-7008-4993-a66c-d3ee9bdcb7e3",
        "colab": {
          "base_uri": "https://localhost:8080/"
        }
      },
      "execution_count": 9,
      "outputs": [
        {
          "output_type": "execute_result",
          "data": {
            "text/plain": [
              "Text (80332 chars), textual(),\n",
              "    train_path, val_path = textual.create_train_val()"
            ]
          },
          "metadata": {},
          "execution_count": 9
        }
      ]
    },
    {
      "cell_type": "code",
      "source": [
        "ThePrinciplesofOrnamentbyJamesWard = Textual.from_url(\"https://gutenberg.org/files/60034/60034-0.txt\")\n",
        "ThePrinciplesofOrnamentbyJamesWard"
      ],
      "metadata": {
        "id": "XmRXdGqSU80z",
        "outputId": "d2c95473-6850-4e4e-eabe-d628dc80c21b",
        "colab": {
          "base_uri": "https://localhost:8080/"
        }
      },
      "execution_count": 10,
      "outputs": [
        {
          "output_type": "execute_result",
          "data": {
            "text/plain": [
              "Text (234063 chars), textual(),\n",
              "    train_path, val_path = textual.create_train_val()"
            ]
          },
          "metadata": {},
          "execution_count": 10
        }
      ]
    },
    {
      "cell_type": "code",
      "source": [
        "TheBotanicalMagazineVol08byWilliamCurtis = Textual.from_url(\"https://gutenberg.org/cache/epub/24670/pg24670.txt\")\n",
        "TheBotanicalMagazineVol08byWilliamCurtis"
      ],
      "metadata": {
        "colab": {
          "base_uri": "https://localhost:8080/"
        },
        "id": "PF4WOcUxGYbV",
        "outputId": "5ea07ff9-0650-4cc1-d4c2-e3ea9f16dc50"
      },
      "execution_count": 11,
      "outputs": [
        {
          "output_type": "execute_result",
          "data": {
            "text/plain": [
              "Text (103125 chars), textual(),\n",
              "    train_path, val_path = textual.create_train_val()"
            ]
          },
          "metadata": {},
          "execution_count": 11
        }
      ]
    },
    {
      "cell_type": "code",
      "source": [
        "EvolutionInArt = Textual.from_url(\"https://gutenberg.org/files/46079/46079-0.txt\")\n",
        "EvolutionInArt"
      ],
      "metadata": {
        "colab": {
          "base_uri": "https://localhost:8080/"
        },
        "id": "OXJy56sXGd5E",
        "outputId": "3f8ebfcd-1c97-4d54-a998-ed906f1675ce"
      },
      "execution_count": 22,
      "outputs": [
        {
          "output_type": "execute_result",
          "data": {
            "text/plain": [
              "Text (667372 chars), textual(),\n",
              "    train_path, val_path = textual.create_train_val()"
            ]
          },
          "metadata": {},
          "execution_count": 22
        }
      ]
    },
    {
      "cell_type": "code",
      "source": [
        "HardyOrnamentalFloweringTreesandShrubsbyAngusDWebster = Textual.from_url(\"https://gutenberg.org/cache/epub/10852/pg10852.txt\")\n",
        "HardyOrnamentalFloweringTreesandShrubsbyAngusDWebster"
      ],
      "metadata": {
        "colab": {
          "base_uri": "https://localhost:8080/"
        },
        "id": "6DaoK_CkGdkG",
        "outputId": "e059e119-c884-4908-fcb1-e692bf681105"
      },
      "execution_count": 13,
      "outputs": [
        {
          "output_type": "execute_result",
          "data": {
            "text/plain": [
              "Text (370515 chars), textual(),\n",
              "    train_path, val_path = textual.create_train_val()"
            ]
          },
          "metadata": {},
          "execution_count": 13
        }
      ]
    },
    {
      "cell_type": "code",
      "source": [
        "OriginandDevelopmentofFormandOrnamentinCeramicArtbyWilliamHenryHolmes = Textual.from_url(\"https://gutenberg.org/cache/epub/19953/pg19953.txt\")\n",
        "OriginandDevelopmentofFormandOrnamentinCeramicArtbyWilliamHenryHolmes"
      ],
      "metadata": {
        "colab": {
          "base_uri": "https://localhost:8080/"
        },
        "id": "ki9alJS4GdFJ",
        "outputId": "c2a415ff-161c-401f-b1ec-981016058b80"
      },
      "execution_count": 14,
      "outputs": [
        {
          "output_type": "execute_result",
          "data": {
            "text/plain": [
              "Text (72466 chars), textual(),\n",
              "    train_path, val_path = textual.create_train_val()"
            ]
          },
          "metadata": {},
          "execution_count": 14
        }
      ]
    },
    {
      "cell_type": "code",
      "source": [
        "TalksAboutFlowersbyMrsMDWellcome = Textual.from_url(\"https://gutenberg.org/cache/epub/40534/pg40534.txt\")\n",
        "TalksAboutFlowersbyMrsMDWellcome"
      ],
      "metadata": {
        "id": "gZf2GZXBI-BH",
        "colab": {
          "base_uri": "https://localhost:8080/"
        },
        "outputId": "6eacccaa-b79b-4bf5-ce3a-d3dcd3e1522d"
      },
      "execution_count": 15,
      "outputs": [
        {
          "output_type": "execute_result",
          "data": {
            "text/plain": [
              "Text (305686 chars), textual(),\n",
              "    train_path, val_path = textual.create_train_val()"
            ]
          },
          "metadata": {},
          "execution_count": 15
        }
      ]
    },
    {
      "cell_type": "code",
      "source": [
        "HistoricOrnamentVol1of2byJamesWard = Textual.from_url(\"https://gutenberg.org/files/59746/59746-0.txt\")\n",
        "HistoricOrnamentVol1of2byJamesWard"
      ],
      "metadata": {
        "id": "ot_kJFvHLRnK",
        "colab": {
          "base_uri": "https://localhost:8080/"
        },
        "outputId": "4f97a206-b44d-4fe1-a3d4-2fa62993ae81"
      },
      "execution_count": 16,
      "outputs": [
        {
          "output_type": "execute_result",
          "data": {
            "text/plain": [
              "Text (439720 chars), textual(),\n",
              "    train_path, val_path = textual.create_train_val()"
            ]
          },
          "metadata": {},
          "execution_count": 16
        }
      ]
    },
    {
      "cell_type": "code",
      "source": [
        "HistoricOrnamentVol2of2byJamesWard = Textual.from_url(\"https://gutenberg.org/files/59971/59971-0.txt\")\n",
        "HistoricOrnamentVol2of2byJamesWard"
      ],
      "metadata": {
        "id": "asVGahBPLRi_",
        "colab": {
          "base_uri": "https://localhost:8080/"
        },
        "outputId": "9f058083-91be-4a06-f26e-7febd4e0d896"
      },
      "execution_count": 17,
      "outputs": [
        {
          "output_type": "execute_result",
          "data": {
            "text/plain": [
              "Text (522737 chars), textual(),\n",
              "    train_path, val_path = textual.create_train_val()"
            ]
          },
          "metadata": {},
          "execution_count": 17
        }
      ]
    },
    {
      "cell_type": "markdown",
      "metadata": {
        "id": "I1iDa9dplr2h"
      },
      "source": [
        "### c. Is the size of your dataset large enough to build the baseline model to validate the usefulness and accuracy of the model predictions?\n"
      ]
    },
    {
      "cell_type": "markdown",
      "source": [
        "I have collected 22 books to build the baseline model; \n"
      ],
      "metadata": {
        "id": "-1cNON-aMei7"
      }
    },
    {
      "cell_type": "markdown",
      "metadata": {
        "id": "sYOIkqBuZAm5"
      },
      "source": [
        "### **4. Model Training**"
      ]
    },
    {
      "cell_type": "markdown",
      "metadata": {
        "id": "9z3TG7_8mZJU"
      },
      "source": [
        "We skip the Data Transformation as the Tokenization and Numericalisation happens during the Model Training."
      ]
    },
    {
      "cell_type": "code",
      "metadata": {
        "id": "pnzDFAZZZXCf",
        "colab": {
          "base_uri": "https://localhost:8080/",
          "height": 177,
          "referenced_widgets": [
            "e7a5c3fc993d44b89724c02d10725717",
            "10309db26ede4b3087121d8a94a9cffd",
            "574e962f853848098662c701f2a08965",
            "b894262ba39d42cdb224dbe210ebfcaf",
            "f83001b3fac9463aa49ba9112450a90d",
            "d4b8bc0b46ff42e596a8aea7a4445819",
            "fff6a2386cf54b4f8c3cb8f369babe43",
            "e4b04a5ab8f24974ad619f07ff8ccdc3",
            "2597a79e92da4b7a896110a05cb6c692",
            "9d31c8d18e7a4668ac71241554f19555",
            "25374018cef343e88e49193c71538aad",
            "f7a681c8a9ec427d87582d6c34fc3785",
            "59638a5bcceb46e2a94490572f7d8e16",
            "f0ee688f0a614c34a54203e45797781d",
            "17a2ec985f644cd3abe6f8ab14da899f",
            "9ab0cfc1bb914677b29a5d73b6e60f0d",
            "3e3049b9a9ac48afbcdb066c171e9e8c",
            "6e684c2eb4a84bbc96c6cec002cca7f1",
            "0a57d82b180b4454bd987b6989c78aad",
            "03550082a267453f960518a5b96a4994",
            "1564c169963f40a7b90b899beced9705",
            "9b825652c30b4153b911354e55336568",
            "e22c86e8dcfe451dbece119db452e884",
            "e69a932b5ec049a48e52742f70744e75",
            "b8ba1ffe01c04c1cb6d29b8d94becbe8",
            "6decc2e06d544414a2f9af384ce037f7",
            "391974e3417f406fa65772d973025551",
            "4c12b947224b4088aecfd4137072590a",
            "2ae4f6c515a44f1f96aef3c408d58c4b",
            "b2b7b18625014b64a644c1e68e8a85d0",
            "a37d759c41084d67a76ef118dd6e8661",
            "2e07f6dbf18742a4ad13ab859d6a0426",
            "0499edd02d314c3bae63697b0b900544",
            "d7b816ee778e4ad79861bb6bd2dc530a",
            "90e8859d6c5d40fba242b7b6bda7cbee",
            "81dabf0c690e4b06a1fbeb2a1326652e",
            "d6ec5c2f0e2541e79a1d97f05e3d8ca2",
            "448fdfedc10c4480869152e18b79cb7e",
            "85728252177f4036bd0de4e54f2e8856",
            "3553908d92164b579ec7ed2322de021e",
            "c6c8552741a84f9681d8f65dae61efc9",
            "6a180bd3dd9445e780e1918cd080dbe2",
            "0d190de09f8043368ee68150b73072d7",
            "a7a437bf054a41848f64438446760ade",
            "779e9a57f08949efa23abcc10e503212",
            "c793de5c8be84c05b00c9275ae1f97a4",
            "db88bc65d4c14d5987ee119096509cef",
            "256dd1e0069f44349277e4a023d595df",
            "071c064092344fb0ad67c20329eb78a6",
            "b81cf192d1884ffcb69758c4d8f09fe0",
            "55f576d7a02747d3b872f5507d229aff",
            "6229c05bd8b44f2690c99d7fbeb44bfd",
            "1aaace0a86eb436ebc36203f92a1a85c",
            "1e10dec2ee6c458e90e620dc725ed7b6",
            "e4d0e2eb284d409eab96388bba1c7c7f"
          ]
        },
        "outputId": "134584e2-b7e0-4ce2-d9ed-46b5f1953c82"
      },
      "source": [
        "pretrained_model = pipeline(\"text-generation\", model='gpt2')"
      ],
      "execution_count": 18,
      "outputs": [
        {
          "output_type": "display_data",
          "data": {
            "text/plain": [
              "Downloading:   0%|          | 0.00/665 [00:00<?, ?B/s]"
            ],
            "application/vnd.jupyter.widget-view+json": {
              "version_major": 2,
              "version_minor": 0,
              "model_id": "e7a5c3fc993d44b89724c02d10725717"
            }
          },
          "metadata": {}
        },
        {
          "output_type": "display_data",
          "data": {
            "text/plain": [
              "Downloading:   0%|          | 0.00/548M [00:00<?, ?B/s]"
            ],
            "application/vnd.jupyter.widget-view+json": {
              "version_major": 2,
              "version_minor": 0,
              "model_id": "f7a681c8a9ec427d87582d6c34fc3785"
            }
          },
          "metadata": {}
        },
        {
          "output_type": "display_data",
          "data": {
            "text/plain": [
              "Downloading:   0%|          | 0.00/1.04M [00:00<?, ?B/s]"
            ],
            "application/vnd.jupyter.widget-view+json": {
              "version_major": 2,
              "version_minor": 0,
              "model_id": "e22c86e8dcfe451dbece119db452e884"
            }
          },
          "metadata": {}
        },
        {
          "output_type": "display_data",
          "data": {
            "text/plain": [
              "Downloading:   0%|          | 0.00/456k [00:00<?, ?B/s]"
            ],
            "application/vnd.jupyter.widget-view+json": {
              "version_major": 2,
              "version_minor": 0,
              "model_id": "d7b816ee778e4ad79861bb6bd2dc530a"
            }
          },
          "metadata": {}
        },
        {
          "output_type": "display_data",
          "data": {
            "text/plain": [
              "Downloading:   0%|          | 0.00/1.36M [00:00<?, ?B/s]"
            ],
            "application/vnd.jupyter.widget-view+json": {
              "version_major": 2,
              "version_minor": 0,
              "model_id": "779e9a57f08949efa23abcc10e503212"
            }
          },
          "metadata": {}
        }
      ]
    },
    {
      "cell_type": "markdown",
      "metadata": {
        "id": "hXFzPxONZGu1"
      },
      "source": [
        "### **5. Interpret the model and generate text.**"
      ]
    },
    {
      "cell_type": "code",
      "metadata": {
        "id": "mDmQ23JmZWrn"
      },
      "source": [
        "arguments = TrainingArguments(\n",
        "    output_dir=\"./write_style\",\n",
        "    overwrite_output_dir=True,  \n",
        "    num_train_epochs=3,\n",
        "    per_device_train_batch_size=24,\n",
        "    per_device_eval_batch_size=64,\n",
        "    )"
      ],
      "execution_count": 19,
      "outputs": []
    },
    {
      "cell_type": "code",
      "source": [
        "textual= EvolutionInArt.text"
      ],
      "metadata": {
        "id": "ZXLp21Y2HfVi"
      },
      "execution_count": 26,
      "outputs": []
    },
    {
      "cell_type": "code",
      "source": [
        "s1=\"Tutorials\"\n",
        "s2=\"Point\"\n",
        "s3=s1+s2\n",
        "s4=s1+\" \"+s2\n",
        "print(s3)\n",
        "print(s4)"
      ],
      "metadata": {
        "id": "z7e_xwW-TcTX"
      },
      "execution_count": null,
      "outputs": []
    },
    {
      "cell_type": "code",
      "source": [
        "textual= ArtsandCraftsEssays.text+PrinciplesofDecorativeDesignbyChristopherDresser.text+TheBotanicalMagazineVol02byWilliamCurtis.text+ThePrinciplesofOrnamentbyJamesWard.text+TheBotanicalMagazineVol08byWilliamCurtis.text+EvolutionInArt.text+HardyOrnamentalFloweringTreesandShrubsbyAngusDWebster.text+OriginandDevelopmentofFormandOrnamentinCeramicArtbyWilliamHenryHolmes.text+TalksAboutFlowersbyMrsMDWellcome.text+HistoricOrnamentVol1of2byJamesWard.text+HistoricOrnamentVol2of2byJamesWard.text"
      ],
      "metadata": {
        "id": "E95hE4ieTiMb"
      },
      "execution_count": 34,
      "outputs": []
    },
    {
      "cell_type": "code",
      "source": [
        "str1=\"ArtsandCraftsEssays.text\"\n",
        "str2=\"PrinciplesofDecorativeDesignbyChristopherDresser.text\"\n",
        "str3=\"TheBotanicalMagazineVol02byWilliamCurtis.text\"\n",
        "str4=\"ThePrinciplesofOrnamentbyJamesWard.text\"\n",
        "str5=\"TheBotanicalMagazineVol08byWilliamCurtis.text\"\n",
        "str6=\"EvolutionInArt.text\"\n",
        "str7=\"HardyOrnamentalFloweringTreesandShrubsbyAngusDWebster.text\"\n",
        "str8=\"OriginandDevelopmentofFormandOrnamentinCeramicArtbyWilliamHenryHolmes.text\"\n",
        "str9=\"TalksAboutFlowersbyMrsMDWellcome.text\"\n",
        "str10=\"HistoricOrnamentVol1of2byJamesWard.text’\"\n",
        "str11=\"HistoricOrnamentVol2of2byJamesWard.text\"\n",
        "File_object.writelines(L) for L = [str1, str2, str3, str4, str5, str6, str7, str8, str9, str10, str11] \n",
        "\n",
        "# Opening a file\n",
        "file1 = open(\"ArtsandCraftsEssays.text\", \"PrinciplesofDecorativeDesignbyChristopherDresser.text\", \"TheBotanicalMagazineVol02byWilliamCurtis.text\", \"ThePrinciplesofOrnamentbyJamesWard.text\", \"TheBotanicalMagazineVol08byWilliamCurtis.text\", \"EvolutionInArt.text\", \"HardyOrnamentalFloweringTreesandShrubsbyAngusDWebster.text\", \"OriginandDevelopmentofFormandOrnamentinCeramicArtbyWilliamHenryHolmes.text\", \"TalksAboutFlowersbyMrsMDWellcome.text\", \"HistoricOrnamentVol1of2byJamesWard.text\", \"HistoricOrnamentVol2of2byJamesWard.text\"\n",
        ")\n",
        "L = textual\n",
        "  \n",
        "# Writing multiple strings\n",
        "# at a time\n",
        "file1.writelines(L)"
      ],
      "metadata": {
        "colab": {
          "base_uri": "https://localhost:8080/",
          "height": 525
        },
        "id": "4CbnSb9zdf4W",
        "outputId": "6a700810-f4e8-4312-82f2-fee5260dedd0"
      },
      "execution_count": 34,
      "outputs": [
        {
          "output_type": "display_data",
          "data": {
            "text/plain": [
              "<IPython.core.display.HTML object>"
            ],
            "text/html": [
              "<div>\n",
              "    <html>\n",
              "    <head>\n",
              "        <meta name=\"viewport\"\n",
              "        content=\"width=device-width, initial-scale=1\">\n",
              "    </head>\n",
              "    <body>\n",
              "        <a download=\"npakai_SyntaxError_0718_085910.html\" href=\"data:text/html;base64,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\" >\n",
              "    <button class=\"p-Widget jupyter-widgets jupyter-button widget-button mod-success\">\n",
              "        🦋 Download Report</button>\n",
              "    </a>\n",
              "    </body>\n",
              "</html> <span>Download error report and consult a mentor/TA</span>\n",
              "</div>\n",
              "<h2>🐞 [SyntaxError] Happened, Don't Panic</h2>\n",
              "\n",
              "<h3>🎸 UnpackAI Tips:</h3>\n",
              "<hr>\n",
              "<quote>\n",
              "    \n",
              "<h5>There is a <strong>grammatical</strong> error in your python code</h5>\n",
              "<p>Please check the following</p>\n",
              "<p>Every '(' or '[' or '{' or '\"' or ' was closed with properly</p>\n",
              "<p>':' should be followed by a new line with 1 extra <strong>indent</strong> (4 spaces)</p>\n",
              "<p>or other grammatical errors, please check traceback below for clue, usually <strong>near ^ mark</strong></p>\n",
              "\n",
              "</quote>\n",
              "<hr>\n",
              "\n",
              "<h3>🤔 Default message:</h3>\n",
              "<hr>\n",
              "<quote>\n",
              "    invalid syntax (<ipython-input-35-a75a2dc12757>, line 12)\n",
              "</quote>\n",
              "<hr>\n",
              "<h3>Traceback Info</h3>"
            ]
          },
          "metadata": {}
        },
        {
          "output_type": "stream",
          "name": "stdout",
          "text": [
            "Traceback \u001b[1;36m(most recent call last)\u001b[0m:\n",
            "\u001b[1;36m  File \u001b[1;32m\"/usr/local/lib/python3.7/dist-packages/IPython/core/compilerop.py\"\u001b[1;36m, line \u001b[1;32m100\u001b[1;36m, in \u001b[1;35mast_parse\u001b[1;36m\u001b[0m\n",
            "\u001b[1;33m    return compile(source, filename, symbol, self.flags | PyCF_ONLY_AST, 1)\u001b[0m\n",
            "\u001b[1;36m  File \u001b[1;32m\"<ipython-input-35-a75a2dc12757>\"\u001b[1;36m, line \u001b[1;32m12\u001b[0m\n",
            "\u001b[1;33m    File_object.writelines(L) for L = [str1, str2, str3, str4, str5, str6, str7, str8, str9, str10, str11]\u001b[0m\n",
            "\u001b[1;37m                                ^\u001b[0m\n",
            "\u001b[1;31mSyntaxError\u001b[0m\u001b[1;31m:\u001b[0m invalid syntax\n",
            "\n"
          ]
        }
      ]
    },
    {
      "cell_type": "code",
      "source": [
        "File_object.writelines(L) for L = [str1, str2, str3] \n",
        "\n",
        "# Opening a file\n",
        "file1 = open('myfile.txt', 'w')\n",
        "L = [\"This is Delhi \\n\", \"This is Paris \\n\", \"This is London \\n\"]\n",
        "s = \"Hello\\n\"\n",
        "  \n",
        "  \n",
        "# Writing multiple strings\n",
        "# at a time\n",
        "file1.writelines(L)"
      ],
      "metadata": {
        "id": "o-6U0cSidL27"
      },
      "execution_count": null,
      "outputs": []
    },
    {
      "cell_type": "code",
      "source": [
        "path.ls()"
      ],
      "metadata": {
        "colab": {
          "base_uri": "https://localhost:8080/",
          "height": 291
        },
        "id": "BXzHXW-QZoeE",
        "outputId": "b133e5a8-4169-469e-c468-5536a664d0de"
      },
      "execution_count": 32,
      "outputs": [
        {
          "output_type": "display_data",
          "data": {
            "text/plain": [
              "<IPython.core.display.HTML object>"
            ],
            "text/html": [
              "<div>\n",
              "    <html>\n",
              "    <head>\n",
              "        <meta name=\"viewport\"\n",
              "        content=\"width=device-width, initial-scale=1\">\n",
              "    </head>\n",
              "    <body>\n",
              "        <a download=\"npakai_NameError_0718_082214.html\" href=\"data:text/html;base64,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\" >\n",
              "    <button class=\"p-Widget jupyter-widgets jupyter-button widget-button mod-success\">\n",
              "        🦋 Download Report</button>\n",
              "    </a>\n",
              "    </body>\n",
              "</html> <span>Download error report and consult a mentor/TA</span>\n",
              "</div>\n",
              "<h2>🐞 [NameError] Happened, Don't Panic</h2>\n",
              "\n",
              "<h3>🤔 Default message:</h3>\n",
              "<hr>\n",
              "<quote>\n",
              "    name 'path' is not defined\n",
              "</quote>\n",
              "<hr>\n",
              "<h3>Traceback Info</h3>"
            ]
          },
          "metadata": {}
        },
        {
          "output_type": "stream",
          "name": "stdout",
          "text": [
            "Traceback \u001b[1;36m(most recent call last)\u001b[0m:\n",
            "\u001b[1;36m  File \u001b[1;32m\"<ipython-input-32-4e20bcf9cc48>\"\u001b[1;36m, line \u001b[1;32m1\u001b[1;36m, in \u001b[1;35m<module>\u001b[1;36m\u001b[0m\n",
            "\u001b[1;33m    path.ls()\u001b[0m\n",
            "\u001b[1;31mNameError\u001b[0m\u001b[1;31m:\u001b[0m name 'path' is not defined\n",
            "\n"
          ]
        }
      ]
    },
    {
      "cell_type": "code",
      "source": [
        "!pwd"
      ],
      "metadata": {
        "colab": {
          "base_uri": "https://localhost:8080/"
        },
        "id": "4AhBi1qEayGh",
        "outputId": "e6324771-1391-4ae4-a6d6-5be62ffc06bc"
      },
      "execution_count": 33,
      "outputs": [
        {
          "output_type": "stream",
          "name": "stdout",
          "text": [
            "/content\n"
          ]
        }
      ]
    },
    {
      "cell_type": "code",
      "source": [
        "trainer = textual.get_hf_trainer(\n",
        "    model=pretrained_model.model,\n",
        "    tokenizer = pretrained_model.tokenizer,\n",
        "    arguments = arguments\n",
        "    )"
      ],
      "metadata": {
        "colab": {
          "base_uri": "https://localhost:8080/",
          "height": 291
        },
        "id": "kwUUSAVq1k52",
        "outputId": "2e258d08-b2d9-4868-b330-b9f4a45fc414"
      },
      "execution_count": 31,
      "outputs": [
        {
          "output_type": "display_data",
          "data": {
            "text/plain": [
              "<IPython.core.display.HTML object>"
            ],
            "text/html": [
              "<div>\n",
              "    <html>\n",
              "    <head>\n",
              "        <meta name=\"viewport\"\n",
              "        content=\"width=device-width, initial-scale=1\">\n",
              "    </head>\n",
              "    <body>\n",
              "        <a download=\"npakai_AttributeError_0718_075953.html\" href=\"data:text/html;base64,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\" >\n",
              "    <button class=\"p-Widget jupyter-widgets jupyter-button widget-button mod-success\">\n",
              "        🦋 Download Report</button>\n",
              "    </a>\n",
              "    </body>\n",
              "</html> <span>Download error report and consult a mentor/TA</span>\n",
              "</div>\n",
              "<h2>🐞 [AttributeError] Happened, Don't Panic</h2>\n",
              "\n",
              "<h3>🤔 Default message:</h3>\n",
              "<hr>\n",
              "<quote>\n",
              "    'str' object has no attribute 'get_hf_trainer'\n",
              "</quote>\n",
              "<hr>\n",
              "<h3>Traceback Info</h3>"
            ]
          },
          "metadata": {}
        },
        {
          "output_type": "stream",
          "name": "stdout",
          "text": [
            "Traceback \u001b[1;36m(most recent call last)\u001b[0m:\n",
            "\u001b[1;36m  File \u001b[1;32m\"<ipython-input-31-4143b9945a74>\"\u001b[1;36m, line \u001b[1;32m1\u001b[1;36m, in \u001b[1;35m<module>\u001b[1;36m\u001b[0m\n",
            "\u001b[1;33m    trainer = textual.get_hf_trainer(\u001b[0m\n",
            "\u001b[1;31mAttributeError\u001b[0m\u001b[1;31m:\u001b[0m 'str' object has no attribute 'get_hf_trainer'\n",
            "\n"
          ]
        }
      ]
    },
    {
      "cell_type": "code",
      "source": [
        ""
      ],
      "metadata": {
        "id": "jbCtp6iNHd0p"
      },
      "execution_count": null,
      "outputs": []
    },
    {
      "cell_type": "code",
      "source": [
        "trainer.train()"
      ],
      "metadata": {
        "id": "jQYmFADe12YS"
      },
      "execution_count": null,
      "outputs": []
    },
    {
      "cell_type": "code",
      "source": [
        "trainer.save_model()"
      ],
      "metadata": {
        "id": "pnCZG4xy2whe"
      },
      "execution_count": null,
      "outputs": []
    },
    {
      "cell_type": "code",
      "source": [
        "style_writer = pipeline('text-generation',\n",
        "                        model='./write_style',\n",
        "                        tokenizer=pretrained_model.tokenizer\n",
        "                        )"
      ],
      "metadata": {
        "id": "ahuEatAN22ET"
      },
      "execution_count": null,
      "outputs": []
    },
    {
      "cell_type": "code",
      "source": [
        "style_writer(\"How to design botanical pattern?\",\n",
        "            max_length=150,\n",
        "            num_return_sequences=1)"
      ],
      "metadata": {
        "colab": {
          "base_uri": "https://localhost:8080/"
        },
        "id": "FcuHOsd23TO3",
        "outputId": "3d58e6bb-2e1f-4900-9fa1-0b4462deee64"
      },
      "execution_count": null,
      "outputs": [
        {
          "output_type": "stream",
          "name": "stderr",
          "text": [
            "Using pad_token, but it is not set yet.\n",
            "Setting `pad_token_id` to `eos_token_id`:50256 for open-end generation.\n"
          ]
        },
        {
          "output_type": "execute_result",
          "data": {
            "text/plain": [
              "[{'generated_text': 'How to design botanical pattern? This is the first book that directly addresses this subject.  This introduction provides a more technical, more elegant explanation than the usual work of the botanists, and, with its many references, is perhaps best produced in a form which will be freely available to the general public.  While the general method of the manufacture of flowers may be described in more detail elsewhere, in detail a description of how one plants leaves flowers with respect to their parent or object must still be given.  Although many useful tips and exercises are found in the preceding volumes, they should not be neglected if a suitable system are to be developed.  This book is being written for general purposes, not suited for those of ornamental design,'}]"
            ]
          },
          "metadata": {},
          "execution_count": 30
        }
      ]
    },
    {
      "cell_type": "code",
      "source": [
        "style_writer(\"How to design pattern in william morris style?\",\n",
        "            max_length=150,\n",
        "            num_return_sequences=1)"
      ],
      "metadata": {
        "id": "RFvXSwU7WWu-",
        "outputId": "56278bc5-6836-4dcd-abff-2e471d8073ea",
        "colab": {
          "base_uri": "https://localhost:8080/"
        }
      },
      "execution_count": null,
      "outputs": [
        {
          "output_type": "stream",
          "name": "stderr",
          "text": [
            "Using pad_token, but it is not set yet.\n",
            "Setting `pad_token_id` to `eos_token_id`:50256 for open-end generation.\n"
          ]
        },
        {
          "output_type": "execute_result",
          "data": {
            "text/plain": [
              "[{'generated_text': \"How to design pattern in william morris style? Flowers, with white heads and yellow-white berries, are produced from December till April in these beautiful forms. Each shoots four feet high, and grows from about one foot deep. They are very valuable early-growing varieties, and produced not only at our garden plants, but as also being of great value in the making of decorative shrubs, and in the growing centre of the walls of houses.  WILLIAM HUGBETTS (_syn Japonica_).--Common Willingham's Cabbage. North America. 2 vols., London. 416 or 417 c.  WILLIAM HUGBETTS (_syn Japonica_).--Japanese Green\"}]"
            ]
          },
          "metadata": {},
          "execution_count": 31
        }
      ]
    },
    {
      "cell_type": "code",
      "source": [
        "style_writer(\"How to decorate the wall in living room with Botanical pattern in william morris style?\",\n",
        "            max_length=150,\n",
        "            num_return_sequences=1)"
      ],
      "metadata": {
        "id": "5HoS8FVUX0qf",
        "outputId": "8fa3891c-cd45-40d9-dc60-b706526fa653",
        "colab": {
          "base_uri": "https://localhost:8080/"
        }
      },
      "execution_count": null,
      "outputs": [
        {
          "output_type": "stream",
          "name": "stderr",
          "text": [
            "Using pad_token, but it is not set yet.\n",
            "Setting `pad_token_id` to `eos_token_id`:50256 for open-end generation.\n"
          ]
        },
        {
          "output_type": "execute_result",
          "data": {
            "text/plain": [
              "[{'generated_text': 'How to decorate the wall in living room with Botanical pattern in william morris style?  The only practical way to do this is by hanging it onto a wall. The larger the wall, the more interesting the flowers will become.  For the younger generations, these flowers should be planted to the inside of a window sill or hanging box.  The decorative flowers are arranged in clusters. The leaves of the flower-bearing flowers are produced in clusters.  Flowers that are larger are usually well-known shrubs like The Botanical Nursery of Wales, or the Almond Tree of the Isles, where they are produced in clusters.   A large number of ornamental flowers usually fall into the branches of this family, but not'}]"
            ]
          },
          "metadata": {},
          "execution_count": 32
        }
      ]
    },
    {
      "cell_type": "code",
      "source": [
        "style_writer(\"How to decorate the wall in the corridor with pattern in William Morris’s style?\",\n",
        "             max_length=100,\n",
        "             num_return_sequences=1)"
      ],
      "metadata": {
        "id": "1EvoCkAqx1Wb"
      },
      "execution_count": null,
      "outputs": []
    },
    {
      "cell_type": "markdown",
      "source": [
        "### **6. Model's input and output**"
      ],
      "metadata": {
        "id": "-df_Q4iAhhKK"
      }
    },
    {
      "cell_type": "markdown",
      "source": [
        "Your ML model's output comes back to what machine learning task you initially selected. Supervised machine learning tasks require labeled datasets (x and y) for the ML model to learn how to map your data (x) to the desired output/label (y).\n",
        "Please describe your data labels (you can also insert the actual example of the label) and discuss if the model output satisfies the project's objective. "
      ],
      "metadata": {
        "id": "Zx1lgipThnt8"
      }
    },
    {
      "cell_type": "markdown",
      "source": [
        "What data type and format (e.g. jpeg images, csv file, pdf file) will you utilize for data pre-processing before you feed them for model training? <br>\n",
        "The data type and format I'm using for the pre-processing is .txt file; <br>\n",
        "x=\"How to design botanical pattern?\" <br>\n",
        "x=\"How to design pattern in william morris style?\" <br>\n",
        "x=\"How to decorate the wall in living room with Botanical pattern in william morris style?\" <br>\n"
      ],
      "metadata": {
        "id": "gzxhkQxkhscJ"
      }
    },
    {
      "cell_type": "markdown",
      "source": [
        "What's your data label? What do you want to predict? <br>\n",
        "I want to predict that the trained text geneator can answer user's questions or predict what they're looking for by user's inputed keywords; <br>\n",
        "y= \"max_length=150\""
      ],
      "metadata": {
        "id": "YunkX5SLhxGb"
      }
    },
    {
      "cell_type": "markdown",
      "source": [
        "### 7. What metrics explain your model performance?"
      ],
      "metadata": {
        "id": "GzZOM_emh0xc"
      }
    },
    {
      "cell_type": "markdown",
      "source": [
        "First think in terms of \"Business Metrics\" or business/practical objectives, not technical metrics. Then apply this thinking to figuring out one or a combination of ML evaluation metrics and human readable metrics that match the business objectives. <br>\n",
        "For example, for an image classification model to evaluate its prediction results you could use error rate or accuracy, while confusion matrix can be better in explaining how model performs on a particular class. <br>\n",
        "To learn about the metrics for NLP-related problems, please check: Hugging Face <br>\n",
        "For general classification and regression problems, please check: neptune.ai's blog <br>"
      ],
      "metadata": {
        "id": "GoI7vAe8h9Nc"
      }
    },
    {
      "cell_type": "markdown",
      "source": [
        "1. What are non-ML baselines you can consider as reference for a model performance?"
      ],
      "metadata": {
        "id": "sKM8s5RIiEAg"
      }
    },
    {
      "cell_type": "markdown",
      "source": [
        "2. What are your model evaluation metrics and why?\n",
        "\n",
        "*   Syntactically acctuate\n",
        "*   Formal grammar accruate\n",
        "*   Personal perception"
      ],
      "metadata": {
        "id": "b_qCC5NfiG3n"
      }
    },
    {
      "cell_type": "markdown",
      "source": [
        "3. Is the metric you selected intuitive enough to communicate the results of the model training to non-ML guys? <br>\n",
        "I'm not sure as I think the result so far is not bad, but it can be better with more data;"
      ],
      "metadata": {
        "id": "VFF3oUopiJnc"
      }
    },
    {
      "cell_type": "markdown",
      "source": [
        "4. Can your metric explain model's biases? <br>\n",
        "It defintelly can, as the data I've been feeding only covers certain styles of the design; more comprehensive data is needed to make the output more neutral and no biases;\n"
      ],
      "metadata": {
        "id": "clonmgRGiKex"
      }
    }
  ]
}